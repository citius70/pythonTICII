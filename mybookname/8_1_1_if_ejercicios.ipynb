{
 "cells": [
  {
   "cell_type": "markdown",
   "id": "5affbd05-a728-4a53-ae7b-63961cb918fb",
   "metadata": {},
   "source": [
    "# Ejercicios sobre la sentencia if...elif...else"
   ]
  },
  {
   "cell_type": "markdown",
   "id": "a4b53322-0737-47dd-bd43-4985f6dfcf5c",
   "metadata": {},
   "source": [
    "## Ejercicio resuelto: Verificación de Mayoría de Edad\n",
    "\n",
    "Programa que pida al usuario su edad y verifique si es mayor de edad (18 años o más)."
   ]
  },
  {
   "cell_type": "code",
   "execution_count": null,
   "id": "465673c7-9b97-4e99-a09d-79e56ba34a97",
   "metadata": {},
   "outputs": [],
   "source": [
    "# Solicitar la edad del usuario\n",
    "edad = int(input(\"¿Cuál es tu edad? \"))\n",
    "\n",
    "# Verificar si es mayor de edad\n",
    "if edad >= 18:\n",
    "    print(\"Puedes votar, eres mayor de edad.\")\n",
    "else:\n",
    "    print(\"No puedes votar, eres menor de edad.\")"
   ]
  },
  {
   "cell_type": "markdown",
   "id": "a816a406-7ff7-4c6b-8664-2ce216f55321",
   "metadata": {},
   "source": [
    "## Ejercicio 1: Calificación\n",
    "Escribe un programa que pida al usuario una calificación (de 0 a 10) y determine si ha aprobado (5 o más) o no."
   ]
  },
  {
   "cell_type": "code",
   "execution_count": null,
   "id": "5ec630a3-331a-4ab4-b248-b042d84bd5ef",
   "metadata": {},
   "outputs": [],
   "source": [
    "# Solicitar la calificación al usuario\n",
    "\n",
    "# Verificar si ha aprobado o no\n"
   ]
  },
  {
   "cell_type": "markdown",
   "id": "ddd11fc0-28fa-4634-ba68-1ec3595f0436",
   "metadata": {},
   "source": [
    "## Ejercicio 2: Número Par o Impar\n",
    "Escribe un programa que pida al usuario un número y determine si es par o impar."
   ]
  },
  {
   "cell_type": "code",
   "execution_count": null,
   "id": "85a800f6-b58b-4cea-aad9-c0be03680c7e",
   "metadata": {},
   "outputs": [],
   "source": [
    "# Solicitar un número al usuario\n",
    "numero = int(input(\"Ingresa un número: \"))\n",
    "\n",
    "# Verificar si el número es par o impar. Descomenta las líneas\n",
    "# if ??????????????\n",
    "   # print(f\"{numero} es un número par.\")\n",
    "# else:\n",
    "   # ?????????????????"
   ]
  },
  {
   "cell_type": "markdown",
   "id": "9669e464-4a8b-4ba7-8bb2-1b1d64979689",
   "metadata": {},
   "source": [
    "## Ejercicio 4: Comparación de Números\n",
    "Escribe un programa que pida al usuario dos números y determine cuál es mayor, o si son iguales."
   ]
  },
  {
   "cell_type": "code",
   "execution_count": null,
   "id": "9add9271-7b7d-4696-9413-e527a3cea146",
   "metadata": {},
   "outputs": [],
   "source": [
    "# Solicitar dos números al usuario. Convertirlos en float\n",
    "\n",
    "# Comparar los números\n"
   ]
  },
  {
   "cell_type": "markdown",
   "id": "c9f9b42f-e52c-4835-a7fd-b2d6245684e9",
   "metadata": {},
   "source": [
    "## Ejercicio 5: Clasificación de Edad\n",
    "Escribe un programa que pida al usuario su edad y clasifique en \"niño\", \"adolescente\", \"adulto\" o \"anciano\"."
   ]
  },
  {
   "cell_type": "code",
   "execution_count": null,
   "id": "b005c1a3-3b6d-42a0-90ed-bb3c9a023435",
   "metadata": {},
   "outputs": [],
   "source": [
    "# Solicitar la edad del usuario\n",
    "edad = int(input(\"¿Cuál es tu edad? \"))\n",
    "\n",
    "# Clasificar la edad\n"
   ]
  }
 ],
 "metadata": {
  "kernelspec": {
   "display_name": "Python 3 (ipykernel)",
   "language": "python",
   "name": "python3"
  },
  "language_info": {
   "codemirror_mode": {
    "name": "ipython",
    "version": 3
   },
   "file_extension": ".py",
   "mimetype": "text/x-python",
   "name": "python",
   "nbconvert_exporter": "python",
   "pygments_lexer": "ipython3",
   "version": "3.12.8"
  }
 },
 "nbformat": 4,
 "nbformat_minor": 5
}
