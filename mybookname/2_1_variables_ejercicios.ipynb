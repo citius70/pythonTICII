{
 "cells": [
  {
   "cell_type": "markdown",
   "id": "e2cb7bb1-9cc1-45f5-97cf-3d27d472b822",
   "metadata": {},
   "source": [
    "# Ejercicios de Variables\n",
    "En este notebook, practicarás la asignación de variables en Python. Completa los ejercicios a continuación."
   ]
  },
  {
   "cell_type": "markdown",
   "id": "1ae29fb6-7d06-4c2a-ae4b-c1e13724ce46",
   "metadata": {
    "editable": false,
    "panel-layout": {
     "height": 205.486,
     "visible": true,
     "width": 100
    },
    "slideshow": {
     "slide_type": "slide"
    },
    "tags": []
   },
   "source": [
    "## Ejercicio 1: Asignación de un Número a una Variable\n",
    "Ejemplo: Aquí se asigna el valor `25` a la variable `edad`. Después se muestra el valor de la variable.\n",
    "```python\n",
    "# Ejemplo\n",
    "edad = 25 \n",
    "edad"
   ]
  },
  {
   "cell_type": "code",
   "execution_count": 7,
   "id": "152784d4-b0f9-4743-89d7-2a741973893d",
   "metadata": {
    "editable": true,
    "slideshow": {
     "slide_type": ""
    },
    "tags": []
   },
   "outputs": [],
   "source": [
    "# Ejercicio. Crea una variable age y asígnale tu edad.. \n",
    "# Escribe tu código aquí:"
   ]
  },
  {
   "cell_type": "markdown",
   "id": "34076fe7-8bfa-43a9-a072-60df87821d0b",
   "metadata": {
    "editable": true,
    "panel-layout": {
     "height": 188.351,
     "visible": true,
     "width": 100
    },
    "slideshow": {
     "slide_type": "slide"
    },
    "tags": []
   },
   "source": [
    "\n",
    "## Ejercicio 2: Asignación de un Texto\n",
    "Ejemplo: Se asigna el valor `Juan` a la variable `nombre`. Luego, muestra el valor de la variable.\n",
    "```python\n",
    "# Ejemplo\n",
    "nombre = \"Juan\"\n",
    "nombre"
   ]
  },
  {
   "cell_type": "code",
   "execution_count": 9,
   "id": "17496e5c-e813-45e7-9f61-eab38ea67f96",
   "metadata": {
    "editable": true,
    "slideshow": {
     "slide_type": ""
    },
    "tags": []
   },
   "outputs": [],
   "source": [
    "# Ejercicio. Crea una variable name y asígnale el valor de tu nombre. \n",
    "# Escribe tu código aquí:"
   ]
  },
  {
   "cell_type": "markdown",
   "id": "32ff97db-a1af-4ce3-985e-54b3a4d4fc12",
   "metadata": {
    "editable": true,
    "slideshow": {
     "slide_type": ""
    },
    "tags": []
   },
   "source": [
    "## Ejercicio 3: \n",
    "Selecciona un nombre apropiado para una variable que almacene tu nombre y apellidos, utilizando los estilos **snake_case** y **camelCase**."
   ]
  },
  {
   "cell_type": "code",
   "execution_count": 11,
   "id": "f56b4c63-692b-4ab7-a186-b0119fbf8e21",
   "metadata": {
    "editable": true,
    "slideshow": {
     "slide_type": ""
    },
    "tags": []
   },
   "outputs": [],
   "source": [
    "# Escribe tu código aquí:"
   ]
  },
  {
   "cell_type": "markdown",
   "id": "24accf13-d1fe-4703-a662-a47c62b04dea",
   "metadata": {
    "editable": true,
    "panel-layout": {
     "height": 222.622,
     "visible": true,
     "width": 100
    },
    "slideshow": {
     "slide_type": "slide"
    },
    "tags": []
   },
   "source": [
    "## Ejercicio 4: Asignación de una Lista\n",
    "Ejemplo: Se crea una variable llamada `frutas` y se asigna una lista de tus frutas favoritas. Luego, muestra el valor de la variable.\n",
    "```python\n",
    "# Ejemplo\n",
    "frutas = [\"manzana\", \"banana\", \"naranja\"]  # Agrega tus frutas favoritas\n",
    "frutas"
   ]
  },
  {
   "cell_type": "code",
   "execution_count": 13,
   "id": "86d8a8ee-b543-4a1d-b5b6-593aa0f0c605",
   "metadata": {
    "editable": true,
    "slideshow": {
     "slide_type": ""
    },
    "tags": []
   },
   "outputs": [],
   "source": [
    "# Ejercicio 1. Crea una variable canciones y asígnale una lista de tres canciones. \n",
    "# Escribe tu código aquí:\n",
    "\n",
    "# Ejercicio 2: Crea una variable notas_asignaturas y asígnale cuatro calificaciones.\n",
    "# Escribe tu código aquí:"
   ]
  },
  {
   "cell_type": "markdown",
   "id": "365044d3-5f2c-47e7-91d9-dcb1e85a1318",
   "metadata": {
    "editable": true,
    "panel-layout": {
     "height": 205.486,
     "visible": true,
     "width": 100
    },
    "slideshow": {
     "slide_type": "slide"
    },
    "tags": []
   },
   "source": [
    "## Ejercicio 5: Asignación de Múltiples Variables en una línea\n",
    "Ejemplo: Se asigna valores a tres variables diferentes: `x`, `y`, y `z`. Luego, muestra el valor de cada variable.\n",
    "```python\n",
    "# Ejemplo\n",
    "x, y, z = 10, 20, 30  # Asigna valores a x, y, z\n",
    "x, y, z"
   ]
  },
  {
   "cell_type": "code",
   "execution_count": 15,
   "id": "a6bd4cee-8bb7-46b9-8730-d50b69aa4115",
   "metadata": {},
   "outputs": [],
   "source": [
    "# Ejercicio. Crea tres variables notaMusica, notaHistoria, notaMAtematicas y asíganales tres valores. \n",
    "# Escribe tu código aquí:"
   ]
  },
  {
   "cell_type": "markdown",
   "id": "9a6f3c73-cdde-434f-87ff-85b0360ba4ce",
   "metadata": {
    "editable": true,
    "panel-layout": {
     "height": 222.622,
     "visible": true,
     "width": 100
    },
    "slideshow": {
     "slide_type": "slide"
    },
    "tags": []
   },
   "source": [
    "## Ejercicio 6: Incremento de Variables\n",
    "Ejemplo: Se crea una variable llamada `contador` y se le asigna el valor 0. Luego, incrementa su valor en 1 y muestra el nuevo valor.\n",
    "```python\n",
    "# Escribe tu código aquí\n",
    "contador = 0\n",
    "contador += 1  # Incrementa el contador\n",
    "contador"
   ]
  },
  {
   "cell_type": "code",
   "execution_count": 17,
   "id": "cdad353b-09a5-4812-8107-0f3c553056bb",
   "metadata": {
    "editable": true,
    "slideshow": {
     "slide_type": ""
    },
    "tags": []
   },
   "outputs": [],
   "source": [
    "# Ejercicio 1. Crea una variable conteo y asígnale el valor 10. Luego, incrementa su valor en 2. Muestra su valor.\n",
    "# Escribe tu código aquí:\n",
    "\n",
    "# Ejercicio 2. Crea una variable decrimento y asígnale el valor 7. Luego, decrementa su valor en 3. Muestra su valor.\n",
    "# Escribe tu código aquí:"
   ]
  },
  {
   "cell_type": "markdown",
   "id": "7f47d74a-da4a-45b5-b400-d525d8083fc8",
   "metadata": {
    "editable": true,
    "panel-layout": {
     "height": 240.313,
     "visible": true,
     "width": 100
    },
    "slideshow": {
     "slide_type": "slide"
    },
    "tags": []
   },
   "source": [
    "## Ejercicio 7: Concatenación de Cadenas\n",
    "\n",
    "Ejeemplo: Crea dos variables de texto, `saludo` y `nombre`, y luego crea una nueva variable llamada `mensaje` que combine ambas. Muestra el mensaje.\n",
    "```python\n",
    "# Escribe tu código aquí\n",
    "saludo = \"Hola\"\n",
    "nombre = \"Juan\"\n",
    "mensaje = saludo + \", \" + nombre + \"!\"\n",
    "mensaje"
   ]
  },
  {
   "cell_type": "code",
   "execution_count": 19,
   "id": "51dacd5f-2798-4720-a843-322046ee346e",
   "metadata": {},
   "outputs": [],
   "source": [
    "# Ejercicio. Crea una variable name con tu nombre y otra age con tu edad. Ahora una variable frase que combine las anteriores. \n",
    "# Escribe tu código aquí:\n"
   ]
  },
  {
   "cell_type": "markdown",
   "id": "29f561cb-8eae-4977-9ac0-32c8964f0560",
   "metadata": {
    "editable": true,
    "panel-layout": {
     "height": 95.3299,
     "visible": true,
     "width": 100
    },
    "slideshow": {
     "slide_type": ""
    },
    "tags": []
   },
   "source": [
    "### Conclusión\n",
    "\n",
    "En este notebook, has practicado la asignación de variables en Python. Puedes intentar crear más variables y experimentar con diferentes tipos de datos."
   ]
  }
 ],
 "metadata": {
  "kernelspec": {
   "display_name": "Python (conda-base-py)",
   "language": "python",
   "name": "conda-base-py"
  },
  "language_info": {
   "codemirror_mode": {
    "name": "ipython",
    "version": 3
   },
   "file_extension": ".py",
   "mimetype": "text/x-python",
   "name": "python",
   "nbconvert_exporter": "python",
   "pygments_lexer": "ipython3",
   "version": "3.12.8"
  },
  "panel-cell-order": [
   "3d10e06c-622d-42e3-bced-96ed9fae5f3f",
   "1ae29fb6-7d06-4c2a-ae4b-c1e13724ce46",
   "34076fe7-8bfa-43a9-a072-60df87821d0b",
   "24accf13-d1fe-4703-a662-a47c62b04dea",
   "365044d3-5f2c-47e7-91d9-dcb1e85a1318",
   "9a6f3c73-cdde-434f-87ff-85b0360ba4ce",
   "7f47d74a-da4a-45b5-b400-d525d8083fc8",
   "29f561cb-8eae-4977-9ac0-32c8964f0560"
  ],
  "toc": {
   "base_numbering": 1
  }
 },
 "nbformat": 4,
 "nbformat_minor": 5
}
