{
 "cells": [
  {
   "cell_type": "markdown",
   "metadata": {
    "id": "jAR5E7AJuFw_"
   },
   "source": [
    "# Estructuras condicionales: if, elif y else"
   ]
  },
  {
   "cell_type": "markdown",
   "metadata": {},
   "source": [
    "En Python, las estructuras **condicionales**, como `if` **se usan para ejecutar un bloque de código si cierta condición es verdadera**, permitiendo controlar el flujo de tu programa. Es una de las estructuras de control más utilizadas en programación.\n",
    "Python utiliza las palabras clave **if**, **elif** (que significa \"else if\") y **else** para controlar los condicionales."
   ]
  },
  {
   "cell_type": "markdown",
   "metadata": {},
   "source": [
    "## Estructura if"
   ]
  },
  {
   "cell_type": "markdown",
   "metadata": {},
   "source": [
    "La estructura `if` se utiliza para ejecutar un bloque de código **si una condición es verdadera**.\n",
    "<img src=\"https://www.c-programming-simple-steps.com/images/xif-statement-flow-chart.png.pagespeed.ic.AVRTSeXOUV.webp\" style=\"width: 200px; display: block; margin: auto;\">\n",
    "La sintaxis básica es la siguiente:\n",
    "```python\n",
    "if condicion:\n",
    "    # bloque de código si la condición es verdadera\n",
    "```"
   ]
  },
  {
   "cell_type": "markdown",
   "metadata": {},
   "source": [
    "Por ejemplo, podemos utilizar un `if` para verificar si un **número es mayor que 0**:"
   ]
  },
  {
   "cell_type": "code",
   "execution_count": 1,
   "metadata": {},
   "outputs": [
    {
     "name": "stdout",
     "output_type": "stream",
     "text": [
      "Cierto. El número es mayor que 0\n"
     ]
    }
   ],
   "source": [
    "numero = 5\n",
    "\n",
    "if numero > 0:\n",
    "    print (\"Cierto. El número es mayor que 0\")"
   ]
  },
  {
   "cell_type": "markdown",
   "metadata": {},
   "source": [
    "El código asigna el valor `5` a la variable `numero` (numero = 5) y luego utiliza una estructura condicional `if` para verificar si el valor de `numero` es mayor que 0 (if numero > 0). Si la condición se cumple (como en este caso, porque `5 > 0`), se ejecuta el bloque de código asociado, que imprime el mensaje **\"Cierto. El número es mayor que 0\"** en la consola. \n",
    "\n",
    "Si la condición no se cumpliera (por ejemplo, si `numero` fuera `0` o un valor negativo), el bloque de código dentro del `if` no se ejecutaría, y no se mostraría ningún mensaje."
   ]
  },
  {
   "cell_type": "markdown",
   "metadata": {},
   "source": [
    "## Estructura if...else"
   ]
  },
  {
   "cell_type": "markdown",
   "metadata": {},
   "source": [
    "La estructura `else` siempre va asociada a la estructura `if`. Se utiliza para **ejecutar un bloque de código cuando la condición en el if es falsa**. \n",
    "<img src=\"https://www.c-programming-simple-steps.com/images/xif-else-statement-flow-chart.png.pagespeed.ic.Z9mIxeupR_.webp\" style=\"width: 300px; display: block; margin: auto;\">\n",
    "La sintaxis es la siguiente:\n",
    "```python\n",
    "if condicion:\n",
    "    # bloque de código si la condición es verdadera\n",
    "else:\n",
    "    # bloque de código si la condición es falsa\n",
    "```"
   ]
  },
  {
   "cell_type": "markdown",
   "metadata": {},
   "source": [
    "Siguiendo el ejemplo anterior, podríamos agregar un `else` para manejar el caso en que el **número no sea mayor que 0**:"
   ]
  },
  {
   "cell_type": "code",
   "execution_count": 2,
   "metadata": {},
   "outputs": [
    {
     "name": "stdout",
     "output_type": "stream",
     "text": [
      "El número es menor que 0\n"
     ]
    }
   ],
   "source": [
    "numero = -5\n",
    "\n",
    "if numero > 0:\n",
    "    print(\"El número es mayor que 0\")\n",
    "else:\n",
    "    print(\"El número es menor que 0\")"
   ]
  },
  {
   "cell_type": "markdown",
   "metadata": {},
   "source": [
    "En este caso, como numero es -5 y la condición numero > 0 es **falsa**, entonces **se ejecutará el bloque de código dentro del else** y veremos en la salida “El número es menor o igual a 10”."
   ]
  },
  {
   "cell_type": "markdown",
   "metadata": {},
   "source": [
    "## Estructura if... elif... ...  ... else"
   ]
  },
  {
   "cell_type": "markdown",
   "metadata": {},
   "source": [
    "La estructura `elif` se utiliza para evaluar **múltiples condiciones** de manera secuencial. Es una abreviatura de “else if”.\n",
    "\n",
    "La sintaxis es la siguiente:\n",
    "```python\n",
    "if condicion_1:\n",
    "    # bloque de código si la condicion_1 es verdadera\n",
    "elif condicion_2:\n",
    "    # bloque de código si la condicion_1 es falsa y la condicion_2 es verdadera\n",
    "elif condicion_3:\n",
    "    # bloque de código si la condicion_1 es falsa, la condicion_2 es falsa y la condicion_3 es verdadera\n",
    "...\n",
    "else:\n",
    "    # bloque de código si todas las condiciones anteriores son falsas\n",
    "```"
   ]
  },
  {
   "cell_type": "markdown",
   "metadata": {},
   "source": [
    "Veamos un ejemplo donde utilizamos `elif` para clasificar un **número en relación con 0** (positivo, negativo o neutro)"
   ]
  },
  {
   "cell_type": "code",
   "execution_count": 3,
   "metadata": {},
   "outputs": [
    {
     "name": "stdout",
     "output_type": "stream",
     "text": [
      "El número es positivo\n"
     ]
    }
   ],
   "source": [
    "numero = 5\n",
    "\n",
    "if numero > 0:\n",
    "    print(\"El número es positivo\")\n",
    "elif numero < 0:\n",
    "    print(\"El número es negativo\")\n",
    "else:\n",
    "    print(\"El número es neutro\")"
   ]
  },
  {
   "cell_type": "markdown",
   "metadata": {
    "id": "IC8jwkGyuS3n"
   },
   "source": [
    "# Operadores de comparación\n",
    "Los operadores de comparación se utilizan para comparar dos valores. Aquí están los principales operadores de comparación en Python:\n",
    "\n",
    "* **Igual a (==)**: Este operador verifica si los dos valores son iguales. Por ejemplo, 5 == 3 es Falso.\n",
    "* **No igual a (!=)**: Este operador verifica si los dos valores no son iguales. Por ejemplo, 5 != 3 es Verdadero.\n",
    "* **Mayor que (>)**: Este operador verifica si el primer valor es mayor que el segundo. Por ejemplo, 5 > 3 es Verdadero.\n",
    "* **Menor que (<)**: Este operador verifica si el primer valor es menor que el segundo. Por ejemplo, 5 < 3 es Falso.\n",
    "* **Mayor o igual que (>=)**: Este operador verifica si el primer valor es mayor o igual que el segundo. Por ejemplo, 5 >= 3 es Verdadero.\n",
    "* **Menor o igual que (<=)**: Este operador verifica si el primer valor es menor o igual que el segundo. Por ejemplo, 5 <= 3 es Falso.\n",
    "\n",
    "Estos operadores devuelven un valor booleano (Verdadero o Falso). A menudo se utilizan en condiciones, como en declaraciones `if` o bucles `while`.\n",
    "\n",
    "Por ejemplo"
   ]
  },
  {
   "cell_type": "code",
   "execution_count": 4,
   "metadata": {
    "colab": {
     "base_uri": "https://localhost:8080/"
    },
    "id": "ak9uUtzQ7Db-",
    "outputId": "33c143a1-ecdf-40ab-8edf-db92dd91829a"
   },
   "outputs": [
    {
     "name": "stdout",
     "output_type": "stream",
     "text": [
      "a no es igual a b\n"
     ]
    }
   ],
   "source": [
    "# Definamos dos variables\n",
    "a = 5\n",
    "b = 10\n",
    "\n",
    "# Ahora podemos usar el operador '==' para verificar si estas dos variables son iguales\n",
    "if a == b:\n",
    " print(\"a es igual a b\")\n",
    "else:\n",
    " print(\"a no es igual a b\") # Esto se imprimirá"
   ]
  },
  {
   "cell_type": "code",
   "execution_count": 5,
   "metadata": {
    "colab": {
     "base_uri": "https://localhost:8080/"
    },
    "id": "ETQkm-ca7QTy",
    "outputId": "00ba56c3-8241-455b-8c65-fc0e78c2670c"
   },
   "outputs": [
    {
     "name": "stdout",
     "output_type": "stream",
     "text": [
      "a no es igual a b\n"
     ]
    }
   ],
   "source": [
    "# También podemos usar el operador '!=' para verificar si dos variables no son iguales\n",
    "a = 3\n",
    "a = 5\n",
    "if a != b:\n",
    " print(\"a no es igual a b\") # Esto se imprimirá\n",
    "else:\n",
    " print(\"a es igual a b\")"
   ]
  },
  {
   "cell_type": "markdown",
   "metadata": {
    "id": "70w1fuYfceN_"
   },
   "source": [
    "### Operadores and y or\n",
    "Puedes evaluar multiples condiciones utilizando `and` para cuando necesites que las condiciones sean todas verdaderas, o bien `or` para cuando necesitas solo evaluar una parte de todas las condiciones."
   ]
  },
  {
   "cell_type": "code",
   "execution_count": 6,
   "metadata": {},
   "outputs": [
    {
     "name": "stdout",
     "output_type": "stream",
     "text": [
      "Tiene que cumplirse las dos condiciones para devolver un TRUE\n"
     ]
    }
   ],
   "source": [
    "x = 4\n",
    "y = 7\n",
    "\n",
    "if x > 0 and y == 7:\n",
    "  print (\"Tiene que cumplirse las dos condiciones para devolver un TRUE\")\n",
    "else:\n",
    "  print(\"LOL\")"
   ]
  },
  {
   "cell_type": "code",
   "execution_count": 7,
   "metadata": {},
   "outputs": [
    {
     "name": "stdout",
     "output_type": "stream",
     "text": [
      "Basta con que se cumpla una de las condiciones para devolver un TRUE\n"
     ]
    }
   ],
   "source": [
    "x = 4\n",
    "y = 7\n",
    "\n",
    "if x > 9 or y == 7:\n",
    "  print (\"Basta con que se cumpla una de las condiciones para devolver un TRUE\")\n",
    "else:\n",
    "  print(\"LOL\")"
   ]
  },
  {
   "cell_type": "code",
   "execution_count": 8,
   "metadata": {
    "id": "48F5WlQ9cgRU"
   },
   "outputs": [
    {
     "name": "stdout",
     "output_type": "stream",
     "text": [
      "trae el paraguas\n"
     ]
    }
   ],
   "source": [
    "estoyAfuera = True\n",
    "estaLloviendo = True\n",
    "\n",
    "if estoyAfuera and estaLloviendo:\n",
    "  print(\"trae el paraguas\")"
   ]
  },
  {
   "cell_type": "markdown",
   "metadata": {
    "id": "3Uqx9XEfch3t"
   },
   "source": [
    "También puedes combinar ambos, por ejemplo en en el siguiente caso evaluamos si una persona es alta, lo cual depende de su altura y de su genero"
   ]
  },
  {
   "cell_type": "code",
   "execution_count": 9,
   "metadata": {
    "id": "0XpOqBYfckHr"
   },
   "outputs": [
    {
     "name": "stdout",
     "output_type": "stream",
     "text": [
      "La persona no es alta\n"
     ]
    }
   ],
   "source": [
    "genero = \"F\"\n",
    "altura = 160\n",
    "\n",
    "if ( genero == \"M\" and altura > 173 ) or ( genero == \"F\" and altura > 163 ):\n",
    "  print(\"La persona es alta\")\n",
    "else:\n",
    "  print(\"La persona no es alta\")"
   ]
  },
  {
   "cell_type": "markdown",
   "metadata": {
    "id": "6kynBP77oZm4"
   },
   "source": [
    "## Expresiones condicionales\n",
    "En python, una expresión condicional se escribe del siguiente modo\n",
    "`X if condition else Y`\n",
    "\n",
    "Nos ayuda a que nuestros códigos sean más legibles y limpios. Por ejemplo el siguiente código evalua en muy pocas líneas si un código es par"
   ]
  },
  {
   "cell_type": "code",
   "execution_count": 10,
   "metadata": {
    "colab": {
     "base_uri": "https://localhost:8080/"
    },
    "id": "BeuPQWkBnocf",
    "outputId": "c1c56aad-12f1-4851-80f6-8756875edf36"
   },
   "outputs": [
    {
     "name": "stdout",
     "output_type": "stream",
     "text": [
      "el número es par\n"
     ]
    }
   ],
   "source": [
    "miNumero = 2\n",
    "print(\"el número es par\" if miNumero % 2 == 0 else \"el número es impar\")"
   ]
  },
  {
   "cell_type": "code",
   "execution_count": 11,
   "metadata": {
    "colab": {
     "base_uri": "https://localhost:8080/"
    },
    "id": "uA8f6zZNRbMD",
    "outputId": "c1c6a260-2d58-4025-8158-cb94056a73d0"
   },
   "outputs": [
    {
     "name": "stdout",
     "output_type": "stream",
     "text": [
      "vamos al parque\n"
     ]
    }
   ],
   "source": [
    "estaLloviendo = True\n",
    "print(\"vamos al\", \"parque\" if estaLloviendo else \"restaurante\")"
   ]
  },
  {
   "cell_type": "code",
   "execution_count": 12,
   "metadata": {
    "id": "yKLIkAgK8l11"
   },
   "outputs": [
    {
     "name": "stdout",
     "output_type": "stream",
     "text": [
      "0\n",
      "1\n",
      "2\n",
      "3\n",
      "4\n"
     ]
    }
   ],
   "source": [
    "i = 0\n",
    "while i < 5:\n",
    "  print(i)\n",
    "  i =i + 1 # Esto es equivalente a i +=1"
   ]
  },
  {
   "cell_type": "markdown",
   "metadata": {
    "id": "2Ys8EyUg8pCI"
   },
   "source": [
    "En este código, `i < 5` es la condición para el bucle while. Mientras esta condición sea verdadera (en otras palabras, mientras i sea menor que 5), el código dentro del bucle seguirá ejecutándose. En este caso, el código dentro del bucle es `print(i)` e `i += 1`.\n",
    "\n",
    "La línea `print(i)` imprime el valor actual de i en la consola, y la línea `i += 1` incrementa i en 1. Por lo tanto, cada vez que pasa por el bucle, i se hace más grande y, una vez que i ya no sea menor que 5, el bucle dejará de ejecutarse.\n",
    "\n",
    "Es importante asegurarse de que la condición del bucle eventualmente se vuelva falsa, de lo contrario, el bucle se ejecutaría indefinidamente, creando lo que se conoce como un \"bucle infinito\". En este ejemplo, i sigue aumentando, por lo que eventualmente será 5 o más, y la condición `i < 5` será falsa."
   ]
  }
 ],
 "metadata": {
  "colab": {
   "provenance": []
  },
  "kernelspec": {
   "display_name": "Python 3 (ipykernel)",
   "language": "python",
   "name": "python3"
  },
  "language_info": {
   "codemirror_mode": {
    "name": "ipython",
    "version": 3
   },
   "file_extension": ".py",
   "mimetype": "text/x-python",
   "name": "python",
   "nbconvert_exporter": "python",
   "pygments_lexer": "ipython3",
   "version": "3.12.8"
  }
 },
 "nbformat": 4,
 "nbformat_minor": 4
}