{
 "cells": [
  {
   "cell_type": "markdown",
   "id": "8fac5c88-1eab-4af7-b36a-f6c2872fcbb0",
   "metadata": {},
   "source": [
    "# Ejercicios de funciones"
   ]
  },
  {
   "cell_type": "markdown",
   "id": "95cf0e76-e2a7-4450-b0b1-7ffed6e05c9f",
   "metadata": {},
   "source": [
    "## Ejercicio resuelto\n",
    "Vamos a crear una **función** que calcule el **área de un rectángulo**. La función tomará como **parámetros** la base y la altura del rectángulo y devolverá el área."
   ]
  },
  {
   "cell_type": "code",
   "execution_count": 1,
   "id": "7bb16259-ad17-4e96-a8a4-a336ccd33f2f",
   "metadata": {},
   "outputs": [
    {
     "name": "stdout",
     "output_type": "stream",
     "text": [
      "El área del rectángulo es: 20 m2\n",
      "El área del rectángulo es: 12 m2\n",
      "El área del rectángulo es: 21.929999999999996 m2\n"
     ]
    }
   ],
   "source": [
    "# Definimos la función para calcular el área de un rectángulo\n",
    "def calcular_area_rectangulo(b, a):\n",
    "    # Calculamos el área multiplicando la base (b) por la altura (a)\n",
    "    area = b * a\n",
    "    # Imprimimos el resultado del área en metros cuadrados\n",
    "    print(f\"El área del rectángulo es: {area} m2\")\n",
    "    \n",
    "# Llamamos a la función indicando valores a los parámetros\n",
    "calcular_area_rectangulo(4, 5)  # Llamada con base 4 y altura 5\n",
    "calcular_area_rectangulo(3, 4)  # Llamada con base 3 y altura 4\n",
    "calcular_area_rectangulo(4.3, 5.1)  # Llamada con base 4.3 y altura 5.1"
   ]
  },
  {
   "cell_type": "markdown",
   "id": "8c85996e-3945-48ec-a9fd-5674a9d72a44",
   "metadata": {},
   "source": [
    "## Ejercicio 1: Calcular el cuadrado de un número\n",
    "Crea una función que calcule el cuadrado de un número."
   ]
  },
  {
   "cell_type": "code",
   "execution_count": 2,
   "id": "e2298c96-c7e2-4a80-abd5-3f8a72967cc7",
   "metadata": {},
   "outputs": [
    {
     "ename": "StdinNotImplementedError",
     "evalue": "raw_input was called, but this frontend does not support input requests.",
     "output_type": "error",
     "traceback": [
      "\u001b[1;31m---------------------------------------------------------------------------\u001b[0m",
      "\u001b[1;31mStdinNotImplementedError\u001b[0m                  Traceback (most recent call last)",
      "Cell \u001b[1;32mIn[2], line 6\u001b[0m\n\u001b[0;32m      3\u001b[0m     \u001b[38;5;28;01mreturn\u001b[39;00m numero \u001b[38;5;241m*\u001b[39m\u001b[38;5;241m*\u001b[39m \u001b[38;5;241m2\u001b[39m\n\u001b[0;32m      5\u001b[0m \u001b[38;5;66;03m# Solicitamos al usuario que ingrese un número\u001b[39;00m\n\u001b[1;32m----> 6\u001b[0m numero \u001b[38;5;241m=\u001b[39m \u001b[38;5;28mfloat\u001b[39m(\u001b[38;5;28minput\u001b[39m(\u001b[38;5;124m\"\u001b[39m\u001b[38;5;124mIngrese un número: \u001b[39m\u001b[38;5;124m\"\u001b[39m))\n\u001b[0;32m      8\u001b[0m \u001b[38;5;66;03m# Llamamos a la función y almacenamos el resultado\u001b[39;00m\n\u001b[0;32m      9\u001b[0m resultado \u001b[38;5;241m=\u001b[39m calcular_cuadrado(numero)\n",
      "File \u001b[1;32m~\\anaconda3\\envs\\ambiente_1\\Lib\\site-packages\\ipykernel\\kernelbase.py:1281\u001b[0m, in \u001b[0;36mKernel.raw_input\u001b[1;34m(self, prompt)\u001b[0m\n\u001b[0;32m   1279\u001b[0m \u001b[38;5;28;01mif\u001b[39;00m \u001b[38;5;129;01mnot\u001b[39;00m \u001b[38;5;28mself\u001b[39m\u001b[38;5;241m.\u001b[39m_allow_stdin:\n\u001b[0;32m   1280\u001b[0m     msg \u001b[38;5;241m=\u001b[39m \u001b[38;5;124m\"\u001b[39m\u001b[38;5;124mraw_input was called, but this frontend does not support input requests.\u001b[39m\u001b[38;5;124m\"\u001b[39m\n\u001b[1;32m-> 1281\u001b[0m     \u001b[38;5;28;01mraise\u001b[39;00m StdinNotImplementedError(msg)\n\u001b[0;32m   1282\u001b[0m \u001b[38;5;28;01mreturn\u001b[39;00m \u001b[38;5;28mself\u001b[39m\u001b[38;5;241m.\u001b[39m_input_request(\n\u001b[0;32m   1283\u001b[0m     \u001b[38;5;28mstr\u001b[39m(prompt),\n\u001b[0;32m   1284\u001b[0m     \u001b[38;5;28mself\u001b[39m\u001b[38;5;241m.\u001b[39m_parent_ident[\u001b[38;5;124m\"\u001b[39m\u001b[38;5;124mshell\u001b[39m\u001b[38;5;124m\"\u001b[39m],\n\u001b[0;32m   1285\u001b[0m     \u001b[38;5;28mself\u001b[39m\u001b[38;5;241m.\u001b[39mget_parent(\u001b[38;5;124m\"\u001b[39m\u001b[38;5;124mshell\u001b[39m\u001b[38;5;124m\"\u001b[39m),\n\u001b[0;32m   1286\u001b[0m     password\u001b[38;5;241m=\u001b[39m\u001b[38;5;28;01mFalse\u001b[39;00m,\n\u001b[0;32m   1287\u001b[0m )\n",
      "\u001b[1;31mStdinNotImplementedError\u001b[0m: raw_input was called, but this frontend does not support input requests."
     ]
    }
   ],
   "source": [
    "# Definimos la función para calcular el cuadrado de un número\n",
    "def calcular_cuadrado(numero):\n",
    "    return numero ** 2\n",
    "\n",
    "# Solicitamos al usuario que ingrese un número\n",
    "numero = float(input(\"Ingrese un número: \"))\n",
    "\n",
    "# Llamamos a la función y almacenamos el resultado\n",
    "resultado = calcular_cuadrado(numero)\n",
    "\n",
    "# Mostramos el resultado\n",
    "print(f\"El cuadrado de {numero} es: {resultado}\")"
   ]
  },
  {
   "cell_type": "markdown",
   "id": "9ad958d2-8f27-4d3d-8052-778c1dc3dddf",
   "metadata": {},
   "source": [
    "## Ejercicio 2: Convertir de grados Celsius a Fahrenheit\n",
    " Vamos a crear una función que convierta grados Celsius a grados Fahrenheit. Recuerdaque para pasar grados Celsius a Fahrenheit:\n",
    "$$\n",
    "(ºC*9/5)+32 = ºF\n",
    "$$"
   ]
  },
  {
   "cell_type": "code",
   "execution_count": null,
   "id": "c4fc8a4a-ac29-4867-8f68-148780f49d19",
   "metadata": {},
   "outputs": [],
   "source": [
    "\"\"\"Definimos la función para convertir Celsius a Fahrenheit,\n",
    "en este caso sin parámetros ya que lo vamos a pedir dentro de la función \"\"\"\n",
    "def celsius_a_fahrenheit():\n",
    "    celsius = float(input(\"Ingrese la temperatura en grados Celsius: \"))\n",
    "    fahrenheit = (celsius * 9/5) + 32\n",
    "    print(f\"{celsius} grados Celsius son {fahrenheit} grados Fahrenheit.\")\n",
    "\n",
    "celsius_a_fahrenheit()\n",
    "\n"
   ]
  },
  {
   "cell_type": "code",
   "execution_count": null,
   "id": "5d1a833d-935e-43dc-8e7a-9ce153a10770",
   "metadata": {},
   "outputs": [],
   "source": []
  }
 ],
 "metadata": {
  "kernelspec": {
   "display_name": "conda-env-ambiente_1-py",
   "language": "python",
   "name": "conda-env-ambiente_1-py"
  },
  "language_info": {
   "codemirror_mode": {
    "name": "ipython",
    "version": 3
   },
   "file_extension": ".py",
   "mimetype": "text/x-python",
   "name": "python",
   "nbconvert_exporter": "python",
   "pygments_lexer": "ipython3",
   "version": "3.12.8"
  }
 },
 "nbformat": 4,
 "nbformat_minor": 5
}