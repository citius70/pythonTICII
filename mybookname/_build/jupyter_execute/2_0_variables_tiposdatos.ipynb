{
 "cells": [
  {
   "cell_type": "markdown",
   "id": "01556d83-8d9a-41e7-8fc7-15928a496d0f",
   "metadata": {},
   "source": [
    "```{contents} Contenido\n",
    ":local:\n",
    ":depth: 3\n",
    "```"
   ]
  },
  {
   "cell_type": "markdown",
   "id": "32f3da74-82d4-4fdc-8bb1-b27edced1c56",
   "metadata": {
    "editable": true,
    "slideshow": {
     "slide_type": "slide"
    },
    "tags": []
   },
   "source": [
    "# Variables y tipos de datos"
   ]
  },
  {
   "cell_type": "markdown",
   "id": "fecfc66f-f232-49b2-8438-dfaf79bd0d10",
   "metadata": {
    "editable": true,
    "slideshow": {
     "slide_type": "slide"
    },
    "tags": []
   },
   "source": [
    "## Variables\n",
    "En programación, una `variable` **es un lugar en la memoria del ordenador donde podemos almacenar un valor**. Este valor puede cambiar según se necesite. \n",
    "\n",
    "Podemos darle a la variable **cualquier nombre** que elijamos, siempre y cuando siga ciertas reglas (en Python, debe comenzar con una letra o guion bajo y no puede contener espacios). Luego podemos usar este nombre para recuperar el valor más tarde.\n",
    "\n",
    "Imagina el marcador de un partido de baloncesto. Los puntos de cada equipo 3️⃣4️⃣ **:** 3️⃣6️⃣ van cambiando, pero se almacenan en una variable de nombre, por ejemplo 'puntuacion'. De este modo:\n",
    "`puntuacion = 34`, `puntuacion = 36`, ...\n",
    "\n",
    "Se puede imaginar una variable como una caja en la memoria del ordenador donde puedes almacenar un valor. Si quieres usar ese valor, tienes que referirte a la caja por su etiqueta.Aquí tienes una representación gráfica de lo que es una variable:"
   ]
  },
  {
   "cell_type": "markdown",
   "id": "02f83361-3e8f-48ee-9fee-f05796c0396f",
   "metadata": {},
   "source": [
    "<div style=\"text-align: center;\">\n",
    "    <img src=\"https://lh5.googleusercontent.com/X4FvFQYIxMkJj5Jtt2skF858g08V1SEBNLcnhT0DerFHSbY_F1ujvokMvwB6FqEOKaXpCKUFzJO-ZIzzsVHVX-fROsbAXturWQlMVmPl6Xumf_NYTa2cpPFvCHzDp7TGC0JPBAMWdY_gUdcqDd4qn1M\" style=\"height: 200px; width: auto;\"/>\n",
    "</div>"
   ]
  },
  {
   "cell_type": "code",
   "execution_count": 1,
   "id": "4c4b39e8-1932-47c0-a2a3-47ed37b48352",
   "metadata": {
    "editable": true,
    "slideshow": {
     "slide_type": ""
    },
    "tags": []
   },
   "outputs": [],
   "source": [
    "myNum = 4 "
   ]
  },
  {
   "cell_type": "markdown",
   "id": "1acf2628-9058-429c-9498-ee2c3678098f",
   "metadata": {
    "editable": true,
    "slideshow": {
     "slide_type": ""
    },
    "tags": []
   },
   "source": [
    "En este caso, `myNum` es el nombre de la variable, y `4` es el valor que estamos asignándole."
   ]
  },
  {
   "cell_type": "markdown",
   "id": "c928d731-b9b8-4e31-850a-16e240e4b8ff",
   "metadata": {},
   "source": [
    "```{tip}\n",
    "\n",
    "La idea es que las variables nos ayuden a almacenar información que necesitemos volver a consultar y/o cambiar en el tiempo"
   ]
  },
  {
   "cell_type": "markdown",
   "id": "89d52623-29a6-4413-b511-2945b3d98cef",
   "metadata": {
    "editable": true,
    "slideshow": {
     "slide_type": ""
    },
    "tags": []
   },
   "source": [
    "Por ejemplo, podemos crear esta variable para almacenar el `precio actual del dólar respecto al euro`."
   ]
  },
  {
   "cell_type": "code",
   "execution_count": 2,
   "id": "39ffe29e-4387-416a-a60d-86aad07f93f8",
   "metadata": {
    "editable": true,
    "slideshow": {
     "slide_type": ""
    },
    "tags": []
   },
   "outputs": [],
   "source": [
    "USD_EUR = 0.94"
   ]
  },
  {
   "cell_type": "markdown",
   "id": "c2567853-4380-484e-8d84-92fbc69e7f78",
   "metadata": {},
   "source": [
    "O esta respecto el `nombre del cliente` que actualmente estamos atendiendo. Fíjate como los *valores de tipo texto* se escriben entre **comillas**."
   ]
  },
  {
   "cell_type": "code",
   "execution_count": 3,
   "id": "1c468f85-7b6b-42f2-af01-5926139cbaa0",
   "metadata": {},
   "outputs": [],
   "source": [
    "cliente = \"Mauricio\""
   ]
  },
  {
   "cell_type": "markdown",
   "id": "84729896-9dce-47bc-a32c-b07ecefb8ae7",
   "metadata": {},
   "source": [
    "O algo más complicado como alguna estructura de datos, lo cual veremos más adelante. Por ejemplo podemos almacenar los `empleados actuales de una empresa` en una lista."
   ]
  },
  {
   "cell_type": "code",
   "execution_count": 4,
   "id": "66b0e514-6502-4ce8-b8d7-a0c565d1e962",
   "metadata": {},
   "outputs": [],
   "source": [
    "empleados = [\"Alberto\", \"Sebastián\", \"María\", \"Ignacio\", \"Isabel\", \"Eduardo\"]"
   ]
  },
  {
   "cell_type": "markdown",
   "id": "dc7e43eb-8e41-4bcc-8b50-ca60b857d520",
   "metadata": {
    "editable": true,
    "slideshow": {
     "slide_type": "slide"
    },
    "tags": []
   },
   "source": [
    "### Reglas para nombrar una variable\n",
    "Durante el uso de Python, vas a tener que nombrar variables y funciones con frecuencia. No obstante, existen ciertas reglas y buenas prácticas para seguir. Algunas de ellas son obligatorias (impuestas por el lenguaje), y otras son simplemente convenciones que puedes seguir.\n",
    "\n",
    "Vamos a ver las reglas y buenas prácticas para nombrar variables en Python."
   ]
  },
  {
   "cell_type": "markdown",
   "id": "82dbaf40-5463-4c09-b423-f1de93e6d014",
   "metadata": {
    "editable": true,
    "slideshow": {
     "slide_type": "slide"
    },
    "tags": []
   },
   "source": [
    "#### Reglas Específicas\n",
    "- **Case Sentitive** : Los nombres de variables en Python son **sensibles a mayúsculas** (ABC) y **minúsculas** (abc). Por ejemplo, `variable`, `Variable` y `VARIABLE`  son consideradas diferentes.\n",
    "```python\n",
    "#Estas variables son distintas\n",
    "nombre = \"Manolo\"\n",
    "Nombre = \"Pepe\"\n",
    "```\n",
    "- **Inicio de Nombre**: El nombre de la variable debe comenzar con una **letra** (a-z, A-Z) ✅  o un **guión bajo** (_) ✅. No debe comenzar con números ni otros caracteres ❌.\n",
    "```python\n",
    "variable = 42 #Correcto\n",
    "_variable_privada = \"Python\" # Correcto\n",
    "1variable = \"Error\"  # Incorrecto, no debe comenzar con un número\n",
    "```"
   ]
  },
  {
   "cell_type": "markdown",
   "id": "fa86c97d-eb5a-46ab-8248-bd915642cf91",
   "metadata": {
    "editable": true,
    "slideshow": {
     "slide_type": ""
    },
    "tags": []
   },
   "source": [
    "- **Caracteres Permitidos**: Los nombres de variables pueden contener **letras** (a-z, A-Z) ✅, **dígitos** (0-9) ✅ y **guiones bajos** (_) ✅. No se permiten otros caracteres especiales como espacios, signos de puntuación o símbolos ❌.\n",
    "```python\n",
    "mi_variable = \"Python\"\n",
    "edad3 = 30\n",
    "mi_variable@ = \"Error\"  # Incorrecto, no se permite el símbolo @\n",
    "```"
   ]
  },
  {
   "cell_type": "markdown",
   "id": "de5b26c7-5e5c-4fb4-a119-26e4607dbb4c",
   "metadata": {
    "editable": true,
    "slideshow": {
     "slide_type": ""
    },
    "tags": []
   },
   "source": [
    "- **Palabras Reservadas**: No se pueden utilizar **palabras reservadas de Python** ❌, como nombres de fuciones. Por ejemplo, if, else, for, while, entre otras\n",
    "```python\n",
    "if = 10  # Incorrecto, if es una palabra reservada\n",
    "while = 12 #Incorrecto, while es una palabra reservada\n",
    "mi_if = 10  # Correcto, añadiendo prefijo o sufijo a la palabra reservada\n",
    "```"
   ]
  },
  {
   "cell_type": "markdown",
   "id": "9c88f1c3-a556-4cff-9ec6-7e6d953c3078",
   "metadata": {
    "editable": true,
    "slideshow": {
     "slide_type": ""
    },
    "tags": []
   },
   "source": [
    "- **Legibilidad y Significado**: Es importante elegir nombres de variables que sean **descriptivos** y reflejen su uso en el contexto del programa. Esto mejora la legibilidad y comprensión del código.\n",
    "```python\n",
    "total_compras = 100\n",
    "num = 100  # Menos descriptivo, se desconoce el propósito\n",
    "```"
   ]
  },
  {
   "cell_type": "markdown",
   "id": "c84f1739-da8d-4e91-adc0-bcb69375c997",
   "metadata": {
    "editable": true,
    "slideshow": {
     "slide_type": ""
    },
    "tags": []
   },
   "source": [
    "#### Convenciones de Estilo\n",
    "Python PEP 8 (Guía de Estilo para el Código Python) sugiere convenciones adicionales para mejorar la legibilidad del código:\n",
    "- **snake_case**: 🐍 Para nombres de variables, funciones y métodos. Por ejemplo, `mi_variable`, `calcular_total`.\n",
    "```python\n",
    "nombre_completo = \"Luis Pérez\"\n",
    "calculo_total = 36\n",
    "```"
   ]
  },
  {
   "cell_type": "markdown",
   "id": "c67e98f2-3f93-41e9-9de7-76402cac296f",
   "metadata": {
    "editable": true,
    "slideshow": {
     "slide_type": ""
    },
    "tags": []
   },
   "source": [
    "- **CamelCase**: 🐪 Para nombres de variable y clases en Python. Por ejemplo, `MiVariable`, `MiVariableEspecial`.\n",
    " ```python\n",
    "NombreCompleto = \"Luis Pérez\"\n",
    "CalculoTotal = 36 \n",
    "```"
   ]
  },
  {
   "cell_type": "markdown",
   "id": "a5c0635e-4f05-408f-80a0-d4cfc5e99869",
   "metadata": {
    "editable": true,
    "slideshow": {
     "slide_type": ""
    },
    "tags": []
   },
   "source": [
    "- **MAYÚSCULAS**: Para el caso de constantes, separadas por guiones bajos, siguiendo el estilo CONSTANTE_DE_EJEMPLO\n",
    "```python\n",
    "GRAVEDAD = 9.8\n",
    "ALTURA_HIMALAYA = 8849\n",
    "```"
   ]
  },
  {
   "cell_type": "markdown",
   "id": "2fc870db-8334-4346-b50b-32b47842b3e3",
   "metadata": {
    "editable": true,
    "slideshow": {
     "slide_type": ""
    },
    "tags": []
   },
   "source": [
    "A continuación, veremos los ejemplos más básicos de los **tipos de datos** que podemos almacenar."
   ]
  },
  {
   "attachments": {},
   "cell_type": "markdown",
   "id": "9b4bc276-12d9-4a72-ab19-682f66c66ac5",
   "metadata": {
    "editable": true,
    "slideshow": {
     "slide_type": "slide"
    },
    "tags": []
   },
   "source": [
    "## Tipos de datos\n",
    "El valor que asignas a una variable puede ser de muchos tipos diferentes, y el tipo determina qué tipo de operaciones puedes realizar con el valor. Estos son algunos de los tipos de datos más comunes:"
   ]
  },
  {
   "cell_type": "markdown",
   "id": "2e6f427a-426a-4e09-96d1-58456c134745",
   "metadata": {
    "editable": true,
    "slideshow": {
     "slide_type": "subslide"
    },
    "tags": []
   },
   "source": [
    "### Entero (o Integer)\n",
    "Un entero es un número completo (sin un punto decimal). Puede ser positivo o negativo. Por ejemplo:"
   ]
  },
  {
   "cell_type": "code",
   "execution_count": 5,
   "id": "4fa7c852-d1c0-4d80-827f-f0475973f874",
   "metadata": {},
   "outputs": [],
   "source": [
    "myInteger = 5\n",
    "myNegativeInteger = -3"
   ]
  },
  {
   "cell_type": "markdown",
   "id": "9bd63ff0-3c8a-4908-8230-0ff4d0f03ec5",
   "metadata": {},
   "source": [
    "Nótese que la traducción de \"entero\" a inglés es integer."
   ]
  },
  {
   "cell_type": "markdown",
   "id": "145a453d-36c8-4562-bc21-751d0203a8d8",
   "metadata": {},
   "source": [
    "Un procedimiento muy utilizado en programación es el de **incremento**. Es una operación que aumenta el valor de una variable en una cantidad específica, que generalmente es 1. Se utiliza, por ejemplo, para almacenar el número de veces que se repite un proceso."
   ]
  },
  {
   "cell_type": "code",
   "execution_count": 6,
   "id": "0141ddb3-471f-4b97-86ec-ebe0a846b33b",
   "metadata": {},
   "outputs": [
    {
     "name": "stdout",
     "output_type": "stream",
     "text": [
      "3\n"
     ]
    }
   ],
   "source": [
    "contador = 2\n",
    "contador = contador + 1\n",
    "print(contador)\n",
    "# La variable contador termina como 3"
   ]
  },
  {
   "cell_type": "code",
   "execution_count": 7,
   "id": "7f70bab2-b506-4133-abcf-ab304eed3b63",
   "metadata": {},
   "outputs": [
    {
     "name": "stdout",
     "output_type": "stream",
     "text": [
      "3\n"
     ]
    }
   ],
   "source": [
    "# Aunque la manera de incrementar una variable es válida como se muestra anteriormente, \n",
    "# en Python suele  simplificarse así:\n",
    "contador = 2\n",
    "contador += 1\n",
    "print(contador)"
   ]
  },
  {
   "cell_type": "markdown",
   "id": "d059c57d-5967-4346-bedd-5e52c18940f1",
   "metadata": {
    "editable": true,
    "slideshow": {
     "slide_type": "subslide"
    },
    "tags": []
   },
   "source": [
    "### Decimal (o Float)\n",
    "Un flotante es un número que incluye un punto decimal. Puede ser positivo o negativo. Por ejemplo:"
   ]
  },
  {
   "cell_type": "code",
   "execution_count": 8,
   "id": "607b958d-e3bb-43de-bcd7-324dceaab42a",
   "metadata": {},
   "outputs": [],
   "source": [
    "myFloat = 3.14\n",
    "myNegativeFloat = -0.01"
   ]
  },
  {
   "cell_type": "markdown",
   "id": "edc831bd-c5e0-4b0f-aa22-a68a3adadb39",
   "metadata": {},
   "source": [
    "Cabe destacar que el separador de decimales es el punto en lugar de la coma."
   ]
  },
  {
   "cell_type": "markdown",
   "id": "3c723718-4036-41ac-bc7f-faf51894126d",
   "metadata": {
    "editable": true,
    "slideshow": {
     "slide_type": "subslide"
    },
    "tags": []
   },
   "source": [
    "### Cadena (o String)\n",
    "Una cadena es una secuencia de caracteres, o también mas comúnmente conocido como un texto. En Python, puedes crear una cadena encerrando caracteres entre comillas simples (') o comillas dobles (\"). Por ejemplo:"
   ]
  },
  {
   "cell_type": "code",
   "execution_count": 9,
   "id": "d9c2142f-ccb9-42f7-9208-451cd2f4a64d",
   "metadata": {},
   "outputs": [],
   "source": [
    "myString = '¡Hola, mundo!'\n",
    "anotherString = \"Python es divertido\""
   ]
  },
  {
   "cell_type": "markdown",
   "id": "4b815cf2-a17c-4916-8fb7-dbc9846ae643",
   "metadata": {},
   "source": [
    "#### Concatenar cadenas\n",
    "\n",
    "Puedes unir una cadena con otra, a ello se le llama concatenar. Una manera común de hacerlo es usando el símbolo + entre dos cadenas de texto."
   ]
  },
  {
   "cell_type": "code",
   "execution_count": 10,
   "id": "ce2a5b2d-8375-482c-975a-d1fa6d2fea2a",
   "metadata": {},
   "outputs": [
    {
     "name": "stdout",
     "output_type": "stream",
     "text": [
      "tengo 34 años de edad\n"
     ]
    }
   ],
   "source": [
    "años = 34\n",
    "mensaje = \"tengo \" + str(años) + \" años de edad\"\n",
    "print(mensaje)"
   ]
  },
  {
   "cell_type": "markdown",
   "id": "85dd1069-aa0e-4458-be0f-219c455a7716",
   "metadata": {},
   "source": [
    "Nótese como tuvimos que forzar a que la variable `años` fuera un String, usando la función str. Hablaremos de esto más adelante en la guía."
   ]
  },
  {
   "cell_type": "markdown",
   "id": "4eb0c83e-6924-42a2-801b-c414b2aa549b",
   "metadata": {
    "editable": true,
    "slideshow": {
     "slide_type": "subslide"
    },
    "tags": []
   },
   "source": [
    "### Booleano (o Boolean)\n",
    "Un booleano es un tipo que solo puede tener uno de dos valores: Verdadero o Falso. Los booleanos a menudo se usan en condiciones, como en una declaración if. Por ejemplo:"
   ]
  },
  {
   "cell_type": "markdown",
   "id": "50418cf8-f06b-463a-8631-aad2c15e4f97",
   "metadata": {},
   "source": [
    "```python\n",
    "enviado = True (o False)\n",
    "enviado = False\n",
    "```"
   ]
  },
  {
   "cell_type": "markdown",
   "id": "fa507f9d-6b3e-43c7-8dcb-2f7bac9168f3",
   "metadata": {},
   "source": [
    "Pon atención en el hecho de que True y False empiezan con mayúsculas. Esto es distinto en otros lenguajes de programación."
   ]
  },
  {
   "cell_type": "markdown",
   "id": "41384204-722f-4b13-b2cd-d7f63d72aba9",
   "metadata": {
    "editable": true,
    "slideshow": {
     "slide_type": "slide"
    },
    "tags": []
   },
   "source": [
    "## Convirtiendo Entre Tipos\n",
    "En Python, puedes convertir valores entre diferentes tipos 🔁 utilizando funciones como `int(), float(), y str()`. Sin embargo, no todas las conversiones están permitidas - por ejemplo, no puedes convertir el string \"hola\" a un entero.\n",
    "\n",
    "Aquí hay un ejemplo de cómo convertir un flotante a un entero:"
   ]
  },
  {
   "cell_type": "code",
   "execution_count": 11,
   "id": "60c13a41-b447-4b09-843e-8c21b0c8e0b1",
   "metadata": {},
   "outputs": [],
   "source": [
    "myFloat = 3.14\n",
    "myInteger = int(myFloat) # Esto nos dará el valor 3"
   ]
  },
  {
   "cell_type": "markdown",
   "id": "1ba847f2-6c84-4971-823e-168fa665d78b",
   "metadata": {},
   "source": [
    "Nota que cuando conviertes un flotante a un entero en Python, no redondea al número entero más cercano - siempre trunca.\n",
    "\n",
    "Aquí hay otro ejemplo usando la función str():"
   ]
  },
  {
   "cell_type": "code",
   "execution_count": 12,
   "id": "973f442c-7183-440f-a3b6-af3c4428b006",
   "metadata": {},
   "outputs": [
    {
     "name": "stdout",
     "output_type": "stream",
     "text": [
      "La variable myInteger es de tipo: <class 'int'>\n"
     ]
    }
   ],
   "source": [
    "myInteger = 10\n",
    "print(\"La variable myInteger es de tipo: \" + str(type(myInteger))) # output: La variable myInteger es de tipo: <class 'int'>"
   ]
  },
  {
   "cell_type": "markdown",
   "id": "3b85ea8a-5917-40fd-b613-27978af1c20c",
   "metadata": {
    "editable": true,
    "slideshow": {
     "slide_type": "slide"
    },
    "tags": []
   },
   "source": [
    "## Obteniendo el tipo de las variables\n",
    "¿Viste eso de type() que usamos en el último código?\n",
    "\n",
    "En Python, si alguna vez te encuentras en una situación en la que no estás seguro del tipo de una variable o simplemente deseas verificarlo, puedes utilizar la función type(). Esta función devuelve el tipo de la variable que le pases como argumento.\n",
    "\n",
    "Por ejemplo, si tienes una variable que es un string y quieres confirmar que es así:"
   ]
  },
  {
   "cell_type": "code",
   "execution_count": 13,
   "id": "9102c338-e03b-4574-91d5-fc9a13312630",
   "metadata": {},
   "outputs": [
    {
     "name": "stdout",
     "output_type": "stream",
     "text": [
      "<class 'str'>\n"
     ]
    }
   ],
   "source": [
    "myString = \"¡Hola, Python!\"\n",
    "print(type(myString))"
   ]
  },
  {
   "cell_type": "markdown",
   "id": "b34ef159-abb2-4bf7-bcc4-d00a86505977",
   "metadata": {},
   "source": [
    "Al ejecutar el código anterior, obtendrías la salida <class 'str'>, lo que indica que la variable myString es de tipo cadena (o str en inglés).\n",
    "\n",
    "Del mismo modo, si tienes un número entero:"
   ]
  },
  {
   "cell_type": "code",
   "execution_count": 14,
   "id": "5e4c25af-814e-4670-ae6c-77eb776c144e",
   "metadata": {},
   "outputs": [
    {
     "name": "stdout",
     "output_type": "stream",
     "text": [
      "<class 'int'>\n"
     ]
    }
   ],
   "source": [
    "myInteger = 42\n",
    "print(type(myInteger))"
   ]
  },
  {
   "cell_type": "markdown",
   "id": "78fbac33-cf1f-4279-b4c9-1aba16b7b04c",
   "metadata": {},
   "source": [
    "El resultado sería <class 'int'>, confirmando que es un número entero.\n",
    "\n",
    "Es importante resaltar que type() es extremadamente útil para la depuración y para entender mejor el comportamiento de tu código, especialmente cuando trabajas con funciones o librerías que pueden devolver diferentes tipos de datos."
   ]
  },
  {
   "cell_type": "markdown",
   "id": "74dc18ef-1a62-44e9-ba56-52a6ef255dc6",
   "metadata": {},
   "source": [
    "`````{admonition} Resumen\n",
    "```python\n",
    "nombre = \"Juan\"  # String (o cadena de texto)\n",
    "edadEmpleado = 30        # Integer (o entero)\n",
    "altura = 1.75    # Float (o decimal)\n",
    "es_estudiante = True  # Boolean (o booleano)\n",
    "```\n",
    "`````"
   ]
  },
  {
   "cell_type": "code",
   "execution_count": null,
   "id": "b6dfb1ae-d68c-464b-a3bb-8c6e182e2d6a",
   "metadata": {},
   "outputs": [],
   "source": []
  }
 ],
 "metadata": {
  "kernelspec": {
   "display_name": "Python 3 (ipykernel)",
   "language": "python",
   "name": "python3"
  },
  "language_info": {
   "codemirror_mode": {
    "name": "ipython",
    "version": 3
   },
   "file_extension": ".py",
   "mimetype": "text/x-python",
   "name": "python",
   "nbconvert_exporter": "python",
   "pygments_lexer": "ipython3",
   "version": "3.12.8"
  }
 },
 "nbformat": 4,
 "nbformat_minor": 5
}