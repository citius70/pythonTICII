{
 "cells": [
  {
   "cell_type": "markdown",
   "metadata": {},
   "source": [
    "```{contents} Contenido\n",
    ":local:\n",
    ":depth: 3\n",
    "```"
   ]
  },
  {
   "cell_type": "markdown",
   "metadata": {
    "editable": true,
    "id": "S4fWekBSjlhQ",
    "slideshow": {
     "slide_type": "slide"
    },
    "tags": []
   },
   "source": [
    "# Introducción"
   ]
  },
  {
   "cell_type": "markdown",
   "metadata": {},
   "source": [
    " ## Justificación de su estudio 💻"
   ]
  },
  {
   "cell_type": "markdown",
   "metadata": {
    "editable": true,
    "id": "F8rqBkawj1Hu",
    "slideshow": {
     "slide_type": "subslide"
    },
    "tags": []
   },
   "source": [
    "**Python** 🐍 es uno de los lenguajes de programación *más populares* y con un *crecimiento más rápido* del mundo, desde su lanzamiento en 1991. Se usa para todo tipo de tareas, como las de **programación web** y **análisis de datos**, y se ha convertido en el lenguaje que hay que conocer para el **aprendizaje automático**. Esa popularidad significa que los desarrolladores de Python están muy solicitados y los trabajos de programación de Python pueden ser rentables.\n",
    "<p style=\"text-align: right;\">\n",
    "    <img src=\"https://clubroboticagranada.github.io/images/python1.png\"  style=\"width: 300px; float: right; margin-left: 10px;\">\n",
    "</p>\n",
    "\n",
    "Las razones mencionadas anteriormente **representan el por qué podría ser una buena idea 💃 aprender a programar en Python**. En este módulo se proporcionará una introducción al uso de Python para compilar una aplicación, que puede ser un punto de partida para convertirse en programador de Python."
   ]
  },
  {
   "cell_type": "markdown",
   "metadata": {},
   "source": [
    "## Características 👀"
   ]
  },
  {
   "cell_type": "markdown",
   "metadata": {},
   "source": [
    "1️⃣**Python es un lenguaje interpretado** \n",
    "\n",
    "* Esto significa que el código que escribimos en Python no se convierte en un programa completo antes de ejecutarse, como ocurre con lenguajes compilados (ejemplo: C o Java). En cambio el intérprete de Python lee nuestro código y lo ejecuta línea a línea en el momento de ejecución.\n",
    "Esto nos permite probar partes del código directamente, por ejemplo, usando un terminal interactivo o un entorno como Jupyter Notebook o Google Colab.\n",
    "    * ¿Cómo funciona esto en la práctica? Podemos abrir el intérprete de Python, escribir comandos directamente y ver los resultados al instante. Sin embargo, lo habitual es escribir nuestro código en un archivo de texto con la extensión .py, como mi_programa.py. Luego, ejecutamos ese archivo con el intérprete, que leerá y ejecutará cada línea del archivo.\n",
    "\n",
    "2️⃣**Python es un lenguaje orientado a objetos**\n",
    "\n",
    "* En Python, todo es un objeto. Esto significa que:\n",
    "\n",
    "    * Variables, funciones, números, cadenas de texto, e incluso listas son objetos.\n",
    "Los objetos tienen propiedades (datos asociados) y métodos (funciones que realizan acciones sobre los datos).\n",
    "* La Programación Orientada a Objetos (POO) es un estilo de programación que organiza el código en piezas reutilizables llamadas clases y objetos. Este enfoque tiene muchas ventajas, como:\n",
    "\n",
    "    * Facilitar la modularidad del código.\n",
    "    * Promover la reutilización.\n",
    "    * Encapsular datos y funciones relacionadas.\n",
    "\n",
    "3️⃣**Python es multiplataforma**\n",
    "* Python es compatible con varios sistemas operativos, como:\n",
    "\n",
    "    * Windows\n",
    "    * macOS\n",
    "    * Linux\n",
    "    \n",
    "¿Qué significa esto? Un programa escrito en Python puede ejecutarse en cualquiera de estos sistemas operativos sin necesidad de modificar el código o con cambios mínimos.\n",
    "Esto es especialmente útil si trabajas en un equipo donde cada persona utiliza un sistema operativo diferente.\n"
   ]
  },
  {
   "cell_type": "markdown",
   "metadata": {
    "editable": true,
    "id": "F8rqBkawj1Hu",
    "slideshow": {
     "slide_type": "slide"
    },
    "tags": []
   },
   "source": [
    "## Ventajas de Python 😍\n",
    "La principal ventaja de Python es apostar fuertemente por la **sencillez**. Python parte una premisa base: **“más simple es mejor”** (parece una obviedad, pero no todos los lenguajes siguen esta filosofía).\n",
    "\n",
    "Es decir, Python se enfoca en la productividad del desarrollador y en legibilidad del código. Esto sigue una filosofía que han llamado “The Zen of Python”, que básicamente promueve la simplicidad y claridad al programar.\n",
    "\n",
    "Por otro lado, Python es un lenguaje **multipropósito** (bueno, como casi todos hoy en día). Esto significa que, aunque es más usado en ciertos ámbitos, nada nos impide usarlo para cualquier tipo de programas o tareas. Se utiliza para la creación de páginas web, análisis de datos, machine learning..."
   ]
  },
  {
   "cell_type": "markdown",
   "metadata": {
    "editable": true,
    "id": "F8rqBkawj1Hu",
    "slideshow": {
     "slide_type": "slide"
    },
    "tags": []
   },
   "source": [
    "Otra gran ventaja de Python es su amplia **biblioteca estándar**, que proporciona módulos y funciones para realizar diversas tareas. Esto facilita el desarrollo de aplicaciones sin tener que reinventar la rueda.\n",
    "\n",
    "Finalmente, la mayor ventaja que tiene Python (si, es su mayor ventaja) es la gran **popularidad** que ha adquirido el lenguaje. Esto le ha generado una gran comunidad.\n",
    "\n",
    "Fruto de ello, existe una gran cantidad de recursos, documentaciones, tutoriales, y bibliotecas disponibles, facilitando el aprendizaje y la resolución de problemas.\n",
    "\n",
    "Si tienes una necesidad, lo más seguro es que alguien ya haya hecho una biblioteca para resolverlo en Python."
   ]
  },
  {
   "cell_type": "markdown",
   "metadata": {},
   "source": [
    "```{admonition} Python es...\n",
    ":class: note\n",
    "\n",
    "* Sencillo ✅\n",
    "* Multiplataforma ✅\n",
    "* Multipropósito ✅\n",
    "* Popular ✅"
   ]
  },
  {
   "cell_type": "code",
   "execution_count": null,
   "metadata": {},
   "outputs": [],
   "source": []
  }
 ],
 "metadata": {
  "colab": {
   "provenance": [],
   "toc_visible": true
  },
  "kernelspec": {
   "display_name": "Python 3 (ipykernel)",
   "language": "python",
   "name": "python3"
  },
  "language_info": {
   "codemirror_mode": {
    "name": "ipython",
    "version": 3
   },
   "file_extension": ".py",
   "mimetype": "text/x-python",
   "name": "python",
   "nbconvert_exporter": "python",
   "pygments_lexer": "ipython3",
   "version": "3.12.8"
  }
 },
 "nbformat": 4,
 "nbformat_minor": 4
}