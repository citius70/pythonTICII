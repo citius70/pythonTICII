{
 "cells": [
  {
   "cell_type": "markdown",
   "metadata": {
    "id": "nqgMAc5CTyQp"
   },
   "source": [
    "# La función input()"
   ]
  },
  {
   "cell_type": "markdown",
   "metadata": {
    "id": "nqgMAc5CTyQp"
   },
   "source": [
    "La función `input` en Python es una función incorporada que se utiliza para leer una línea de texto del ingreso del usuario (típicamente desde el teclado). Esta función **espera que el usuario escriba alguna entrada y presione enter**.\n",
    "\n",
    "He aquí un ejemplo simple:"
   ]
  },
  {
   "cell_type": "code",
   "execution_count": 1,
   "metadata": {
    "colab": {
     "base_uri": "https://localhost:8080/"
    },
    "id": "4sYjUoSKT62M",
    "outputId": "e4820d39-f1d0-4549-eb42-692ccef3b76e"
   },
   "outputs": [
    {
     "ename": "StdinNotImplementedError",
     "evalue": "raw_input was called, but this frontend does not support input requests.",
     "output_type": "error",
     "traceback": [
      "\u001b[1;31m---------------------------------------------------------------------------\u001b[0m",
      "\u001b[1;31mStdinNotImplementedError\u001b[0m                  Traceback (most recent call last)",
      "Cell \u001b[1;32mIn[1], line 1\u001b[0m\n\u001b[1;32m----> 1\u001b[0m name \u001b[38;5;241m=\u001b[39m \u001b[38;5;28minput\u001b[39m(\u001b[38;5;124m\"\u001b[39m\u001b[38;5;124m¿Cuál es tu nombre? \u001b[39m\u001b[38;5;124m\"\u001b[39m)\n\u001b[0;32m      2\u001b[0m \u001b[38;5;28mprint\u001b[39m(name)\n",
      "File \u001b[1;32m~\\anaconda3\\envs\\ambiente_1\\Lib\\site-packages\\ipykernel\\kernelbase.py:1281\u001b[0m, in \u001b[0;36mKernel.raw_input\u001b[1;34m(self, prompt)\u001b[0m\n\u001b[0;32m   1279\u001b[0m \u001b[38;5;28;01mif\u001b[39;00m \u001b[38;5;129;01mnot\u001b[39;00m \u001b[38;5;28mself\u001b[39m\u001b[38;5;241m.\u001b[39m_allow_stdin:\n\u001b[0;32m   1280\u001b[0m     msg \u001b[38;5;241m=\u001b[39m \u001b[38;5;124m\"\u001b[39m\u001b[38;5;124mraw_input was called, but this frontend does not support input requests.\u001b[39m\u001b[38;5;124m\"\u001b[39m\n\u001b[1;32m-> 1281\u001b[0m     \u001b[38;5;28;01mraise\u001b[39;00m StdinNotImplementedError(msg)\n\u001b[0;32m   1282\u001b[0m \u001b[38;5;28;01mreturn\u001b[39;00m \u001b[38;5;28mself\u001b[39m\u001b[38;5;241m.\u001b[39m_input_request(\n\u001b[0;32m   1283\u001b[0m     \u001b[38;5;28mstr\u001b[39m(prompt),\n\u001b[0;32m   1284\u001b[0m     \u001b[38;5;28mself\u001b[39m\u001b[38;5;241m.\u001b[39m_parent_ident[\u001b[38;5;124m\"\u001b[39m\u001b[38;5;124mshell\u001b[39m\u001b[38;5;124m\"\u001b[39m],\n\u001b[0;32m   1285\u001b[0m     \u001b[38;5;28mself\u001b[39m\u001b[38;5;241m.\u001b[39mget_parent(\u001b[38;5;124m\"\u001b[39m\u001b[38;5;124mshell\u001b[39m\u001b[38;5;124m\"\u001b[39m),\n\u001b[0;32m   1286\u001b[0m     password\u001b[38;5;241m=\u001b[39m\u001b[38;5;28;01mFalse\u001b[39;00m,\n\u001b[0;32m   1287\u001b[0m )\n",
      "\u001b[1;31mStdinNotImplementedError\u001b[0m: raw_input was called, but this frontend does not support input requests."
     ]
    }
   ],
   "source": [
    "name = input(\"¿Cuál es tu nombre? \")\n",
    "print(name)"
   ]
  },
  {
   "cell_type": "markdown",
   "metadata": {
    "id": "16iE-goxVaWL"
   },
   "source": [
    "En este código, `input(\"¿Cuál es tu nombre? \")` imprime la cadena \"¿Cuál es tu nombre? \" en la consola y luego espera que el usuario escriba algo. Lo que el usuario escriba es devuelto por la función input como una cadena, y en este caso se está almacenando en la variable `name`.\n",
    "\n",
    "Después de que el usuario escribe su nombre y presiona enter, el programa continúa con la siguiente línea, que imprime el valor de la variable `name`."
   ]
  },
  {
   "cell_type": "markdown",
   "metadata": {
    "id": "16iE-goxVaWL"
   },
   "source": [
    "**¡Importante!** Es importante destacar que la **función input siempre devuelve una cadena de texto**. Si deseas usar la entrada como un entero o un flotante (por ejemplo, si estás pidiendo al usuario que introduzca un número), necesitarás convertir el valor devuelto al tipo deseado utilizando la función `int()` o `float()`, así:"
   ]
  },
  {
   "cell_type": "code",
   "execution_count": null,
   "metadata": {
    "colab": {
     "base_uri": "https://localhost:8080/"
    },
    "id": "gRufLDAZVpiY",
    "outputId": "87ca4a05-5484-4930-83b2-0e60a45b03d4"
   },
   "outputs": [],
   "source": [
    "age = int(input(\"¿Cuántos años tienes? \"))\n",
    "print(\"El próximo año tendrás\", age + 1)"
   ]
  },
  {
   "cell_type": "markdown",
   "metadata": {
    "id": "jaMnBuU-VsX6"
   },
   "source": [
    "En este código, `int(input(\"¿Cuántos años tienes? \"))` pide al usuario que introduzca su edad, luego convierte su entrada de una cadena a un entero. Esto permite al programa hacer aritmética con la edad del usuario, como sumar 1 para calcular su edad el próximo año."
   ]
  },
  {
   "cell_type": "markdown",
   "metadata": {},
   "source": [
    "Otro ejemplo típico es pedir al usuario que introduzca varios números para después mostrar el resultado de alguna operación matemática. Fíjate en como hay que transformar el valor que devuelve input en entero (int) o decimal (float)."
   ]
  },
  {
   "cell_type": "code",
   "execution_count": null,
   "metadata": {},
   "outputs": [],
   "source": [
    "numA = int(input(\"Introduzca el primer número: \"))\n",
    "numB = int(input(\"Introduzca el segundo número: \"))\n",
    "sum = numA + numB\n",
    "print(sum)"
   ]
  }
 ],
 "metadata": {
  "colab": {
   "provenance": [],
   "toc_visible": true
  },
  "kernelspec": {
   "display_name": "conda-env-ambiente_1-py",
   "language": "python",
   "name": "conda-env-ambiente_1-py"
  },
  "language_info": {
   "codemirror_mode": {
    "name": "ipython",
    "version": 3
   },
   "file_extension": ".py",
   "mimetype": "text/x-python",
   "name": "python",
   "nbconvert_exporter": "python",
   "pygments_lexer": "ipython3",
   "version": "3.12.8"
  }
 },
 "nbformat": 4,
 "nbformat_minor": 4
}