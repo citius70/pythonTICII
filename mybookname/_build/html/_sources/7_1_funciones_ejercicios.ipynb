{
 "cells": [
  {
   "cell_type": "markdown",
   "id": "8fac5c88-1eab-4af7-b36a-f6c2872fcbb0",
   "metadata": {},
   "source": [
    "# Ejercicios de funciones"
   ]
  },
  {
   "cell_type": "markdown",
   "id": "95cf0e76-e2a7-4450-b0b1-7ffed6e05c9f",
   "metadata": {},
   "source": [
    "## Ejercicio resuelto\n",
    "Vamos a crear una **función** que calcule el **área de un rectángulo**. La función tomará como **parámetros** la base y la altura del rectángulo y devolverá el área."
   ]
  },
  {
   "cell_type": "code",
   "execution_count": 3,
   "id": "7bb16259-ad17-4e96-a8a4-a336ccd33f2f",
   "metadata": {},
   "outputs": [
    {
     "name": "stdout",
     "output_type": "stream",
     "text": [
      "El área del rectángulo es: 20 m2\n",
      "El área del rectángulo es: 12 m2\n",
      "El área del rectángulo es: 21.929999999999996 m2\n"
     ]
    }
   ],
   "source": [
    "# Definimos la función para calcular el área de un rectángulo\n",
    "def calcular_area_rectangulo(b, a):\n",
    "    # Calculamos el área multiplicando la base (b) por la altura (a)\n",
    "    area = b * a\n",
    "    # Imprimimos el resultado del área en metros cuadrados\n",
    "    print(f\"El área del rectángulo es: {area} m2\")\n",
    "    \n",
    "# Llamamos a la función indicando valores a los parámetros\n",
    "calcular_area_rectangulo(4, 5)  # Llamada con base 4 y altura 5\n",
    "calcular_area_rectangulo(3, 4)  # Llamada con base 3 y altura 4\n",
    "calcular_area_rectangulo(4.3, 5.1)  # Llamada con base 4.3 y altura 5.1"
   ]
  },
  {
   "cell_type": "markdown",
   "id": "8c85996e-3945-48ec-a9fd-5674a9d72a44",
   "metadata": {},
   "source": [
    "## Ejercicio 1: Calcular el cuadrado de un número\n",
    "Crea una función que calcule el cuadrado de un número."
   ]
  },
  {
   "cell_type": "code",
   "execution_count": 5,
   "id": "e2298c96-c7e2-4a80-abd5-3f8a72967cc7",
   "metadata": {},
   "outputs": [
    {
     "name": "stdin",
     "output_type": "stream",
     "text": [
      "Ingrese un número:  4\n"
     ]
    },
    {
     "name": "stdout",
     "output_type": "stream",
     "text": [
      "El cuadrado de 4.0 es: 16.0\n"
     ]
    }
   ],
   "source": [
    "# Definimos la función para calcular el cuadrado de un número\n",
    "def calcular_cuadrado(numero):\n",
    "    return numero ** 2\n",
    "\n",
    "# Solicitamos al usuario que ingrese un número\n",
    "numero = float(input(\"Ingrese un número: \"))\n",
    "\n",
    "# Llamamos a la función y almacenamos el resultado\n",
    "resultado = calcular_cuadrado(numero)\n",
    "\n",
    "# Mostramos el resultado\n",
    "print(f\"El cuadrado de {numero} es: {resultado}\")"
   ]
  },
  {
   "cell_type": "markdown",
   "id": "9ad958d2-8f27-4d3d-8052-778c1dc3dddf",
   "metadata": {},
   "source": [
    "## Ejercicio 2: Convertir de grados Celsius a Fahrenheit\n",
    " Vamos a crear una función que convierta grados Celsius a grados Fahrenheit. Recuerdaque para pasar grados Celsius a Fahrenheit:\n",
    "$$\n",
    "(ºC*9/5)+32 = ºF\n",
    "$$"
   ]
  },
  {
   "cell_type": "code",
   "execution_count": null,
   "id": "c4fc8a4a-ac29-4867-8f68-148780f49d19",
   "metadata": {},
   "outputs": [],
   "source": [
    "\"\"\"Definimos la función para convertir Celsius a Fahrenheit,\n",
    "en este caso sin parámetros ya que lo vamos a pedir dentro de la función \"\"\"\n",
    "def celsius_a_fahrenheit():\n",
    "    celsius = float(input(\"Ingrese la temperatura en grados Celsius: \"))\n",
    "    fahrenheit = (celsius * 9/5) + 32\n",
    "    print(f\"{celsius} grados Celsius son {fahrenheit} grados Fahrenheit.\")\n",
    "\n",
    "celsius_a_fahrenheit()\n",
    "\n"
   ]
  },
  {
   "cell_type": "code",
   "execution_count": null,
   "id": "5d1a833d-935e-43dc-8e7a-9ce153a10770",
   "metadata": {},
   "outputs": [],
   "source": []
  }
 ],
 "metadata": {
  "kernelspec": {
   "display_name": "conda-env-ambiente_1-py",
   "language": "python",
   "name": "conda-env-ambiente_1-py"
  },
  "language_info": {
   "codemirror_mode": {
    "name": "ipython",
    "version": 3
   },
   "file_extension": ".py",
   "mimetype": "text/x-python",
   "name": "python",
   "nbconvert_exporter": "python",
   "pygments_lexer": "ipython3",
   "version": "3.12.8"
  }
 },
 "nbformat": 4,
 "nbformat_minor": 5
}
