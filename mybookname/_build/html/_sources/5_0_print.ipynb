{
 "cells": [
  {
   "cell_type": "markdown",
   "metadata": {
    "id": "pYWMeBnYEwYh"
   },
   "source": [
    "# Función print()"
   ]
  },
  {
   "cell_type": "markdown",
   "metadata": {
    "id": "pYWMeBnYEwYh"
   },
   "source": [
    "La función `print` en Python es una función incorporada que \"envía salida a la consola\". En lenguaje no técnico, significa que se utiliza para **mostrar información** al usuario.\n",
    "\n",
    "Así es cómo puedes usar la función print:"
   ]
  },
  {
   "cell_type": "code",
   "execution_count": 1,
   "metadata": {
    "colab": {
     "base_uri": "https://localhost:8080/"
    },
    "id": "l2hVh29TEv64",
    "outputId": "87e3def1-7637-4695-f858-9db2660c0c40"
   },
   "outputs": [
    {
     "name": "stdout",
     "output_type": "stream",
     "text": [
      "¡Hola, Mundo!\n"
     ]
    }
   ],
   "source": [
    "print(\"¡Hola, Mundo!\")"
   ]
  },
  {
   "cell_type": "markdown",
   "metadata": {
    "id": "-DyVenUOIuqe"
   },
   "source": [
    "Esto mostrará: \"¡Hola, Mundo!\".\n",
    "\n",
    "También puedes usar la función print para imprimir el valor de las variables:"
   ]
  },
  {
   "cell_type": "code",
   "execution_count": 2,
   "metadata": {},
   "outputs": [
    {
     "name": "stdout",
     "output_type": "stream",
     "text": [
      "10\n"
     ]
    }
   ],
   "source": [
    "x = 10\n",
    "print(x)"
   ]
  },
  {
   "cell_type": "code",
   "execution_count": 3,
   "metadata": {
    "id": "8j37Jj-XIuDI"
   },
   "outputs": [
    {
     "name": "stdout",
     "output_type": "stream",
     "text": [
      "El valor de x es 10\n"
     ]
    }
   ],
   "source": [
    "# Todavía mejor\n",
    "x = 10\n",
    "print(\"El valor de x es\", x)"
   ]
  },
  {
   "cell_type": "markdown",
   "metadata": {},
   "source": [
    "## F-strings"
   ]
  },
  {
   "cell_type": "markdown",
   "metadata": {
    "id": "9NFgYXjQI1A4"
   },
   "source": [
    "También puedes usar los llamados `f-strings`, que te permitirá introducir la variable en cualquier lugar que desees dentro de la cadena / string"
   ]
  },
  {
   "cell_type": "code",
   "execution_count": 4,
   "metadata": {
    "colab": {
     "base_uri": "https://localhost:8080/"
    },
    "id": "TXQoPSHdI_gU",
    "outputId": "af56f36b-ed8e-4f62-d7bc-6ba286ca1bfc"
   },
   "outputs": [
    {
     "name": "stdout",
     "output_type": "stream",
     "text": [
      "Mi nombre es Sebastián\n"
     ]
    }
   ],
   "source": [
    "myName = \"Sebastián\"\n",
    "print(f\"Mi nombre es {myName}\")"
   ]
  },
  {
   "cell_type": "markdown",
   "metadata": {
    "id": "E2Jf2kn2I45G"
   },
   "source": [
    "Esto es lo que está pasando:\n",
    "\n",
    "`f\"Mi nombre es {myName}\"` : Esto es un f-string, un tipo de cadena literal que comienza con la letra f o F antes de la comilla de apertura. Dentro de un f-string, puedes incluir variables dentro de {} (llaves) que serán reemplazadas por sus valores cuando se crea la cadena. En este caso, `{myName}` será reemplazado por el valor **Sebastián**.\n",
    "\n",
    "Por lo tanto, esta línea de código es una manera de imprimir una cadena que incluye el valor de la variable `myName`. La ventaja de los f-strings es que a menudo son más legibles y concisos que otras formas de formatear cadenas en Python, especialmente cuando estás trabajando con múltiples variables o expresiones más complejas.\n",
    "\n",
    "Otro ejemplo:"
   ]
  },
  {
   "cell_type": "code",
   "execution_count": 5,
   "metadata": {
    "colab": {
     "base_uri": "https://localhost:8080/"
    },
    "id": "tYtPoV9HSYuW",
    "outputId": "bb78a921-b894-49e3-f728-8c1b647cf4e1"
   },
   "outputs": [
    {
     "name": "stdout",
     "output_type": "stream",
     "text": [
      "Hola, mi nombre es Alicia, tengo 25 años y vivo en Nueva York.\n"
     ]
    }
   ],
   "source": [
    "name = \"Alicia\"\n",
    "age = 25\n",
    "city = \"Nueva York\"\n",
    "\n",
    "greeting = f\"Hola, mi nombre es {name}, tengo {age} años y vivo en {city}.\"\n",
    "\n",
    "print(greeting)"
   ]
  },
  {
   "cell_type": "markdown",
   "metadata": {
    "id": "hpAdUwy3Scvz"
   },
   "source": [
    "Cuando ejecutes este código, imprimirá:\n",
    "**Hola, mi nombre es Alicia, tengo 25 años y vivo en Nueva York**."
   ]
  },
  {
   "cell_type": "markdown",
   "metadata": {},
   "source": [
    "## Imprimir en varias líneas"
   ]
  },
  {
   "cell_type": "markdown",
   "metadata": {},
   "source": [
    "Otra opción de la función print es la que permite mostrar un texto en varia líneas:"
   ]
  },
  {
   "cell_type": "code",
   "execution_count": 6,
   "metadata": {},
   "outputs": [
    {
     "name": "stdout",
     "output_type": "stream",
     "text": [
      "Línea 1 \n",
      "Línea 2 \n",
      "Línea 3\n"
     ]
    }
   ],
   "source": [
    "print(\"Línea 1 \\nLínea 2 \\nLínea 3\")"
   ]
  },
  {
   "cell_type": "markdown",
   "metadata": {},
   "source": [
    "## Otros procedimientos con la función print()"
   ]
  },
  {
   "cell_type": "markdown",
   "metadata": {},
   "source": [
    "A continuación se muestran más opciones de la función print:"
   ]
  },
  {
   "cell_type": "code",
   "execution_count": 7,
   "metadata": {},
   "outputs": [
    {
     "name": "stdout",
     "output_type": "stream",
     "text": [
      "Alberto-Sara-Ana\n",
      "Hola Mundo\n",
      "Stock de frutas: ['manzana', 'banana', 'naranja']\n"
     ]
    }
   ],
   "source": [
    "# Usar el parámetro sep  para personalizar el separador entre los valores impresos. Por ejemplo, imprime \"a\", \"b\", \"c\" separados por un guion.\n",
    "print(\"Alberto\", \"Sara\", \"Ana\", sep=\"-\")\n",
    "\n",
    "# Usar el parámetro end para cambiar el final de la línea\n",
    "print(\"Hola\", end=\" \")\n",
    "print(\"Mundo\")\n",
    "\n",
    "# Imprimir una lista \n",
    "frutas = [\"manzana\", \"banana\", \"naranja\"]\n",
    "print(\"Stock de frutas:\", frutas)"
   ]
  }
 ],
 "metadata": {
  "colab": {
   "provenance": [],
   "toc_visible": true
  },
  "kernelspec": {
   "display_name": "conda-env-ambiente_1-py",
   "language": "python",
   "name": "conda-env-ambiente_1-py"
  },
  "language_info": {
   "codemirror_mode": {
    "name": "ipython",
    "version": 3
   },
   "file_extension": ".py",
   "mimetype": "text/x-python",
   "name": "python",
   "nbconvert_exporter": "python",
   "pygments_lexer": "ipython3",
   "version": "3.12.8"
  }
 },
 "nbformat": 4,
 "nbformat_minor": 4
}
