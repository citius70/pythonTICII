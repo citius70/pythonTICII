{
 "cells": [
  {
   "cell_type": "markdown",
   "id": "19c83b97-bd94-4d12-ba5f-41b98b943591",
   "metadata": {},
   "source": [
    "# Resumen"
   ]
  },
  {
   "cell_type": "markdown",
   "id": "52918301-1d36-485a-8e43-0cfbefa7d9d5",
   "metadata": {},
   "source": [
    "Aquí tienes un resumen de los conceptos más importantes de Python, junto con ejemplos para ilustrar cada uno."
   ]
  },
  {
   "cell_type": "markdown",
   "id": "367cee4e-ffd7-43ff-b426-215350da277b",
   "metadata": {},
   "source": [
    "## Variables y Tipos de Datos\n",
    "Python es un lenguaje de tipado dinámico, lo que significa que no necesitas declarar el tipo de una variable al crearla."
   ]
  },
  {
   "cell_type": "markdown",
   "id": "36b8e240-d3ac-4099-b0e3-5a6f57252a44",
   "metadata": {},
   "source": [
    "## Ejemplos de variables"
   ]
  },
  {
   "cell_type": "code",
   "execution_count": 1,
   "id": "a0f26adc-7650-4406-9561-163da7ee5416",
   "metadata": {},
   "outputs": [],
   "source": [
    "nombre = \"Juan\"  # String\n",
    "edad = 30        # Integer\n",
    "altura = 1.75    # Float\n",
    "es_estudiante = True  # Boolean"
   ]
  },
  {
   "cell_type": "markdown",
   "id": "bed57a13-dc59-4c71-8c1d-c9d18d4fa1a1",
   "metadata": {},
   "source": [
    "## Estructuras de Control\n",
    "### Condicionales\n",
    "Puedes usar if, elif y else para tomar decisiones en tu código."
   ]
  },
  {
   "cell_type": "code",
   "execution_count": 2,
   "id": "99c92582-aa42-4e70-b681-dfceda41ce89",
   "metadata": {},
   "outputs": [
    {
     "name": "stdout",
     "output_type": "stream",
     "text": [
      "Eres mayor de edad.\n"
     ]
    }
   ],
   "source": [
    "edad = 18\n",
    "\n",
    "if edad < 18:\n",
    "    print(\"Eres menor de edad.\")\n",
    "elif edad == 18:\n",
    "    print(\"Eres mayor de edad.\")\n",
    "else:\n",
    "    print(\"Eres adulto.\")"
   ]
  },
  {
   "cell_type": "markdown",
   "id": "2d044e64-1312-4fd8-8d38-b5cd66ce34ba",
   "metadata": {},
   "source": [
    "### Bucles\n",
    "Los bucles for y while te permiten repetir bloques de código."
   ]
  },
  {
   "cell_type": "markdown",
   "id": "a0ac0374-d3a2-4a78-8724-531935b81875",
   "metadata": {},
   "source": [
    "#### Bucle for"
   ]
  },
  {
   "cell_type": "markdown",
   "id": "95537c88-c9b1-40fe-9aa4-208858a1ea11",
   "metadata": {},
   "source": [
    "### for i in range(5):\n",
    "    print(i)  # Imprime 0, 1, 2, 3, 4"
   ]
  },
  {
   "cell_type": "markdown",
   "id": "eaf7ee72-307e-49b1-ae4d-eac7d4854a75",
   "metadata": {},
   "source": [
    "#### Bucle while"
   ]
  },
  {
   "cell_type": "code",
   "execution_count": 3,
   "id": "d6cb39aa-d359-41bc-a581-90a6f40e345f",
   "metadata": {},
   "outputs": [
    {
     "name": "stdout",
     "output_type": "stream",
     "text": [
      "0\n",
      "1\n",
      "2\n",
      "3\n",
      "4\n"
     ]
    }
   ],
   "source": [
    "contador = 0\n",
    "while contador < 5:\n",
    "    print(contador)\n",
    "    contador += 1  # Incrementa contador"
   ]
  },
  {
   "cell_type": "markdown",
   "id": "5cc95361-5eb6-465b-b01f-7311f8520fa0",
   "metadata": {},
   "source": [
    "## Funciones\n",
    "Las funciones te permiten encapsular código y reutilizarlo."
   ]
  },
  {
   "cell_type": "code",
   "execution_count": 4,
   "id": "3fe4b396-1c5c-41c3-b855-3c9bf6d20e8e",
   "metadata": {},
   "outputs": [
    {
     "name": "stdout",
     "output_type": "stream",
     "text": [
      "Hola, Juan!\n"
     ]
    }
   ],
   "source": [
    "def saludar(nombre):\n",
    "    return f\"Hola, {nombre}!\"\n",
    "\n",
    "print(saludar(\"Juan\"))  # Imprime \"Hola, Juan!\""
   ]
  },
  {
   "cell_type": "markdown",
   "id": "8d39053f-1738-4aff-b7aa-6702435b8561",
   "metadata": {},
   "source": [
    "## Listas y Tuplas\n",
    "Las listas son colecciones mutables, mientras que las tuplas son inmutables"
   ]
  },
  {
   "cell_type": "markdown",
   "id": "3ec966df-7857-4771-88eb-4bba7eff678e",
   "metadata": {},
   "source": [
    "### Lista"
   ]
  },
  {
   "cell_type": "code",
   "execution_count": 5,
   "id": "75143fe2-81f3-456f-af8e-14873f04ab6f",
   "metadata": {},
   "outputs": [
    {
     "name": "stdout",
     "output_type": "stream",
     "text": [
      "['manzana', 'banana', 'cereza', 'naranja']\n"
     ]
    }
   ],
   "source": [
    "frutas = [\"manzana\", \"banana\", \"cereza\"]\n",
    "frutas.append(\"naranja\")  # Agrega un elemento\n",
    "print(frutas)  # Imprime ['manzana', 'banana', 'cereza', 'naranja']\n",
    "\n",
    "# Tupla"
   ]
  },
  {
   "cell_type": "markdown",
   "id": "643db248-1309-41c8-8bd9-5835ed6b68c5",
   "metadata": {},
   "source": [
    "### Tuplas"
   ]
  },
  {
   "cell_type": "code",
   "execution_count": null,
   "id": "895c6dcc-2f88-48be-be08-c526ca5d937d",
   "metadata": {},
   "outputs": [],
   "source": [
    "coordenadas = (10.0, 20.0)\n",
    "print(coordenadas)  # Imprime (10.0, 20.0)"
   ]
  },
  {
   "cell_type": "markdown",
   "id": "b64dc61b-f15a-4fce-9db1-b9663f7b9eac",
   "metadata": {},
   "source": [
    "## Diccionarios\n",
    "Los diccionarios son colecciones de pares clave-valor."
   ]
  },
  {
   "cell_type": "code",
   "execution_count": null,
   "id": "d80960e0-0a29-4fa3-97d8-d0da22f82b78",
   "metadata": {},
   "outputs": [],
   "source": [
    "persona = {\n",
    "    \"nombre\": \"Juan\",\n",
    "    \"edad\": 30,\n",
    "    \"altura\": 1.75\n",
    "}\n",
    "\n",
    "print(persona[\"nombre\"])  # Imprime \"Juan\""
   ]
  },
  {
   "cell_type": "markdown",
   "id": "fbdc7bd6-c684-4269-b59b-2c3f16e4db0c",
   "metadata": {},
   "source": [
    "## Módulos y Paquetes\n",
    "Puedes organizar tu código en módulos y paquetes para una mejor estructura."
   ]
  },
  {
   "cell_type": "code",
   "execution_count": 6,
   "id": "260997ff-27b9-46c3-ae2c-99a2de5de016",
   "metadata": {},
   "outputs": [
    {
     "name": "stdout",
     "output_type": "stream",
     "text": [
      "4.0\n"
     ]
    }
   ],
   "source": [
    "### Importar un módulo\n",
    "import math\n",
    "\n",
    "print(math.sqrt(16))  # Imprime 4.0"
   ]
  },
  {
   "cell_type": "markdown",
   "id": "2516c4dc-f8fb-48a4-a07d-b6ec16f70872",
   "metadata": {},
   "source": [
    "## Manejo de Excepciones\n",
    "Puedes manejar errores en tu código usando try y except."
   ]
  },
  {
   "cell_type": "code",
   "execution_count": 7,
   "id": "cd9645e8-a082-4865-a7f6-461dca38ce1e",
   "metadata": {},
   "outputs": [
    {
     "name": "stdout",
     "output_type": "stream",
     "text": [
      "No se puede dividir entre cero.\n"
     ]
    }
   ],
   "source": [
    "try:\n",
    "    resultado = 10 / 0\n",
    "except ZeroDivisionError:\n",
    "    print(\"No se puede dividir entre cero.\")"
   ]
  },
  {
   "cell_type": "markdown",
   "id": "139b4ac3-05a7-46b5-83b3-1b889ae9a329",
   "metadata": {},
   "source": [
    "## Programación Orientada a Objetos (OOP)\n",
    "Python soporta OOP, lo que te permite crear clases y objetos."
   ]
  },
  {
   "cell_type": "code",
   "execution_count": 8,
   "id": "c0111906-36a2-472a-a534-091c880897b2",
   "metadata": {},
   "outputs": [
    {
     "name": "stdout",
     "output_type": "stream",
     "text": [
      "Hola, soy Juan y tengo 30 años.\n"
     ]
    }
   ],
   "source": [
    "class Persona:\n",
    "    def __init__(self, nombre, edad):\n",
    "        self.nombre = nombre\n",
    "        self.edad = edad\n",
    "\n",
    "    def saludar(self):\n",
    "        return f\"Hola, soy {self.nombre} y tengo {self.edad} años.\"\n",
    "\n",
    "juan = Persona(\"Juan\", 30)\n",
    "print(juan.saludar())  # Imprime \"Hola, soy Juan y tengo 30 años.\""
   ]
  },
  {
   "cell_type": "markdown",
   "id": "a56b75e1-4e29-4ab4-8e74-5cacd37d66b2",
   "metadata": {},
   "source": [
    "## Comprensiones de Listas\n",
    "Las comprensiones de listas son una forma concisa de crear listas."
   ]
  },
  {
   "cell_type": "code",
   "execution_count": null,
   "id": "51a1f271-3a6b-4194-ace1-a8387c4908d1",
   "metadata": {},
   "outputs": [],
   "source": [
    "cuadrados = [x**2 for x in range(10)]\n",
    "print(cuadrados)  # Imprime [0, 1, 4, 9, 16, 25, 36, 49, 64, 81]"
   ]
  },
  {
   "cell_type": "markdown",
   "id": "b5a2e707-8348-4179-8a14-5d3c293e3cf8",
   "metadata": {},
   "source": [
    "## Funciones Lambda\n",
    "Las funciones lambda son funciones anónimas que se pueden definir en una sola línea."
   ]
  },
  {
   "cell_type": "code",
   "execution_count": null,
   "id": "75982548-3071-4ab7-8328-1b4e2d1f5528",
   "metadata": {},
   "outputs": [],
   "source": [
    "suma = lambda x, y: x + y\n",
    "print(suma(5, 3))  # Imprime 8"
   ]
  },
  {
   "cell_type": "markdown",
   "id": "50400dcf-15a1-40db-ac3e-5de71fc81eff",
   "metadata": {},
   "source": []
  }
 ],
 "metadata": {
  "kernelspec": {
   "display_name": "Python 3 (ipykernel)",
   "language": "python",
   "name": "python3"
  },
  "language_info": {
   "codemirror_mode": {
    "name": "ipython",
    "version": 3
   },
   "file_extension": ".py",
   "mimetype": "text/x-python",
   "name": "python",
   "nbconvert_exporter": "python",
   "pygments_lexer": "ipython3",
   "version": "3.12.8"
  }
 },
 "nbformat": 4,
 "nbformat_minor": 5
}
