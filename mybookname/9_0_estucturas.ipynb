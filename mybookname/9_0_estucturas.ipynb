{
 "cells": [
  {
   "cell_type": "markdown",
   "metadata": {
    "id": "r2FoVtLdls_O"
   },
   "source": [
    "# Estructuras de datos\n",
    "\n",
    "En Python, las **estructuras de datos** son formas de **organizar y almacenar datos** para que puedan ser utilizados de manera eficiente.\n",
    "En este artículo revisaremos qué cuales son los diversos tipos de datos que podemos manipular en python, cuáles son sus características, ventajas y desventajas. En particular hablaremos de las:\n",
    "* **listas**\n",
    "* **diccionarios**\n",
    "* tuplas\n",
    "* sets (conjuntos)"
   ]
  },
  {
   "cell_type": "code",
   "execution_count": null,
   "metadata": {},
   "outputs": [],
   "source": []
  }
 ],
 "metadata": {
  "colab": {
   "provenance": []
  },
  "kernelspec": {
   "display_name": "Python 3 (ipykernel)",
   "language": "python",
   "name": "python3"
  },
  "language_info": {
   "codemirror_mode": {
    "name": "ipython",
    "version": 3
   },
   "file_extension": ".py",
   "mimetype": "text/x-python",
   "name": "python",
   "nbconvert_exporter": "python",
   "pygments_lexer": "ipython3",
   "version": "3.12.8"
  }
 },
 "nbformat": 4,
 "nbformat_minor": 4
}
