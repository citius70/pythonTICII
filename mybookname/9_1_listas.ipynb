{
 "cells": [
  {
   "cell_type": "markdown",
   "metadata": {
    "id": "dwVBxz0d_fNG"
   },
   "source": [
    "# Listas\n",
    "Una **lista** es una **colección ordenada de elementos (o valores)**. \n",
    "Los elementos de una lista van encerrados entre corchetes `[ ]`. Por ejemplo:"
   ]
  },
  {
   "cell_type": "code",
   "execution_count": 1,
   "metadata": {
    "colab": {
     "base_uri": "https://localhost:8080/"
    },
    "id": "_r0wrb50_gX-",
    "outputId": "dc92eabd-3f8a-49b2-c868-515aae1305d3"
   },
   "outputs": [
    {
     "name": "stdout",
     "output_type": "stream",
     "text": [
      "['manzana', 'platano', 'cereza']\n"
     ]
    }
   ],
   "source": [
    "frutas = ['manzana', 'platano', 'cereza']\n",
    "print(frutas)"
   ]
  },
  {
   "cell_type": "markdown",
   "metadata": {},
   "source": [
    "```{note} Características de las listas\n",
    "* **Mutabilidad**: Los elementos de una lista pueden ser modificados después de la creación de la lista\n",
    "* **Ordenadas**: Los elementos de una lista están ordenados y mantienen el orden en el que se añadieron. Su posición lo indica su índice.\n",
    "* Pueden contener **cualquier tipo de dato**: Una lista puede contener elementos de diferentes tipos de datos, como enteros, cadenas, flotantes, u otras listas\n",
    "```"
   ]
  },
  {
   "cell_type": "markdown",
   "metadata": {},
   "source": [
    "## Índices\n",
    "Los elementos (o valores) de una lista se pueden acceder utilizando **índices numéricos**. El índice **¡comienza en 0 para el primer elemento!** y se incrementa de forma consecutiva."
   ]
  },
  {
   "cell_type": "markdown",
   "metadata": {},
   "source": [
    "<img src=https://railsware.com/blog/wp-content/uploads/2018/10/positive-indexes.png>"
   ]
  },
  {
   "cell_type": "markdown",
   "metadata": {},
   "source": [
    "En este caso el valor `red` tiene el índice `0`, el valor `green` tiene el valor `1`, ..."
   ]
  },
  {
   "cell_type": "markdown",
   "metadata": {},
   "source": [
    "Las listas son **mutables**, lo que significa que puedes cambiar su contenido. Por ejemplo, podemos añadir un elemento:"
   ]
  },
  {
   "cell_type": "code",
   "execution_count": 2,
   "metadata": {
    "jupyter": {
     "source_hidden": true
    }
   },
   "outputs": [
    {
     "name": "stdout",
     "output_type": "stream",
     "text": [
      "['manzana', 'platano', 'cereza', 'naranja']\n"
     ]
    }
   ],
   "source": [
    "frutas.append('naranja')  # Podemos agregar un elemento a la lista\n",
    "print(frutas)"
   ]
  },
  {
   "cell_type": "markdown",
   "metadata": {},
   "source": [
    "A continuación, se listan una serie de métodos que aprovechan la **mutabilidad** de las listas."
   ]
  },
  {
   "cell_type": "markdown",
   "metadata": {},
   "source": [
    "## Métodos de manipulación de listas\n",
    "Como se comentó las listas son **mutables**, es decir, pueden modificarse. A continuación, se listan una serie de métodos que aprovechan la mutabilidad de las listas.\n",
    "\n",
    "Empezamos creando una **lista inicial:**"
   ]
  },
  {
   "cell_type": "code",
   "execution_count": 3,
   "metadata": {},
   "outputs": [],
   "source": [
    "listaAnimales = [\"perro\", \"gato\", \"elefante\"]"
   ]
  },
  {
   "cell_type": "markdown",
   "metadata": {},
   "source": [
    "1. **append(elemento)**: Agrega un elemento al final de la lista.   "
   ]
  },
  {
   "cell_type": "code",
   "execution_count": 4,
   "metadata": {
    "scrolled": true
   },
   "outputs": [
    {
     "name": "stdout",
     "output_type": "stream",
     "text": [
      "Después de append: ['perro', 'gato', 'elefante', 'jirafa']\n"
     ]
    }
   ],
   "source": [
    "listaAnimales.append(\"jirafa\")\n",
    "print(\"Después de append:\", listaAnimales)"
   ]
  },
  {
   "cell_type": "markdown",
   "metadata": {},
   "source": [
    "2. **extend(iterable)**: Agrega todos los elementos de un iterable al final de la lista."
   ]
  },
  {
   "cell_type": "code",
   "execution_count": 5,
   "metadata": {},
   "outputs": [
    {
     "name": "stdout",
     "output_type": "stream",
     "text": [
      "Después de extend: ['perro', 'gato', 'elefante', 'jirafa', 'león', 'tigre']\n"
     ]
    }
   ],
   "source": [
    "listaAnimales.extend([\"león\", \"tigre\"])\n",
    "print(\"Después de extend:\", listaAnimales)"
   ]
  },
  {
   "cell_type": "markdown",
   "metadata": {},
   "source": [
    "3. **insert(index, elemento)**: Inserta un elemento en una posición específica de la lista."
   ]
  },
  {
   "cell_type": "code",
   "execution_count": 6,
   "metadata": {},
   "outputs": [
    {
     "name": "stdout",
     "output_type": "stream",
     "text": [
      "Después de insert: ['perro', 'gato', 'zorro', 'elefante', 'jirafa', 'león', 'tigre']\n"
     ]
    }
   ],
   "source": [
    "listaAnimales.insert(2, \"zorro\")  # Inserta \"zorro\" en la posición 2\n",
    "print(\"Después de insert:\", listaAnimales)"
   ]
  },
  {
   "cell_type": "markdown",
   "metadata": {},
   "source": [
    "4. **remove(elemento)**: Elimina la primera aparición de un elemento de la lista."
   ]
  },
  {
   "cell_type": "code",
   "execution_count": 7,
   "metadata": {},
   "outputs": [
    {
     "name": "stdout",
     "output_type": "stream",
     "text": [
      "Después de remove: ['perro', 'gato', 'zorro', 'jirafa', 'león', 'tigre']\n"
     ]
    }
   ],
   "source": [
    "listaAnimales.remove(\"elefante\")\n",
    "print(\"Después de remove:\", listaAnimales) "
   ]
  },
  {
   "cell_type": "markdown",
   "metadata": {},
   "source": [
    "5. **pop(index)**: Elimina y devuelve el elemento en una posición específica de la lista."
   ]
  },
  {
   "cell_type": "code",
   "execution_count": 8,
   "metadata": {},
   "outputs": [
    {
     "name": "stdout",
     "output_type": "stream",
     "text": [
      "Después de pop: ['perro', 'gato', 'zorro', 'león', 'tigre']\n",
      "Elemento eliminado: jirafa\n"
     ]
    }
   ],
   "source": [
    "elemento_eliminado = listaAnimales.pop(3)  # Elimina el elemento en la posición 3\n",
    "print(\"Después de pop:\", listaAnimales)  # Salida: ['perro', 'gato', 'zorro', 'león', 'tigre']\n",
    "print(\"Elemento eliminado:\", elemento_eliminado)  # Salida: 'jirafa'"
   ]
  },
  {
   "cell_type": "markdown",
   "metadata": {},
   "source": [
    "6. **index(elemento)**: Devuelve el índice de la primera aparición de un elemento en la lista."
   ]
  },
  {
   "cell_type": "code",
   "execution_count": 9,
   "metadata": {},
   "outputs": [
    {
     "name": "stdout",
     "output_type": "stream",
     "text": [
      "Índice de 'zorro': 2\n"
     ]
    }
   ],
   "source": [
    "indice = listaAnimales.index(\"zorro\")\n",
    "print(\"Índice de 'zorro':\", indice)  # Salida: 2"
   ]
  },
  {
   "cell_type": "markdown",
   "metadata": {},
   "source": [
    "7. **count(elemento)**: Cuenta la cantidad de veces que un elemento aparece en la lista."
   ]
  },
  {
   "cell_type": "code",
   "execution_count": 10,
   "metadata": {},
   "outputs": [
    {
     "name": "stdout",
     "output_type": "stream",
     "text": [
      "Cantidad de veces que aparece 'perro': 1\n"
     ]
    }
   ],
   "source": [
    "conteo = listaAnimales.count(\"perro\")\n",
    "print(\"Cantidad de veces que aparece 'perro':\", conteo)"
   ]
  },
  {
   "cell_type": "markdown",
   "metadata": {},
   "source": [
    "8. **sort()**: Ordena los elementos de la lista en orden ascendente."
   ]
  },
  {
   "cell_type": "code",
   "execution_count": 11,
   "metadata": {},
   "outputs": [
    {
     "name": "stdout",
     "output_type": "stream",
     "text": [
      " Después de sort:  ['gato', 'león', 'perro', 'tigre', 'zorro']\n"
     ]
    }
   ],
   "source": [
    "listaAnimales.sort()\n",
    "print(\" Después de sort: \", listaAnimales)"
   ]
  },
  {
   "cell_type": "markdown",
   "metadata": {},
   "source": [
    "9. **reverse()**: Invierte el orden de los elementos en la lista."
   ]
  },
  {
   "cell_type": "code",
   "execution_count": 12,
   "metadata": {
    "jupyter": {
     "source_hidden": true
    }
   },
   "outputs": [
    {
     "name": "stdout",
     "output_type": "stream",
     "text": [
      " Después de reverse:  ['zorro', 'tigre', 'perro', 'león', 'gato']\n"
     ]
    }
   ],
   "source": [
    "listaAnimales.reverse()\n",
    "print(\" Después de reverse: \", listaAnimales)"
   ]
  },
  {
   "cell_type": "markdown",
   "metadata": {
    "id": "dlLX1Xk-BNE8"
   },
   "source": [
    "### Otros métodos"
   ]
  },
  {
   "cell_type": "markdown",
   "metadata": {},
   "source": [
    "Empezamos creando una **lista inicial de números**:"
   ]
  },
  {
   "cell_type": "code",
   "execution_count": 13,
   "metadata": {},
   "outputs": [],
   "source": [
    "listaNumeros = [10, 30, 20, 50, 40]"
   ]
  },
  {
   "cell_type": "markdown",
   "metadata": {},
   "source": [
    "1. **sum(lista)**: Suma los elementos en la lista."
   ]
  },
  {
   "cell_type": "code",
   "execution_count": 14,
   "metadata": {},
   "outputs": [
    {
     "name": "stdout",
     "output_type": "stream",
     "text": [
      "Suma de los elementos: 150\n"
     ]
    }
   ],
   "source": [
    "suma_total = sum(listaNumeros)\n",
    "print(\"Suma de los elementos:\", suma_total)"
   ]
  },
  {
   "cell_type": "markdown",
   "metadata": {},
   "source": [
    "2. **min(lista)**: Calcula el mínimo de los elementos de la lista."
   ]
  },
  {
   "cell_type": "code",
   "execution_count": 15,
   "metadata": {},
   "outputs": [
    {
     "name": "stdout",
     "output_type": "stream",
     "text": [
      "Mínimo de los elementos: 10\n"
     ]
    }
   ],
   "source": [
    "minimo = min(listaNumeros)\n",
    "print(\"Mínimo de los elementos:\", minimo)"
   ]
  },
  {
   "cell_type": "markdown",
   "metadata": {},
   "source": [
    "3. **max(lista)**: Calcula el máximo de los elementos de la lista."
   ]
  },
  {
   "cell_type": "code",
   "execution_count": 16,
   "metadata": {},
   "outputs": [
    {
     "name": "stdout",
     "output_type": "stream",
     "text": [
      "Máximo de los elementos: 50\n"
     ]
    }
   ],
   "source": [
    "maximo = max(listaNumeros)\n",
    "print(\"Máximo de los elementos:\", maximo)"
   ]
  },
  {
   "cell_type": "markdown",
   "metadata": {},
   "source": [
    "4. **len(lista)**: Cuenta la cantidad de elementos en la lista."
   ]
  },
  {
   "cell_type": "code",
   "execution_count": 17,
   "metadata": {},
   "outputs": [
    {
     "name": "stdout",
     "output_type": "stream",
     "text": [
      "Cantidad de elementos en la lista: 5\n"
     ]
    }
   ],
   "source": [
    "cantidad_elementos = len(listaNumeros)\n",
    "print(\"Cantidad de elementos en la lista:\", cantidad_elementos)"
   ]
  },
  {
   "cell_type": "markdown",
   "metadata": {},
   "source": [
    "5. **in (lista)**: Comprueba si algo está en una lista. La salida es TRUE o FALSE."
   ]
  },
  {
   "cell_type": "code",
   "execution_count": 18,
   "metadata": {},
   "outputs": [
    {
     "name": "stdout",
     "output_type": "stream",
     "text": [
      "True\n"
     ]
    }
   ],
   "source": [
    "respuesta = 30 in(listaNumeros)\n",
    "print(respuesta)"
   ]
  },
  {
   "cell_type": "code",
   "execution_count": 19,
   "metadata": {},
   "outputs": [
    {
     "name": "stdout",
     "output_type": "stream",
     "text": [
      "False\n"
     ]
    }
   ],
   "source": [
    "respuesta = 31 in(listaNumeros)\n",
    "print(respuesta)"
   ]
  },
  {
   "cell_type": "markdown",
   "metadata": {},
   "source": [
    "## Slices\n",
    "Los **slices** en Python son una herramienta muy útil, que nos permite **extraer porciones de secuencias de elementos** (como listas, tuplas o cadenas) con muy poco código. La sintaxis básica para crear un slice en Python es la siguiente:\n",
    "```python\n",
    "slice[inicio:fin:paso]\n",
    "```"
   ]
  },
  {
   "cell_type": "markdown",
   "metadata": {},
   "source": [
    "```{note} Explicación\n",
    "* inicio: Índice donde comienza el slice (incluido)\n",
    "* fin: Índice donde termina el slice (no incluido)\n",
    "* paso: Tamaño del paso o incremento entre elementos del slice (opcional)\n",
    "```"
   ]
  },
  {
   "cell_type": "markdown",
   "metadata": {},
   "source": [
    "Ejemplo:"
   ]
  },
  {
   "cell_type": "code",
   "execution_count": 20,
   "metadata": {},
   "outputs": [
    {
     "name": "stdout",
     "output_type": "stream",
     "text": [
      "['cereza', 'dátil', 'naranja']\n"
     ]
    }
   ],
   "source": [
    "# Definimos una lista de frutas\n",
    "listaFrutas = [\"manzana\", \"banana\", \"cereza\", \"dátil\", \"naranja\", \"uva\"]\n",
    "\n",
    "# Realizamos un slicing de la lista\n",
    "# - Comenzamos en el índice 2 (que es \"cereza\")\n",
    "# - Terminamos en el índice 5 (sin incluir \"uva\")\n",
    "# - El paso es 1, lo que significa que tomamos cada elemento en el rango\n",
    "sliceFrutas = listaFrutas[2:5:1]\n",
    "\n",
    "# Imprimimos la sublista resultante\n",
    "print(sliceFrutas)  # Esto mostrará: ['cereza', 'dátil', ' naranja']"
   ]
  },
  {
   "cell_type": "markdown",
   "metadata": {},
   "source": [
    "### Consideraciones especiales\n",
    "#### Omisión de valores\n",
    "Podemos omitir uno, varios, o incluso todos los parámetros del Slice. Este se comportará distinto cada omisión."
   ]
  },
  {
   "cell_type": "markdown",
   "metadata": {},
   "source": [
    "```{admonition} Si no especificamos...\n",
    ":class:tip\n",
    "* El inicio, el slice comenzará desde el primer elemento. `lista[x:]`\n",
    "* El fin, el slice terminará en el último elemento.  `lista[:x]`\n",
    "* El paso, el slice usará un paso de 1\n",
    "```"
   ]
  },
  {
   "cell_type": "code",
   "execution_count": 21,
   "metadata": {},
   "outputs": [
    {
     "name": "stdout",
     "output_type": "stream",
     "text": [
      "['dátil', 'naranja', 'uva']\n",
      "['manzana', 'banana', 'cereza']\n"
     ]
    }
   ],
   "source": [
    "listaFrutas = [\"manzana\", \"banana\", \"cereza\", \"dátil\", \"naranja\", \"uva\"]\n",
    "\n",
    "primeros_salvo_tres = listaFrutas[3:]  # Extrae los elementos del 3 al final\n",
    "primeros_tres = listaFrutas[:3]  # Extrae los tres primeros elementos\n",
    "\n",
    "print(primeros_salvo_tres)\n",
    "print(primeros_tres)"
   ]
  },
  {
   "cell_type": "markdown",
   "metadata": {},
   "source": [
    "#### Uso de índices negativos\n",
    "\n",
    "Python permite usar **índices negativos** para referirse a elementos relativos final de la secuencia (en lugar que desde el principio). Parece un poco complicado, y al principio lía un poco. Veamos algún ejemplo:"
   ]
  },
  {
   "cell_type": "code",
   "execution_count": 22,
   "metadata": {
    "scrolled": true
   },
   "outputs": [
    {
     "name": "stdout",
     "output_type": "stream",
     "text": [
      "['dátil', 'naranja', 'uva']\n",
      "['manzana', 'banana', 'cereza']\n"
     ]
    }
   ],
   "source": [
    "listaFrutas = [\"manzana\", \"banana\", \"cereza\", \"dátil\", \"naranja\", \"uva\"]\n",
    "\n",
    "ultimos_tres = listaFrutas[-3:]  # Extrae los últimos tres elementos\n",
    "primeros_salvo_tres = listaFrutas[:-3]  # Extrae los elementos, salvo los tres últimos\n",
    "\n",
    "print(ultimos_tres)\n",
    "print(primeros_salvo_tres)\n"
   ]
  },
  {
   "cell_type": "code",
   "execution_count": null,
   "metadata": {},
   "outputs": [],
   "source": []
  }
 ],
 "metadata": {
  "colab": {
   "provenance": []
  },
  "kernelspec": {
   "display_name": "Python 3 (ipykernel)",
   "language": "python",
   "name": "python3"
  },
  "language_info": {
   "codemirror_mode": {
    "name": "ipython",
    "version": 3
   },
   "file_extension": ".py",
   "mimetype": "text/x-python",
   "name": "python",
   "nbconvert_exporter": "python",
   "pygments_lexer": "ipython3",
   "version": "3.12.8"
  }
 },
 "nbformat": 4,
 "nbformat_minor": 4
}
