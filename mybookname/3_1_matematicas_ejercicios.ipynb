{
 "cells": [
  {
   "cell_type": "markdown",
   "id": "f45c3f77-5c98-4b36-8cbe-ed7c6301aed0",
   "metadata": {},
   "source": [
    "# Ejercicios de Operaciones Matemáticas\n",
    "\n",
    "En este notebook, practicarás diferentes operaciones matemáticas utilizando Python. Completa los ejercicios a continuación."
   ]
  },
  {
   "cell_type": "markdown",
   "id": "a0e27716-e3bc-4428-b9ba-69d80ea6ce28",
   "metadata": {},
   "source": [
    "## Ejercicio 1: Suma\n",
    "\n",
    "Aquí tienes un ejemplo en el que se declaran dos variables (**a** y **b**) con los valores 5 y 7, respectivanente. a continuación, se suman ambas variables y se almacena el resultado en la variable **suma**. Escribe un código que sume dos números. Por ejemplo, suma 5 y 7.\n",
    "```python\n",
    "# Ejemplo:\n",
    "a = 5\n",
    "b = 7\n",
    "suma = a + b\n"
   ]
  },
  {
   "cell_type": "code",
   "execution_count": null,
   "id": "eccf272d-6518-4e18-8004-a5a109157056",
   "metadata": {},
   "outputs": [],
   "source": [
    "# Ejercicio. Haz lo mismo con las variables x e y , y los valores 6 y 3. \n",
    "# Escribe tu código aquí:"
   ]
  },
  {
   "cell_type": "markdown",
   "id": "fb728277-d97c-4ddb-986c-2af6a8449a94",
   "metadata": {},
   "source": [
    "## Ejercicio 2: Resta\n",
    "```python\n",
    "# Ejemplo:\n",
    "a = 25\n",
    "b = 10\n",
    "resta = a - b\n",
    "resta"
   ]
  },
  {
   "cell_type": "code",
   "execution_count": 2,
   "id": "0d32ed93-8413-41b5-a1c2-984b8eb373fa",
   "metadata": {},
   "outputs": [],
   "source": [
    "# Ejercicio. Haz lo mismo con las variables x e y , y los valores 8 y 3. \n",
    "# Escribe tu código aquí:"
   ]
  },
  {
   "cell_type": "markdown",
   "id": "e7d24dd9-fbe5-4673-91d8-c6a20478bf67",
   "metadata": {},
   "source": [
    "## Ejercicio 3: Multiplicación\n",
    "```python\n",
    "# Ejemplo\n",
    "a = 4\n",
    "b = 6\n",
    "multiplicacion = a * b\n",
    "multiplicacion"
   ]
  },
  {
   "cell_type": "code",
   "execution_count": 3,
   "id": "947669cc-055b-4e9c-8fa5-36fe5efd5c82",
   "metadata": {},
   "outputs": [],
   "source": [
    "# Ejercicio. Haz lo mismo con las variables x e y , y los valores 6 y 3. \n",
    "# Escribe tu código aquí:"
   ]
  },
  {
   "cell_type": "markdown",
   "id": "3875baba-e4c4-4b05-b2f8-2e7e9e708c6e",
   "metadata": {},
   "source": [
    "## Ejercicio 4: División\n",
    "\n",
    "Escribe un código que divida dos números. Por ejemplo, divide 20 entre 4.\n",
    "\n",
    "```python\n",
    "# Ejemplo\n",
    "a = 20\n",
    "b = 4\n",
    "division = a / b\n",
    "division"
   ]
  },
  {
   "cell_type": "code",
   "execution_count": 4,
   "id": "2fd6a959-35fc-4efc-8401-d19d74969416",
   "metadata": {},
   "outputs": [],
   "source": [
    "# Ejercicio. Haz lo mismo con las variables x e y , y los valores 10 y 2. \n",
    "# Escribe tu código aquí:"
   ]
  },
  {
   "cell_type": "markdown",
   "id": "d3a8ad21-1e49-4c91-bdb6-03eff8ffa039",
   "metadata": {},
   "source": [
    "## Ejercicio 5: Potencia\n",
    "\n",
    "Escribe un código que calcule la potencia de un número. Por ejemplo, calcula 2 elevado a la 3.\n",
    "\n",
    "```python\n",
    "# Ejemplo\n",
    "base = 2\n",
    "exponente = 3\n",
    "potencia = base ** exponente\n",
    "potencia"
   ]
  },
  {
   "cell_type": "code",
   "execution_count": 5,
   "id": "812e0a33-b501-4b28-934b-2ab83d1cee48",
   "metadata": {},
   "outputs": [],
   "source": [
    "# Ejercicio. Haz lo mismo con las variables x e y , y los valores 6 y 3. \n",
    "# Escribe tu código aquí:"
   ]
  },
  {
   "cell_type": "code",
   "execution_count": 3,
   "id": "d444851b-a3c2-4349-87ca-5e7b260562fa",
   "metadata": {},
   "outputs": [],
   "source": [
    "# Ejercicio. Hazlo utilizando pow()\n"
   ]
  }
 ],
 "metadata": {
  "kernelspec": {
   "display_name": "Python 3 (ipykernel)",
   "language": "python",
   "name": "python3"
  },
  "language_info": {
   "codemirror_mode": {
    "name": "ipython",
    "version": 3
   },
   "file_extension": ".py",
   "mimetype": "text/x-python",
   "name": "python",
   "nbconvert_exporter": "python",
   "pygments_lexer": "ipython3",
   "version": "3.12.8"
  }
 },
 "nbformat": 4,
 "nbformat_minor": 5
}
