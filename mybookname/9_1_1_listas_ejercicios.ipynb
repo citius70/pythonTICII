{
 "cells": [
  {
   "cell_type": "markdown",
   "id": "e1b615d5-fa8c-48ff-8800-edaaa0faebd4",
   "metadata": {},
   "source": [
    "# Ejercicios con Listas"
   ]
  },
  {
   "cell_type": "markdown",
   "id": "acc9418f-cb35-4cda-ad19-73434be7173b",
   "metadata": {},
   "source": [
    "## Ejercicio 1: Índices\n",
    "* Sea la **lista de países** que se muestran más abajo:\n",
    "\n",
    "**Instrucciones**\n",
    "1. Imprime el país de `México` **utilizando su índice**.\n",
    "2. Imprime el país de `Luxemburgo` **utilizando su índice**.\n",
    "3. Imprime el país de `Australia` **utilizando índice negativo**\n",
    "4. **Agrega** el país de `Francia` (con el método append()).\n",
    "5. Imprime la lista **paises**"
   ]
  },
  {
   "cell_type": "code",
   "execution_count": 1,
   "id": "b9a64340-552c-4301-94a1-26d28f8cea75",
   "metadata": {},
   "outputs": [],
   "source": [
    "# Lista paises\n",
    "paises = [\"Luxemburgo\",\"Brasil\",\"Canadá\",\"Francia\",\"Japón\",\"México\",\"Alemania\",\"Italia\",\"España\",\"Australia\"]\n",
    "# Escribe el código"
   ]
  },
  {
   "cell_type": "markdown",
   "id": "fc92a853-930b-4119-8c51-61d9701c44bd",
   "metadata": {},
   "source": [
    "## Ejercicio 2: Uso de append() y remove()\n",
    "\n",
    "* Crea una **lista de frutas** y permite al usuario agregar una nueva fruta y eliminar una fruta existente.\n",
    "\n",
    "**Instrucciones**\n",
    "\n",
    "1. **Crea** una `lista` llamada `frutas` con al menos 5 elementos.\n",
    "2. Pide al usuario que ingrese una fruta (con la función input()) para **agregar** a la lista usando el método append().\n",
    "3. Pide al usuario que ingrese una fruta (con la función input()) para **eliminar** de la lista usando el método remove().\n",
    "4. **Imprime** la lista final de frutas."
   ]
  },
  {
   "cell_type": "code",
   "execution_count": 2,
   "id": "4fbd6300-46ff-4430-80fe-12892175423b",
   "metadata": {},
   "outputs": [],
   "source": [
    "# Escribe el código aquí\n",
    "# 1. Crear una lista de frutas con al menos 5 elementos\n",
    "\n",
    "\n",
    "# 2. Pedir al usuario que ingrese una fruta para agregar a la lista. \n",
    "\n",
    "\n",
    "# 3. Pedir al usuario que ingrese una fruta para eliminar de la lista\n",
    "\n",
    "\n",
    "# Verificar si la fruta a eliminar está en la lista\n",
    "\n",
    "\n",
    "# 4. Imprimir la lista final de frutas\n"
   ]
  },
  {
   "cell_type": "markdown",
   "id": "b0501523-5206-4273-9239-f85ec9a24735",
   "metadata": {},
   "source": [
    "## Ejercicio 3: Uso de sort() y reverse()\n",
    "\n",
    "* Crea una **lista de números** y **ordena** la lista en orden ascendente y luego en orden descendente.\n",
    "\n",
    "**Instrucciones**\n",
    "\n",
    "1. **Crea** una lista llamada numeros con al menos 5 números enteros desordenados.\n",
    "2. Usa el método `sort()` para ordenar la lista en orden ascendente.\n",
    "3. **Imprime** la lista ordenada.\n",
    "4. Usa el método `reverse()` para invertir el orden de la lista.\n",
    "5. **Imprime** la lista invertida."
   ]
  },
  {
   "cell_type": "code",
   "execution_count": 3,
   "id": "8dd24475-62b4-443d-826b-cc8e9d16103d",
   "metadata": {},
   "outputs": [],
   "source": [
    "# Escribe el código aquí"
   ]
  },
  {
   "cell_type": "markdown",
   "id": "835fb007-8cf8-4745-a400-a63823628f09",
   "metadata": {},
   "source": [
    "## Ejercicio 4: Uso de count() y index()\n",
    "\n",
    "* Dada una **lista de colores** permite al usuario **contar** cuántas veces aparece un color y* **encontrar** su índice.\n",
    "\n",
    "**Instrucciones**\n",
    "1. La `lista` de colores será esta:\n",
    "\n",
    "`colores = ['morado', 'marrón', 'violeta', 'azul', 'verde', 'rosa', 'gris', 'rojo', 'azul', 'turquesa', 'verde', 'rojo', 'beige', 'rojo', 'naranja', 'blanco', 'amarillo', 'negro', 'rojo', 'azul', 'celeste']`\n",
    "\n",
    "   \n",
    "2. **Imprime la longitud** (número de elementos) de la lista. \n",
    "3. Pide al usuario que ingrese un color para **contar cuántas veces aparece en la lista** usando el método `count()`.\n",
    "4. Pide al usuario que ingrese un color para **encontrar su índice en la lista** usando el método `index()`."
   ]
  },
  {
   "cell_type": "code",
   "execution_count": 4,
   "id": "c9513010-cb6e-46ff-b424-5b1eca704a55",
   "metadata": {},
   "outputs": [],
   "source": [
    "# Escribe el código aquí\n",
    "# 1. Crear la lista de colores\n",
    "colores = ['morado', 'marrón', 'violeta', 'azul', 'verde', 'rosa', 'gris', 'rojo', \n",
    "           'azul', 'turquesa', 'verde', 'rojo', 'beige', 'rojo', 'naranja', \n",
    "           'blanco', 'amarillo', 'negro', 'rojo', 'azul', 'celeste']\n",
    "\n",
    "# 2. Imprimir la longitud de la lista\n",
    "\n",
    "\n",
    "# 3. Pedir al usuario que ingrese un color para contar cuántas veces aparece en la lista\n",
    "\n",
    "\n",
    "# 4. Pedir al usuario que ingrese un color para encontrar su índice en la lista\n",
    "\n",
    "\n",
    "# Verificar si el color está en la lista antes de buscar su índice\n",
    "\n"
   ]
  },
  {
   "cell_type": "markdown",
   "id": "79b5aece-f851-4d1a-9626-a916b457f38e",
   "metadata": {},
   "source": [
    "## Ejercicio 5: Slicing\n",
    "* En este ejercicio, trabajarás con una **lista de nombres de ciudades**. Realizarás diferentes operaciones de **slicing** para acceder a partes específicas de la lista.\n",
    "  \n",
    "`ciudades = [\"Nueva York\", \"Los Ángeles\", \"Chicago\", \"Houston\", \"Phoenix\", \"Filadelfia\", \"San Antonio\", \"San Diego\", \"Dallas\", \"San José\"]`\n",
    "\n",
    "**Instrucciones**\n",
    "1. Utiliza slicing para **imprimir los primeros 5 elementos** de la lista.\n",
    "2. Utiliza slicing para **imprimir los últimos 4 elementos** de la lista.\n",
    "3. Utiliza slicing para **imprimir los elementos que se encuentran en posiciones impares** de la lista."
   ]
  },
  {
   "cell_type": "code",
   "execution_count": 5,
   "id": "1c314bea-4b59-427f-bf57-a0bfceb6c5a9",
   "metadata": {},
   "outputs": [],
   "source": [
    "# Escribe el código\n",
    "# Apartado 1: Crear la lista\n",
    "ciudades = [\"Nueva York\", \"Los Ángeles\", \"Chicago\", \"Houston\", \"Phoenix\", \n",
    "            \"Filadelfia\", \"San Antonio\", \"San Diego\", \"Dallas\", \"San José\"]\n",
    "\n",
    "# Apartado 2: Imprimir los primeros 5 elementos\n",
    "\n",
    "\n",
    "# Apartado 3: Imprimir los últimos 4 elementos\n",
    "\n",
    "\n",
    "# Apartado 4: Imprimir los elementos en posiciones impares\n"
   ]
  },
  {
   "cell_type": "code",
   "execution_count": null,
   "id": "6eadfbfb-3f4f-4e06-bc6a-9e03a8e0f9be",
   "metadata": {},
   "outputs": [],
   "source": []
  }
 ],
 "metadata": {
  "kernelspec": {
   "display_name": "Python 3 (ipykernel)",
   "language": "python",
   "name": "python3"
  },
  "language_info": {
   "codemirror_mode": {
    "name": "ipython",
    "version": 3
   },
   "file_extension": ".py",
   "mimetype": "text/x-python",
   "name": "python",
   "nbconvert_exporter": "python",
   "pygments_lexer": "ipython3",
   "version": "3.12.8"
  }
 },
 "nbformat": 4,
 "nbformat_minor": 5
}
