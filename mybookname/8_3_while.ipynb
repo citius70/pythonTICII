{
 "cells": [
  {
   "cell_type": "markdown",
   "id": "31890e03-af4d-421f-9996-0651f6f2b3f9",
   "metadata": {
    "id": "dE8UfDcr7T1y"
   },
   "source": [
    "# Bucles (Parte 2 de 2)\n",
    "Los **bucles** en Python se utilizan para **ejecutar un bloque de código de forma repetida**.\n",
    "\n",
    "Python proporciona dos tipos de bucles:\n",
    "* `for`: ejecutan el código una cantidad **determinada** de veces (1,2,3,... veces)\n",
    "* `while`: ejecutan el código una cantidad **indeterminada** de veces. Se repite el codigo mientras se cumpla una condición."
   ]
  },
  {
   "cell_type": "markdown",
   "id": "2e2e36bb-74bb-4520-8b85-09ab106dd166",
   "metadata": {},
   "source": [
    "## Bucle while"
   ]
  },
  {
   "cell_type": "markdown",
   "id": "f88752bc-9a25-4824-a06b-24da3217eb34",
   "metadata": {},
   "source": [
    "El bucle `while` se utiliza para repetir un bloque de código  **mientras una condición sea verdadera**. La sintaxis básica del bucle `while` es la siguiente:\n",
    "```python\n",
    "while condicion:\n",
    "    # bloque de código a ejecutar mientras la condición sea verdadera\n",
    "```"
   ]
  },
  {
   "cell_type": "markdown",
   "id": "5c0e3257-efec-4200-9840-eccf01ae70a3",
   "metadata": {},
   "source": [
    "Veamos algún ejemplo:"
   ]
  },
  {
   "cell_type": "markdown",
   "id": "e37c2097-8b7c-4038-a96d-62226e928162",
   "metadata": {},
   "source": [
    "---"
   ]
  },
  {
   "cell_type": "markdown",
   "id": "af28001d-0ba6-4215-8957-7bfaf551f1d8",
   "metadata": {},
   "source": [
    "**Ejemplo 1**: Utilizar `while` como contador"
   ]
  },
  {
   "cell_type": "code",
   "execution_count": 1,
   "id": "baae0b46-c221-48a9-85b0-ff0a4a249fed",
   "metadata": {},
   "outputs": [
    {
     "name": "stdout",
     "output_type": "stream",
     "text": [
      "1\n",
      "2\n",
      "3\n",
      "4\n",
      "5\n"
     ]
    }
   ],
   "source": [
    "contador = 1\n",
    "\n",
    "while contador <= 5:\n",
    "    print(contador)\n",
    "    contador += 1    # Esto es equivalente a contador = contador + 1"
   ]
  },
  {
   "cell_type": "markdown",
   "id": "4131c6e8-8824-4aa9-b76c-984b877192da",
   "metadata": {},
   "source": [
    "> **Explicación:** En este caso, el bucle `while` se ejecutará mientras la condicion sea verdadera, es decir, mientras contador sea menor o igual a 5. En cada iteración, se imprime el valor de `contador y luego se incrementa en 1"
   ]
  },
  {
   "cell_type": "markdown",
   "id": "08b588a2-2699-4b26-8806-71b834b741d8",
   "metadata": {},
   "source": [
    "---"
   ]
  },
  {
   "cell_type": "markdown",
   "id": "77c6577a-97a8-4a7d-9552-c39950c4a302",
   "metadata": {},
   "source": [
    "**Ejemplo 2**: Utilizar `while` como cuenta atrás"
   ]
  },
  {
   "cell_type": "code",
   "execution_count": 2,
   "id": "868c73d0-0859-46c7-9abf-fd6b27747e75",
   "metadata": {},
   "outputs": [
    {
     "name": "stdout",
     "output_type": "stream",
     "text": [
      "5\n",
      "4\n",
      "3\n",
      "2\n",
      "1\n",
      "¡Despegue!\n"
     ]
    }
   ],
   "source": [
    "cuentaAtras = 5  # Inicializamos el número en 5\n",
    "\n",
    "while cuentaAtras > 0:  # Mientras el número sea mayor que 0\n",
    "    print(cuentaAtras)  # Imprimimos el número actual\n",
    "    cuentaAtras -= 1  # Decrementamos el número en 1\n",
    "\n",
    "print(\"¡Despegue!\")  # Mensaje final"
   ]
  },
  {
   "cell_type": "markdown",
   "id": "b4794cc0-fd6a-4be3-b1d4-c25fd8d31040",
   "metadata": {},
   "source": [
    "> **Explicación**; El código utiliza un bucle `while` para contar hacia atrás desde 5 hasta 1, imprimiendo cada número en cada iteración. La variable´ cuentaAtras´ se decrementa en 1 en cada ciclo hasta que llega a 0, momento en el cual el bucle se detiene y se imprime el mensaje \"¡Despegue!\". Este ejemplo muestra cómo los bucles while permiten repetir acciones basadas en condiciones."
   ]
  },
  {
   "cell_type": "markdown",
   "id": "edda0229-9cd0-4d16-95d8-1b3d07f01d00",
   "metadata": {},
   "source": [
    "**Ejemplo 3**:  :  Sumar números"
   ]
  },
  {
   "cell_type": "code",
   "execution_count": null,
   "id": "59bb6d69-ead7-49a2-a1ef-874de6f90cb0",
   "metadata": {},
   "outputs": [],
   "source": [
    "suma = 0\n",
    "numero = None\n",
    "\n",
    "while numero != 0:\n",
    "    numero = int(input(\"Introduce un número (0 para terminar): \"))\n",
    "    suma += numero\n",
    "\n",
    "print(f\"La suma total es: {suma}\")"
   ]
  },
  {
   "cell_type": "markdown",
   "id": "8bf1d80f-8726-481f-ad79-2b90c6ef5548",
   "metadata": {
    "id": "KKT6gJjO_rbR"
   },
   "source": [
    "## Break (do while)\n",
    "El bucle \"do-while\" es un tipo de bucle que es común en algunos otros lenguajes de programación. Un bucle \"do-while\" es como un bucle while, pero siempre ejecuta el código dentro del bucle al menos una vez y luego sigue ejecutando el bucle mientras la condición sea verdadera.\n",
    "\n",
    "Python no tiene un bucle \"do-while\" integrado como algunos otros lenguajes, pero puedes simular un bucle \"do-while\" usando un bucle while con una sentencia break. Así es cómo puedes hacerlo:"
   ]
  },
  {
   "cell_type": "code",
   "execution_count": 3,
   "id": "eeb272a2-c1e6-4d7e-b314-56563c112671",
   "metadata": {
    "id": "0T1mv-C8_xDs"
   },
   "outputs": [
    {
     "name": "stdout",
     "output_type": "stream",
     "text": [
      "0\n",
      "1\n",
      "2\n",
      "3\n",
      "4\n"
     ]
    }
   ],
   "source": [
    "i = 0\n",
    "while True:\n",
    "  print(i)\n",
    "  i += 1\n",
    "  if i >= 5:\n",
    "    break"
   ]
  },
  {
   "cell_type": "markdown",
   "id": "7993a185-f395-45bc-8eb0-42996d36aa13",
   "metadata": {
    "id": "BzBZl-Aw_3Eu"
   },
   "source": [
    "En este código, `while True`: crea un bucle que normalmente se ejecutaría para siempre porque su condición siempre es verdadera. Pero la parte `if i >= 5`: break verifica si i es 5 o más, y si es así, ejecuta la sentencia `break`, que sale inmediatamente del bucle.\n",
    "\n",
    "Por lo tanto, este código se comporta como un bucle \"do-while\": siempre ejecuta el bucle al menos una vez y sigue ejecutando el bucle mientras i sea menor que 5."
   ]
  }
 ],
 "metadata": {
  "kernelspec": {
   "display_name": "Python 3 (ipykernel)",
   "language": "python",
   "name": "python3"
  },
  "language_info": {
   "codemirror_mode": {
    "name": "ipython",
    "version": 3
   },
   "file_extension": ".py",
   "mimetype": "text/x-python",
   "name": "python",
   "nbconvert_exporter": "python",
   "pygments_lexer": "ipython3",
   "version": "3.12.8"
  }
 },
 "nbformat": 4,
 "nbformat_minor": 5
}
