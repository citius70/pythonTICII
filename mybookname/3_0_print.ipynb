{
 "cells": [
  {
   "cell_type": "markdown",
   "metadata": {
    "id": "r2FoVtLdls_O"
   },
   "source": [
    "# Print() e input()\n",
    "En este documento veremos las funciones `print()`, `input()`, que son las funciones, entre otros para mostrar información e introducirla.\n",
    "Pero antes, estudiaremos los *comentarios*\n"
   ]
  },
  {
   "cell_type": "markdown",
   "metadata": {
    "id": "EyDQJOa1ExBq"
   },
   "source": [
    "## 1. Comentarios\n",
    "En Python, los **comentarios** *se usan para explicar el código* cuando el código básico no se explica por sí mismo. Python ignora los comentarios, por lo que no ejecutará el código que contienen.\n",
    "\n",
    "Los comentarios pueden usarse para hacer el código más legible para las personas y son una buena práctica, especialmente cuando el código se vuelve complejo.\n",
    "\n",
    "Hay dos maneras de escribir comentarios en Python:"
   ]
  },
  {
   "cell_type": "markdown",
   "metadata": {
    "id": "pD52HH-CE6gd"
   },
   "source": [
    "### 1.2. Comentarios de Una Línea\n",
    "Los comentarios de una línea se crean utilizando el carácter de almohadilla o *hashtag* (#). Todo lo que esté a la derecha del # será ignorado por Python. Aquí hay un ejemplo:"
   ]
  },
  {
   "cell_type": "code",
   "execution_count": null,
   "metadata": {
    "id": "h8d8N2_nE5Z3"
   },
   "outputs": [],
   "source": [
    "# Esto es un comentario\n",
    "myNum = 3 # Esto tambien es un comentrio"
   ]
  },
  {
   "cell_type": "markdown",
   "metadata": {
    "id": "EeY4-jVAFM6D"
   },
   "source": [
    "Notese que en el compilador, los comentarios suelen ser distinguidos con el color verde"
   ]
  },
  {
   "cell_type": "markdown",
   "metadata": {
    "id": "SmSOoCktFXN5"
   },
   "source": [
    "### 1.3. Comentarios multilínea\n",
    "Si tienes comentarios que abarcan varias líneas, una manera de hacerlo es usar el carácter de almohadilla (#) al inicio de cada línea:"
   ]
  },
  {
   "cell_type": "code",
   "execution_count": null,
   "metadata": {
    "id": "bkPqEiPIFg4e"
   },
   "outputs": [],
   "source": [
    "# Este es un comentario largo\n",
    "# y se extiende\n",
    "# a múltiples líneas"
   ]
  },
  {
   "cell_type": "markdown",
   "metadata": {
    "id": "AcQn0EByFk6W"
   },
   "source": [
    "Otra forma de hacer esto es usar triple comillas"
   ]
  },
  {
   "cell_type": "code",
   "execution_count": null,
   "metadata": {
    "id": "FZcCfDUGFm6W"
   },
   "outputs": [],
   "source": [
    "\"\"\"\n",
    "Este es un comentario más largo\n",
    "que abarca múltiples líneas\n",
    "\"\"\""
   ]
  },
  {
   "cell_type": "markdown",
   "metadata": {
    "id": "pYWMeBnYEwYh"
   },
   "source": [
    "## 2. La Función Print\n",
    "La función **print** en Python es una función incorporada que \"envía salida a la consola\". En lenguaje no técnico, significa que se utiliza para **mostrar información** al usuario.\n",
    "\n",
    "Así es cómo puedes usar la función print:"
   ]
  },
  {
   "cell_type": "code",
   "execution_count": null,
   "metadata": {
    "colab": {
     "base_uri": "https://localhost:8080/"
    },
    "id": "l2hVh29TEv64",
    "outputId": "87e3def1-7637-4695-f858-9db2660c0c40"
   },
   "outputs": [],
   "source": [
    "print(\"¡Hola, Mundo!\")"
   ]
  },
  {
   "cell_type": "markdown",
   "metadata": {
    "id": "-DyVenUOIuqe"
   },
   "source": [
    "Esto mostrará: \"¡Hola, Mundo!\".\n",
    "\n",
    "También puedes usar la función print para imprimir el valor de las variables:"
   ]
  },
  {
   "cell_type": "code",
   "execution_count": null,
   "metadata": {
    "id": "8j37Jj-XIuDI"
   },
   "outputs": [],
   "source": [
    "x = 10\n",
    "print(\"El valor de x es\", x)"
   ]
  },
  {
   "cell_type": "markdown",
   "metadata": {
    "id": "9NFgYXjQI1A4"
   },
   "source": [
    "También puedes usar algo llamado \"f-strings\", que te permitirá introducir la variable en cualquier lugar que desees dentro de la cadena / string"
   ]
  },
  {
   "cell_type": "code",
   "execution_count": null,
   "metadata": {
    "colab": {
     "base_uri": "https://localhost:8080/"
    },
    "id": "TXQoPSHdI_gU",
    "outputId": "af56f36b-ed8e-4f62-d7bc-6ba286ca1bfc"
   },
   "outputs": [],
   "source": [
    "tuNombre = \"Sebastian\"\n",
    "\n",
    "print(f\"hola, {tuNombre}\")"
   ]
  },
  {
   "cell_type": "markdown",
   "metadata": {
    "id": "E2Jf2kn2I45G"
   },
   "source": [
    "Esto es lo que está pasando:\n",
    "\n",
    "`f\"hola, {tuNombre}\"` : Esto es un f-string, un tipo de cadena literal que comienza con la letra f o F antes de la comilla de apertura. Dentro de un f-string, puedes incluir expresiones dentro de {} (llaves) que serán reemplazadas por sus valores cuando se crea la cadena. En este caso, `{tuNombre}` será reemplazado por el valor de la variable tuNombre.\n",
    "\n",
    "`print(f\"hola, {tuNombre}\")` : Esta línea imprime el f-string. Si tuNombre fuera \"Daniela\", imprimiría hola, Daniela.\n",
    "\n",
    "Por lo tanto, esta línea de código es una manera de imprimir una cadena que incluye el valor de la variable tuNombre. La ventaja de los f-strings es que a menudo son más legibles y concisos que otras formas de formatear cadenas en Python, especialmente cuando estás trabajando con múltiples variables o expresiones más complejas.\n",
    "\n",
    "Por ejemplo:"
   ]
  },
  {
   "cell_type": "code",
   "execution_count": null,
   "metadata": {
    "colab": {
     "base_uri": "https://localhost:8080/"
    },
    "id": "tYtPoV9HSYuW",
    "outputId": "bb78a921-b894-49e3-f728-8c1b647cf4e1"
   },
   "outputs": [],
   "source": [
    "name = \"Alicia\"\n",
    "age = 25\n",
    "city = \"Nueva York\"\n",
    "\n",
    "greeting = f\"Hola, mi nombre es {name}, tengo {age} años y vivo en {city}.\"\n",
    "\n",
    "print(greeting)"
   ]
  },
  {
   "cell_type": "markdown",
   "metadata": {
    "id": "hpAdUwy3Scvz"
   },
   "source": [
    "Cuando ejecutes este código, imprimirá:\n",
    "Hola, mi nombre es Alicia, tengo 25 años y vivo en Nueva York."
   ]
  },
  {
   "cell_type": "markdown",
   "metadata": {},
   "source": [
    "Otra opción de la función print es la que permite mostrar un texto en varia líneas:"
   ]
  },
  {
   "cell_type": "code",
   "execution_count": null,
   "metadata": {},
   "outputs": [],
   "source": [
    "print(\"Línea 1\\nLínea 2\\nLínea 3\")"
   ]
  },
  {
   "cell_type": "markdown",
   "metadata": {},
   "source": [
    "A continuación se muestran más opciones de la función print:"
   ]
  },
  {
   "cell_type": "code",
   "execution_count": null,
   "metadata": {},
   "outputs": [],
   "source": [
    "# Usar el parámetro sep  para personalizar el separador entre los valores impresos. Por ejemplo, imprime \"a\", \"b\", \"c\" separados por un guion.\n",
    "print(\"a\", \"b\", \"c\", sep=\"-\")\n",
    "\n",
    "# Usar el parámetro end para cambiar el final de la línea\n",
    "print(\"Hola\", end=\" \")\n",
    "print(\"Mundo\")\n",
    "\n",
    "# Imprimir una lista \n",
    "frutas = [\"manzana\", \"banana\", \"naranja\"]\n",
    "print(\"Stock de frutas:\", frutas)"
   ]
  },
  {
   "cell_type": "markdown",
   "metadata": {
    "id": "nqgMAc5CTyQp"
   },
   "source": [
    "## 3. La función input\n",
    "La función **input** en Python es una función incorporada que se utiliza para leer una línea de texto del ingreso del usuario (típicamente desde el teclado). Esta función **espera que el usuario escriba alguna entrada y presione enter**.\n",
    "\n",
    "He aquí un ejemplo simple:"
   ]
  },
  {
   "cell_type": "code",
   "execution_count": null,
   "metadata": {
    "colab": {
     "base_uri": "https://localhost:8080/"
    },
    "id": "4sYjUoSKT62M",
    "outputId": "e4820d39-f1d0-4549-eb42-692ccef3b76e"
   },
   "outputs": [],
   "source": [
    "name = input(\"¿Cuál es tu nombre? \")\n",
    "print(\"¡Hola, \" + name + \"!\")"
   ]
  },
  {
   "cell_type": "markdown",
   "metadata": {
    "id": "16iE-goxVaWL"
   },
   "source": [
    "En este código, `input(\"¿Cuál es tu nombre? \")` imprime la cadena \"¿Cuál es tu nombre? \" en la consola y luego espera que el usuario escriba algo. Lo que el usuario escriba es devuelto por la función input como una cadena, y en este caso se está almacenando en la variable name.\n",
    "\n",
    "Después de que el usuario escribe su nombre y presiona enter, el programa continúa con la siguiente línea, que imprime \"¡Hola, \" seguido del nombre del usuario.\n",
    "\n",
    "**¡Importante!** Es importante destacar que la **función input siempre devuelve una cadena de texto**. Si deseas usar la entrada como un entero o un flotante (por ejemplo, si estás pidiendo al usuario que introduzca un número), necesitarás convertir el valor devuelto al tipo deseado utilizando la función `int()` o `float()`, así:"
   ]
  },
  {
   "cell_type": "code",
   "execution_count": null,
   "metadata": {
    "colab": {
     "base_uri": "https://localhost:8080/"
    },
    "id": "gRufLDAZVpiY",
    "outputId": "87ca4a05-5484-4930-83b2-0e60a45b03d4"
   },
   "outputs": [],
   "source": [
    "age = int(input(\"¿Cuántos años tienes? \"))\n",
    "print(\"El próximo año tendrás\", age + 1)"
   ]
  },
  {
   "cell_type": "markdown",
   "metadata": {
    "id": "jaMnBuU-VsX6"
   },
   "source": [
    "En este código, `int(input(\"¿Cuántos años tienes? \"))` pide al usuario que introduzca su edad, luego convierte su entrada de una cadena a un entero. Esto permite al programa hacer aritmética con la edad del usuario, como sumar 1 para calcular su edad el próximo año."
   ]
  },
  {
   "cell_type": "markdown",
   "metadata": {
    "id": "nK5mobeVV8hd"
   },
   "source": [
    "## 4. Funciones\n",
    "En programación, **una función es un bloque de código reutilizable que realiza una tarea específica**. Las funciones proporcionan una mejor modularidad para tu aplicación y permiten una alta reutilización del código. Puedes pensar en ellas como una forma de empaquetar código que deseas usar repetidamente, o una manera de descomponer tareas complejas en partes más pequeñas y manejables.\n",
    "\n",
    "Por ejemplo, anteriormente hemos utilizado la función `print()`, `input()`, `int()`, entre otras para hacer tareas especificas pero en contextos diferentes.\n",
    "\n",
    "En Python, defines una función usando la palabra clave def. Aquí hay un ejemplo de una función simple que suma dos números:"
   ]
  },
  {
   "cell_type": "code",
   "execution_count": null,
   "metadata": {
    "id": "dFMLPwPlV87c"
   },
   "outputs": [],
   "source": [
    "def add_numbers(a, b):\n",
    "    return a + b"
   ]
  },
  {
   "cell_type": "markdown",
   "metadata": {
    "id": "LmtDyf3OWyEW"
   },
   "source": [
    "En este ejemplo, add_numbers es el **nombre** de la función. Los valores dentro de los paréntesis (a y b) son los **parámetros o argumentos** de la función. Estos son los valores que la función necesita para realizar su tarea. La palabra clave return se utiliza para especificar el resultado que la función debe producir.\n",
    "\n",
    "Llamas o invocas a la función usando su nombre seguido de paréntesis, pasando los valores para los parámetros. Así es como llamarías a la función add_numbers con los números 2 y 3 como argumentos:"
   ]
  },
  {
   "cell_type": "code",
   "execution_count": null,
   "metadata": {
    "colab": {
     "base_uri": "https://localhost:8080/"
    },
    "id": "fWmaZArIXAuS",
    "outputId": "9af4f61f-767e-428c-e661-ee0934c2819d"
   },
   "outputs": [],
   "source": [
    "result = add_numbers(2, 3)\n",
    "print(result)  # Output: 5"
   ]
  },
  {
   "cell_type": "markdown",
   "metadata": {
    "id": "i9xX7rRQXE0L"
   },
   "source": [
    "Además de las funciones definidas por el usuario como el ejemplo anterior, Python también proporciona una amplia gama de funciones integradas como `print()`, `len()`, `type()`, etc. Introduciremos una gran cantidad de funciones durante este curso."
   ]
  }
 ],
 "metadata": {
  "colab": {
   "provenance": [],
   "toc_visible": true
  },
  "kernelspec": {
   "display_name": "conda-env-ambiente_1-py",
   "language": "python",
   "name": "conda-env-ambiente_1-py"
  },
  "language_info": {
   "codemirror_mode": {
    "name": "ipython",
    "version": 3
   },
   "file_extension": ".py",
   "mimetype": "text/x-python",
   "name": "python",
   "nbconvert_exporter": "python",
   "pygments_lexer": "ipython3",
   "version": "3.12.8"
  }
 },
 "nbformat": 4,
 "nbformat_minor": 4
}
