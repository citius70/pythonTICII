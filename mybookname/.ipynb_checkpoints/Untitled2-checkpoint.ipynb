{
 "cells": [
  {
   "cell_type": "markdown",
   "id": "74dd18af-6a34-4d14-8afa-0d63c0bfb750",
   "metadata": {},
   "source": [
    "x: {eval}`x`"
   ]
  },
  {
   "cell_type": "markdown",
   "id": "1b81dde5-9d8e-400c-a53d-74af53f55345",
   "metadata": {},
   "source": [
    "The value of the variable x: {eval}`x`\n",
    "Expand a sympy equation polynomial: {eval}`expand(polynomial)"
   ]
  },
  {
   "cell_type": "markdown",
   "id": "966a152a-8d52-4336-bd90-5d28bd299594",
   "metadata": {},
   "source": [
    "::: important\n",
    "sdfdsd"
   ]
  },
  {
   "cell_type": "code",
   "execution_count": null,
   "id": "8154f3ae-936e-4e3b-8f10-d2a3437a2073",
   "metadata": {},
   "outputs": [],
   "source": [
    "---\n",
    "title: How to MyST, without being mystified 🧙\n",
    "subject: Tutorial\n",
    "subtitle: Evolve your markdown documents into structured data\n",
    "short_title: How to MyST\n",
    "authors:\n",
    "  - name: Rowan Cockett\n",
    "    affiliations:\n",
    "      - Executable Books\n",
    "      - Curvenote\n",
    "    orcid: 0000-0002-7859-8394\n",
    "    email: rowan@curvenote.com\n",
    "license: CC-BY-4.0\n",
    "keywords: myst, markdown, open-science\n",
    "---"
   ]
  },
  {
   "cell_type": "markdown",
   "id": "9d741645-e9d7-4a3b-959c-19c2d56e50ed",
   "metadata": {},
   "source": [
    "- ... follow the FORCE11 recommendations (Bourne _et al._, 2012). Specifically:\n",
    "+ ... follow the FORCE11 recommendations [](doi:10.4230/DAGMAN.1.1.41). Specifically:\n",
    "\n",
    "1. rethink the unit and form of scholarly publication;\n",
    "2. develop tools and technologies to better support the scholarly lifecycle; and\n",
    "3. add data, software, and workflows as first-class research objects."
   ]
  },
  {
   "cell_type": "markdown",
   "id": "5a7886e6-f6d2-403e-bce8-2e868ff4a4f5",
   "metadata": {},
   "source": [
    ":::{figure} ./images/citations.png\n",
    ":label: citations\n",
    "Citations are rendered with a popup directly inline.\n",
    ":::"
   ]
  },
  {
   "cell_type": "markdown",
   "id": "50af6535-0f38-40b8-bec2-b22a5fc74046",
   "metadata": {},
   "source": [
    ":::{warning}\n",
    "Try changing `tip` to `warning`!\n",
    ":::"
   ]
  },
  {
   "cell_type": "markdown",
   "id": "c4719c17-d657-4c57-8a5f-fdfb338d723c",
   "metadata": {},
   "source": [
    ":::{tip} Admonition\n",
    "Here is an admonition!\n",
    ":::"
   ]
  },
  {
   "cell_type": "markdown",
   "id": "0fc35919-b5b2-4e93-8cf6-7ed30c87d823",
   "metadata": {},
   "source": [
    ":::{note} Click Me! 👈\n",
    ":class: dropdown\n",
    "👋 This could be a solution to a problem or contain other detailed explanations.\n",
    ":::"
   ]
  },
  {
   "cell_type": "code",
   "execution_count": null,
   "id": "fa39c7d6-2111-46bd-9a28-28945756238e",
   "metadata": {},
   "outputs": [],
   "source": [
    "This is a link in markdown: [Cockett, 2022](https://doi.org/10.5281/zenodo.6476040)."
   ]
  },
  {
   "cell_type": "markdown",
   "id": "459e52d8-a28c-4e54-b126-b3ae91b81bc3",
   "metadata": {},
   "source": [
    "```{exercise}\n",
    ":label: my-exercise\n",
    "\n",
    "Recall that $n!$ is read as \"$n$ factorial\" and defined as\n",
    "$n! = n \\times (n - 1) \\times \\cdots \\times 2 \\times 1$.\n",
    "\n",
    "There are functions to compute this in various modules, but let's\n",
    "write our own version as an exercise.\n",
    "\n",
    "In particular, write a function `factorial` such that `factorial(n)` returns $n!$\n",
    "for any positive integer $n$.\n",
    "```"
   ]
  },
  {
   "cell_type": "markdown",
   "id": "e0633bdb-f954-4679-9617-1f1710cf21e0",
   "metadata": {},
   "source": [
    "```{exercise}\n",
    ":label: my-exercise\n",
    "\n",
    "Recall that $n!$ is read as \"$n$ factorial\" and defined as\n",
    "$n! = n \\times (n - 1) \\times \\cdots \\times 2 \\times 1$.\n",
    "\n",
    "There are functions to compute this in various modules, but let's\n",
    "write our own version as an exercise.\n",
    "\n",
    "In particular, write a function `factorial` such that `factorial(n)` returns $n!$\n",
    "for any positive integer $n$.\n",
    "```"
   ]
  },
  {
   "cell_type": "markdown",
   "id": "36f284a5-8aed-4783-bfe6-2bf26e65d7db",
   "metadata": {},
   "source": [
    "````{solution} my-exercise\n",
    ":label: my-solution\n",
    "\n",
    "Here's one solution.\n",
    "\n",
    "```{code-block} python\n",
    "def factorial(n):\n",
    "    k = 1\n",
    "    for i in range(n):\n",
    "        k = k * (i + 1)\n",
    "    return k\n",
    "\n",
    "factorial(4)\n",
    "```\n",
    "````"
   ]
  },
  {
   "cell_type": "markdown",
   "id": "aa46d648-880d-4139-b7ab-4d5a8e737f75",
   "metadata": {},
   "source": [
    "```{card} Card title\n",
    ":header: The _Header_\n",
    ":footer: Footer\n",
    "\n",
    "Card content\n",
    "```"
   ]
  },
  {
   "cell_type": "markdown",
   "id": "54702ac2-a3d3-4a48-8d17-886aae4b3d14",
   "metadata": {},
   "source": [
    "::::{grid} 1 1 2 3\n",
    "\n",
    ":::{card}\n",
    ":header: Text content ✏️\n",
    "Structure books with text files and Jupyter Notebooks with minimal configuration.\n",
    ":::\n",
    "\n",
    ":::{card}\n",
    ":header: MyST Markdown ✨\n",
    "Write MyST Markdown to create enriched documents with publication-quality features.\n",
    ":::\n",
    "\n",
    ":::{card}\n",
    ":header: Executable content 🔁\n",
    "Execute notebook cells, store results, and insert outputs across pages.\n",
    ":::\n",
    "::::"
   ]
  },
  {
   "cell_type": "code",
   "execution_count": null,
   "id": "b6854afb-7c97-4d7a-b0f1-1bbe31d95831",
   "metadata": {},
   "outputs": [],
   "source": [
    "function square(x) {\n",
    "  return x * x;\n",
    "}"
   ]
  },
  {
   "cell_type": "code",
   "execution_count": null,
   "id": "36dd3b25-11ee-46ed-b7a8-e9762cb97a2c",
   "metadata": {},
   "outputs": [],
   "source": [
    "print(\"sjd\")"
   ]
  },
  {
   "cell_type": "markdown",
   "id": "a5b956db-202f-4deb-baf7-a015ca84c4b5",
   "metadata": {},
   "source": [
    "# Here's my sample title\n",
    "\n",
    "This is some sample text.\n",
    "\n",
    "(section-label)=\n",
    "## Here's my first section\n",
    "\n",
    "Here is a [reference to the intro](intro.md). Here is a reference to [](section-label)."
   ]
  },
  {
   "cell_type": "code",
   "execution_count": null,
   "id": "89218db4-5768-4086-8e27-2e300222e82e",
   "metadata": {},
   "outputs": [],
   "source": []
  }
 ],
 "metadata": {
  "kernelspec": {
   "display_name": "Python 3 (ipykernel)",
   "language": "python",
   "name": "python3"
  },
  "language_info": {
   "codemirror_mode": {
    "name": "ipython",
    "version": 3
   },
   "file_extension": ".py",
   "mimetype": "text/x-python",
   "name": "python",
   "nbconvert_exporter": "python",
   "pygments_lexer": "ipython3",
   "version": "3.12.8"
  }
 },
 "nbformat": 4,
 "nbformat_minor": 5
}
