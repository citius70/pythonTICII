{
 "cells": [
  {
   "cell_type": "markdown",
   "id": "da0ad504-5663-4158-bee9-29959779b0c0",
   "metadata": {},
   "source": [
    "# Flujos de control"
   ]
  },
  {
   "cell_type": "markdown",
   "id": "cfddda22-b1a5-47a4-a21f-d1fa16baf732",
   "metadata": {},
   "source": [
    "Los `flujos de control` en Python son estructuras que permiten dirigir la **ejecución del código según condiciones o repeticiones**. Esto incluye declaraciones como: \n",
    "* **if, else, elif**: ejecuta un código si se cumple una condición.\n",
    "* **for**: repite un código un número determinado de veces.\n",
    "* **while**: repite un código mientras se cumple una condición.\n",
    "\n",
    "Vamos a analizarlas en los próximos capítulos."
   ]
  },
  {
   "cell_type": "markdown",
   "id": "633b35f4-ffa4-4ca2-95fd-5f755994e89f",
   "metadata": {},
   "source": [
    "<div style=\"text-align: center;\">\n",
    "    <img src=\"https://www.ecured.cu/images/6/6f/Estructuras-de-control.jpg\" alt=\"Estructuras de Control\" width=\"300px\">\n",
    "</div>"
   ]
  },
  {
   "cell_type": "code",
   "execution_count": null,
   "id": "739e3f9f-fa05-446d-8c7e-20720c1df6b3",
   "metadata": {},
   "outputs": [],
   "source": []
  }
 ],
 "metadata": {
  "kernelspec": {
   "display_name": "Python 3 (ipykernel)",
   "language": "python",
   "name": "python3"
  },
  "language_info": {
   "codemirror_mode": {
    "name": "ipython",
    "version": 3
   },
   "file_extension": ".py",
   "mimetype": "text/x-python",
   "name": "python",
   "nbconvert_exporter": "python",
   "pygments_lexer": "ipython3",
   "version": "3.12.8"
  }
 },
 "nbformat": 4,
 "nbformat_minor": 5
}
