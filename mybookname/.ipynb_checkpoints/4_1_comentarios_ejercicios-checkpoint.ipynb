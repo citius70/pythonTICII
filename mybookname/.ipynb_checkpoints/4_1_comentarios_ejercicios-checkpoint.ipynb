{
 "cells": [
  {
   "cell_type": "markdown",
   "id": "cc118f6c-bc82-4389-b673-815593c617fd",
   "metadata": {},
   "source": [
    "# Ejercicios sobre Comentarios en Python\n",
    "\n",
    "En este notebook, practicarás el uso de comentarios en Python. Los comentarios **son útiles para documentar el código y hacer que sea más fácil de entender**."
   ]
  },
  {
   "cell_type": "markdown",
   "id": "1708b379-dc68-4d2c-8de5-95c86bdb0230",
   "metadata": {},
   "source": [
    "## Ejercicio 1: Comentarios de una sola línea\n",
    "Escribe un comentario de una sola línea que explique qué hace la siguiente línea de código. El comentario debe decir \"Esta línea de código muestra un saludo en el monitor\"\n",
    "````python\n",
    "print(\"Hola, mundo!\") "
   ]
  },
  {
   "cell_type": "code",
   "execution_count": 1,
   "id": "7c46eb7f-3f7d-4fb1-95be-676b87f7b919",
   "metadata": {},
   "outputs": [],
   "source": [
    "# Escribe el código aquí"
   ]
  },
  {
   "cell_type": "markdown",
   "id": "309ce608-dd19-439c-b3bd-d292606feb3a",
   "metadata": {},
   "source": [
    "## Ejercicio 2: Comentarios de varias líneas\n",
    "Escribe un comentario de varias líneas al principio del siguiente código que explique su funcionamiento.\n",
    "\n",
    "- El **comentario** es:\n",
    "\n",
    "Este bloque de código calcula la suma de dos números *(salto de línea)* y muestra el resultado en la consola.\n",
    "\n",
    "- El **código** es:\n",
    "```python\n",
    "a = 5\n",
    "b = 10\n",
    "suma = a + b\n",
    "print(suma)"
   ]
  },
  {
   "cell_type": "code",
   "execution_count": 2,
   "id": "8dd9ea9a-bc31-4b43-8d80-d8a054e5ad6b",
   "metadata": {},
   "outputs": [],
   "source": [
    "# Escribe el código aquí"
   ]
  },
  {
   "cell_type": "markdown",
   "id": "2c343c4e-25fd-4fa8-8009-95edb4c0d063",
   "metadata": {},
   "source": [
    "## Ejercicio 3: Usar comentarios para desactivar código\n",
    "Desactiva la siguiente línea de código usando un comentario y ejecuta el bloque.\n",
    "```python\n",
    "print(\"Esta línea se ejecutará hasta que la conviertas en comentario.\")"
   ]
  },
  {
   "cell_type": "code",
   "execution_count": 3,
   "id": "45b025af-d9ed-4632-ba86-a067c873b37a",
   "metadata": {},
   "outputs": [],
   "source": [
    "# Escribe el código aquí"
   ]
  }
 ],
 "metadata": {
  "kernelspec": {
   "display_name": "Python 3 (ipykernel)",
   "language": "python",
   "name": "python3"
  },
  "language_info": {
   "codemirror_mode": {
    "name": "ipython",
    "version": 3
   },
   "file_extension": ".py",
   "mimetype": "text/x-python",
   "name": "python",
   "nbconvert_exporter": "python",
   "pygments_lexer": "ipython3",
   "version": "3.12.8"
  }
 },
 "nbformat": 4,
 "nbformat_minor": 5
}
