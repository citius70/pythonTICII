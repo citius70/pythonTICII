{
 "cells": [
  {
   "cell_type": "markdown",
   "id": "e347f0de-603e-47ca-8e88-9d48d37edd82",
   "metadata": {},
   "source": [
    "# Ejercicios con Diccionarios"
   ]
  },
  {
   "cell_type": "markdown",
   "id": "dae875ce-72b1-49a5-9038-6a8866d8026f",
   "metadata": {},
   "source": [
    "## Ejercicio resuelto: Consultar y Actualizar Calificaciones de Alumnos\n",
    "\n",
    "* El diccionario `alumnado` tiene como **claves** los nombres de los `alumn@s` y como **valores** sus `calificaciones` en una asignatura.\n",
    "  \n",
    " ```python\n",
    "alumnado = {“Juan”: 85, “Ana”: 92, “Pedro”: 78, “María”: 88, “Luis”: 90, “Sofía”: 95, “Carlos”: 80, “Lucía”: 87}\n",
    "```\n",
    "\n",
    "**Instrucciones**\n",
    "1. Pide al usuario que ingrese el nombre de un alumno para buscar su calificación.\n",
    "2. Usa el método get() para obtener la calificación del alumno.\n",
    "3. Si el alumno existe, muestra su calificación y pregunta si desea actualizarla.\n",
    "4. Si el usuario desea actualizar la calificación, usa el método update() para modificarla.\n",
    "5. Imprime el diccionario final de alumnos."
   ]
  },
  {
   "cell_type": "code",
   "execution_count": 6,
   "id": "93d44ca7-8aac-4e92-8d17-cac0711df96f",
   "metadata": {},
   "outputs": [
    {
     "name": "stdin",
     "output_type": "stream",
     "text": [
      "Ingrese el nombre del alumno para buscar su calificación:  fsd\n"
     ]
    },
    {
     "name": "stdout",
     "output_type": "stream",
     "text": [
      "El alumno fsd no se encuentra en el diccionario.\n",
      "Diccionario final de alumnos: {'Juan': 85, 'Ana': 92, 'Pedro': 78, 'María': 88, 'Luis': 90, 'Sofía': 95, 'Carlos': 80, 'Lucía': 87}\n"
     ]
    }
   ],
   "source": [
    "# 1. Copia y pega el diccionario de alumnado con nombres y calificaciones\n",
    "alumnado = {\n",
    "    \"Juan\": 85,\n",
    "    \"Ana\": 92,\n",
    "    \"Pedro\": 78,\n",
    "    \"María\": 88,\n",
    "    \"Luis\": 90,\n",
    "    \"Sofía\": 95,\n",
    "    \"Carlos\": 80,\n",
    "    \"Lucía\": 87\n",
    "}\n",
    "\n",
    "# 2. Pedir al usuario que ingrese el nombre de un alumno\n",
    "nombre_alumno = input(\"Ingrese el nombre del alumno para buscar su calificación: \")\n",
    "\n",
    "# 3. Usar el método get() para obtener la calificación del alumno\n",
    "calificacion = alumnado.get(nombre_alumno)\n",
    "\n",
    "# 4. Verificar si el alumno existe\n",
    "if calificacion is not None:\n",
    "    print(f\"La calificación de {nombre_alumno} es: {calificacion}\")\n",
    "    \n",
    "    # Preguntar si desea actualizar la calificación\n",
    "    actualizar = input(\"¿Desea actualizar la calificación? (sí/no): \").strip().lower()\n",
    "    \n",
    "    if actualizar == \"sí\":\n",
    "        # Pedir la nueva calificación\n",
    "        nueva_calificacion = float(input(\"Ingrese la nueva calificación: \"))\n",
    "        \n",
    "        # 5. Usar el método update() para modificar la calificación\n",
    "        alumnado.update({nombre_alumno: nueva_calificacion})\n",
    "        print(f\"La calificación de {nombre_alumno} ha sido actualizada a: {nueva_calificacion}\")\n",
    "else:\n",
    "    print(f\"El alumno {nombre_alumno} no se encuentra en el diccionario.\")\n",
    "\n",
    "# Imprimir el diccionario final de alumnos\n",
    "print(\"Diccionario final de alumnos:\", alumnado)"
   ]
  },
  {
   "cell_type": "markdown",
   "id": "00f8b0fc-6ed4-4e96-a814-35124665de6b",
   "metadata": {},
   "source": [
    "## Ejercicio 1: Almacenar y Mostrar un Diccionario sencillo\n",
    "**Descripción** \n",
    "* Crea un programa que **almacene los nombres y edad de personas** y luego las muestre. Hacerlo hasta que se escriba \"salir\".\n",
    "\n",
    "**Instrucciones**\n",
    "\n",
    "1. Crea un diccionario vacío llamado persona.\n",
    "2. Pide al usuario que ingrese su nombre y su edad.\n",
    "3. Almacena el nombre como clave y la edad como valor en el diccionario.\n",
    "4. Imprime el contenido del diccionario."
   ]
  },
  {
   "cell_type": "code",
   "execution_count": null,
   "id": "cce18070-a240-49fc-b9ac-02ad26bddedd",
   "metadata": {},
   "outputs": [],
   "source": [
    "# 1. Crear un diccionario vacío llamado persona\n",
    "\n",
    "\n",
    "# 2. Pedir al usuario que ingrese su nombre y su edad\n",
    "\n",
    "\n",
    "# 3. Almacenar el nombre como clave y la edad como valor en el diccionario\n",
    "\n",
    "\n",
    "# 4. Imprimir el contenido del diccionario\n"
   ]
  },
  {
   "cell_type": "markdown",
   "id": "cc4b0f94-98ec-4f13-a46e-7046738935f9",
   "metadata": {},
   "source": [
    "## Ejercicio 2.1: Consultar precios\n",
    "* Dada el diccionario de productos, crea un programa que permita al usuario **conocer el precio** de uno.\n",
    "```python\n",
    "productos = {\n",
    "    \"manzana\": 1.5,\n",
    "    \"banana\": 0.5,\n",
    "    \"naranja\": 0.75,\n",
    "    \"uva\": 2.0,\n",
    "    \"pera\": 1.0\n",
    "}\n",
    "```\n",
    "**Instrucciones**\n",
    "* Seguir los comentarios de abajo."
   ]
  },
  {
   "cell_type": "code",
   "execution_count": 1,
   "id": "998f71b6-7980-46c1-962c-5f86f79341a7",
   "metadata": {},
   "outputs": [],
   "source": [
    "# Diccionario de productos\n",
    "\n",
    "\n",
    "# Imprimir el diccionario de productos y precios\n",
    "\n",
    "\n",
    "# Preguntar de qué producto quiere conocer su precio. Escribir \"salir\" si no desea conocer ninguno.\n",
    "\n",
    "\n",
    "# Repetir mientras la respuesta no es \"salir\".\n",
    "\n",
    "    # Si el producto está en el diccionario mostrar el precio\n",
    "    \n",
    "    # Si no está, indicar que no lo está.\n",
    "    \n",
    "        \n",
    "    # Volver a preguntar\n",
    "    \n",
    "# Mostar que se sale dep programa\n"
   ]
  },
  {
   "cell_type": "markdown",
   "id": "5f9fae6e-8f2b-4a00-b713-cc566d7de1b7",
   "metadata": {},
   "source": [
    "## Ejercicio 2.2: Actualizar precios\n",
    "* Dado el diccionario de productos anterior, crea un programa que permita al usuario **actualizar el precio** de un producto específico o **añadirlo** si no está en la lista.\n",
    "```python\n",
    "productos = {\n",
    "    \"manzana\": 1.5,\n",
    "    \"banana\": 0.5,\n",
    "    \"naranja\": 0.75,\n",
    "    \"uva\": 2.0,\n",
    "    \"pera\": 1.0\n",
    "}\n",
    "```\n",
    "\n",
    "**Instrucciones**\n",
    "* Seguir los comentarios de abajo."
   ]
  },
  {
   "cell_type": "code",
   "execution_count": 2,
   "id": "12ff4740-995a-4cb2-904e-f82371163423",
   "metadata": {},
   "outputs": [],
   "source": [
    "# Copia y pega el diccionario frutas.\n",
    "\n",
    "\n",
    "# 1. Actualización del precio de un producto\n",
    "# 1.1.  Pedir al usuario que ingrese el nombre de un producto\n",
    "\n",
    "\n",
    "# 1.2. Pedir al usuario que ingrese su nuevo precio\n",
    "\n",
    "\n",
    "# 2. Actualizar el precio del producto en el diccionario si existe. Si no, añadir el producto\n",
    "\n",
    "\n",
    "   \n",
    "# 3. Imprimir el diccionario actualizado\n",
    "\n"
   ]
  }
 ],
 "metadata": {
  "kernelspec": {
   "display_name": "Python 3 (ipykernel)",
   "language": "python",
   "name": "python3"
  },
  "language_info": {
   "codemirror_mode": {
    "name": "ipython",
    "version": 3
   },
   "file_extension": ".py",
   "mimetype": "text/x-python",
   "name": "python",
   "nbconvert_exporter": "python",
   "pygments_lexer": "ipython3",
   "version": "3.12.8"
  }
 },
 "nbformat": 4,
 "nbformat_minor": 5
}
