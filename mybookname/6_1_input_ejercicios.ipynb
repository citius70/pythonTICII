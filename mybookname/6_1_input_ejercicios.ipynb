{
 "cells": [
  {
   "cell_type": "markdown",
   "id": "671db1f9-b836-4673-8cd2-c261606df948",
   "metadata": {},
   "source": [
    "# Ejercicios sobre la función input()\n",
    "\n",
    "En este notebook, practicarás el uso de la función `input` en Python. Completa los ejercicios a continuación."
   ]
  },
  {
   "cell_type": "markdown",
   "id": "b154b13e-3129-4af2-81c7-63471af7f07e",
   "metadata": {},
   "source": [
    "## Ejercicio resuelto\n",
    "Programa en el que se pide al usuario la ciudad en la que nació y luego imprima ina frase con la respuesta."
   ]
  },
  {
   "cell_type": "code",
   "execution_count": 1,
   "id": "69d2018d-d13e-448b-a34d-bec41405db22",
   "metadata": {},
   "outputs": [
    {
     "name": "stdin",
     "output_type": "stream",
     "text": [
      "¿Cuál es tu nombre?:  tsd\n",
      "¿Dónde naciste?:  ddsf\n"
     ]
    },
    {
     "name": "stdout",
     "output_type": "stream",
     "text": [
      "tsd nació en ddsf.\n"
     ]
    }
   ],
   "source": [
    "# Solicitar el nombre y la ciudad en la que nació el usuario\n",
    "nombre = input(\"¿Cuál es tu nombre?: \")\n",
    "ciudad = input(\"¿Dónde naciste?: \")\n",
    "\n",
    "# Imprimir una frase personalizado\n",
    "print(f\"{nombre} nació en {ciudad}.\" )"
   ]
  },
  {
   "cell_type": "markdown",
   "id": "36740ab0-775b-4d58-9d24-b1cedf18b1e3",
   "metadata": {},
   "source": [
    "## Ejercicio 1: Saludo personalizado\n",
    "Escribe un programa que pida al usuario su nombre y luego imprima un saludo personalizado."
   ]
  },
  {
   "cell_type": "code",
   "execution_count": 5,
   "id": "4d150a01-6e8a-4aec-aebf-f9629af6276b",
   "metadata": {},
   "outputs": [],
   "source": [
    "# Escribe el código.\n",
    "# Solicitar el nombre del usuario con la función `input` y almacénalo en la variable `name`.\n",
    "\n",
    "# Imprimir un saludo personalizado con la función print\n",
    "\n",
    "# Inmprimirlo con la f-strings de función print\n"
   ]
  },
  {
   "cell_type": "markdown",
   "id": "93feab13-fbe7-4031-86d0-0b2cee638fe4",
   "metadata": {},
   "source": [
    "## Ejercicio 2: Calcular el doble de un número\n",
    "Escribe un programa que pida al usuario un número y luego imprima el doble de ese número.\n",
    "\n",
    "**¡Atención!:** La función input() devuelve como respuesta *cadenas de texto*. Si quieres tratarlo como números debes convertir la respuesta en entero o decimal (int o float)."
   ]
  },
  {
   "cell_type": "code",
   "execution_count": 6,
   "id": "452bf074-1dd8-4d51-ac08-c47d50e5d0d6",
   "metadata": {},
   "outputs": [],
   "source": [
    "# Solicitar al usuario un número. Recuerda que input devuelve una cadena. Tienes que convertirlo en int o float\n",
    "\n",
    "\n",
    "# Calcular el doble del número\n",
    "\n",
    "\n",
    "# Imprimir el resultado. Descomenta la línea siguiente antes de probar el código\n",
    "# print(f\"El doble de { } es { }.\")"
   ]
  },
  {
   "cell_type": "markdown",
   "id": "5ac0d943-d2e6-4eec-a56d-082ddb27fb11",
   "metadata": {},
   "source": [
    "## Ejercicio 3: Cálculo de la suma\n",
    "Escribe un programa que pida al usuario dos números y luego imprima la suma de esos números."
   ]
  },
  {
   "cell_type": "code",
   "execution_count": null,
   "id": "969b6443-7508-43af-8fe2-04978f628b82",
   "metadata": {},
   "outputs": [],
   "source": [
    "# Solicitar dos números al usuario.\n",
    "# Te dejo la primera línea\n",
    "number1 = float(input(\"Ingresa el primer número: \"))\n",
    "\n",
    "# Calcular la suma almacenándola en la variable sum.\n",
    "\n",
    "\n",
    "# Imprimir el resultado con f-string de print.\n"
   ]
  },
  {
   "cell_type": "markdown",
   "id": "06b90c41-5e30-4b7b-a811-146f58816eec",
   "metadata": {},
   "source": [
    "## Ejercicio 4: Cálculo de la edad\n",
    "Escribe un programa que pida al usuario su edad y luego imprima si edad el año que viene."
   ]
  },
  {
   "cell_type": "code",
   "execution_count": null,
   "id": "643696e6-2b7b-4a33-9543-e5ef3b3c3361",
   "metadata": {},
   "outputs": [],
   "source": [
    "# Solicitar al usuario su edad. Recuerda convertirlo en entero\n",
    "\n",
    "# Calcular la edad del año que viene (complétalo)\n",
    "\n",
    "# Imprimir el resultado\n"
   ]
  }
 ],
 "metadata": {
  "kernelspec": {
   "display_name": "conda-env-ambiente_1-py",
   "language": "python",
   "name": "conda-env-ambiente_1-py"
  },
  "language_info": {
   "codemirror_mode": {
    "name": "ipython",
    "version": 3
   },
   "file_extension": ".py",
   "mimetype": "text/x-python",
   "name": "python",
   "nbconvert_exporter": "python",
   "pygments_lexer": "ipython3",
   "version": "3.12.8"
  }
 },
 "nbformat": 4,
 "nbformat_minor": 5
}
