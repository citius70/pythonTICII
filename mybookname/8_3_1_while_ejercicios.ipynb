{
 "cells": [
  {
   "cell_type": "markdown",
   "id": "155fcd5c-da33-4514-9813-3e08c2029095",
   "metadata": {},
   "source": [
    "# Ejercicios sobre el bucle while"
   ]
  },
  {
   "cell_type": "markdown",
   "id": "ffb093a0-8a78-468a-bdc1-933b0f56e25d",
   "metadata": {},
   "source": [
    "## Ejercicio 1: Hucha\n",
    "Escribe un programa que simule una hucha, pidiendo primero una cantidad que se desea ahorrar. Luego, solicita cantidades a añadir a la hucha que se irán sumando hasta alcanzar el objetivo."
   ]
  },
  {
   "cell_type": "code",
   "execution_count": 1,
   "id": "3743fdcf-60e5-4b4d-aa57-9adc2f0b7bd0",
   "metadata": {},
   "outputs": [],
   "source": [
    "## Escribe el código aquí\n",
    "# Se solicita al usuario que introduzca la cantidad de dinero que desea ahorrar y se almacena en la variable objetivo\n",
    "# La función input() recibe un valor como cadena, y float() lo convierte a un número decimal.\n",
    "\n",
    "\n",
    "# Inicializamos la variable ahorrado en 0.0, que almacenará la cantidad total ahorrada.\n",
    "\n",
    "\n",
    "# Iniciamos un bucle while que continuará ejecutándose mientras el total ahorrado sea menor que el objetivo.\n",
    "\n",
    "    # Se solicita al usuario que introduzca una cantidad de dinero para añadir a la hucha y se almacena en la variable cantidad\n",
    "    \n",
    "    # Añadimos la cantidad de dinero para añadir a lo ahorrado.\n",
    "   \n",
    "# Una vez que el total ahorrado es igual o mayor que el objetivo, salimos del bucle.\n",
    "# Imprimimos un mensaje indicando que se ha alcanzado el objetivo y mostramos la cantidad total ahorrada.\n"
   ]
  },
  {
   "cell_type": "markdown",
   "id": "fde7039d-829f-414c-8c82-e7afc7954411",
   "metadata": {},
   "source": [
    "## Ejercicio 2: Hucha mejorada\n",
    "Reutiliza el ejercicio anterior para asegurar que las cantidades introducidas sean valores positivos. En caso de que no lo sean, no sumarlos a lo ahorrado."
   ]
  },
  {
   "cell_type": "code",
   "execution_count": 2,
   "id": "63903710-b193-41f3-b0b4-79b6b737403f",
   "metadata": {},
   "outputs": [],
   "source": [
    "## Escribe el código aquí\n",
    "# Se solicita al usuario que introduzca la cantidad de dinero que desea ahorrar y se almacena en la variable objetivo\n",
    "\n",
    "\n",
    "# Inicializamos la variable ahorrado en 0.0, que almacenará la cantidad total ahorrada.\n",
    "\n",
    "\n",
    "# Iniciamos un bucle while que continuará ejecutándose mientras el total ahorrado sea menor que el objetivo.\n",
    "\n",
    "    # Se solicita al usuario que introduzca una cantidad de dinero para añadir a la hucha y se almacena en la variable cantidad\n",
    "   \n",
    "    \n",
    "    # Verificamos si la cantidad es positiva\n",
    "    \n",
    "        \n",
    "             # Solo sumamos si la cantidad es positiva\n",
    "   \n",
    "             # Se pide que se introduzca una cantidad positiva,\n",
    "\n",
    "# Una vez que el total ahorrado es igual o mayor que el objetivo, salimos del bucle.\n",
    "# Imprimimos un mensaje indicando que se ha alcanzado el objetivo y mostramos la cantidad total ahorrada.\n"
   ]
  },
  {
   "cell_type": "markdown",
   "id": "91c87fa6-ea2b-4890-962a-9ee1921474ee",
   "metadata": {
    "id": "dyxMLYst9Kv8"
   },
   "source": [
    "## Ejercicio 3: Control de Inventario\n",
    "Eres el gerente de una tienda de automóviles y necesitas controlar tu inventario (stock). Cada vez que vendes un automóvil, disminuyes tu inventario. Escribe un programa que te permita ingresar la cantidad inicial de automóviles existentes y luego, sucesivamente, te pregunte cuántos automóviles se vendierons se vendieron. \n",
    "El programa debe continuar preguntando cuántos automóviles se vendieron hasta que el inventario llegue a cero. Finalmente, el programa debe decirte cuántas transacciones (ventas individuales) tuvieron lugar antes de que se acabara el inventario.\n",
    "\n",
    "**Instrucciones**\n",
    "* Inicia con un inventario de X pares de zapatos (donde X es un número que ingresas).\n",
    "* Pregunta al usuario cuántos pares de zapatos se vendieron.\n",
    "* Deduce esa cantidad del inventario.\n",
    "* Repite el proceso hasta que el inventario sea 0.\n",
    "* Imprime el número total de transacciones realizadas.\n"
   ]
  },
  {
   "cell_type": "code",
   "execution_count": 3,
   "id": "c225dd14-f74d-4d99-bcef-8f34f5014f5a",
   "metadata": {},
   "outputs": [],
   "source": [
    "# Solicitar la cantidad inicial de automóviles en stock\n",
    "\n",
    "# Inicializar el contador de transacciones\n",
    "\n",
    "# Comenzar un bucle que continuará hasta que el stock llegue a cero\n",
    "\n",
    "    # Solicitar la cantidad de automóviles vendidos en la transacción actual\n",
    "    \n",
    "    \n",
    "    # Verificar que la cantidad vendida no sea mayor que el stock disponible\n",
    "\n",
    "         # En este caso mostrar que no se pueden vender porque no hay stock\n",
    "    # Si se pueden vender...\n",
    "        # Disminuir el stock con el n´mero de automóbiles vendidos\n",
    "        # Aumentar el contador de transacciones en 1\n",
    "        # Mostrar que la transacción ha sido registrada y el numero de automóviles que quedan\n",
    "\n",
    "# Una vez que el stock llega a cero, mostrar el número total de transacciones\n"
   ]
  }
 ],
 "metadata": {
  "kernelspec": {
   "display_name": "Python 3 (ipykernel)",
   "language": "python",
   "name": "python3"
  },
  "language_info": {
   "codemirror_mode": {
    "name": "ipython",
    "version": 3
   },
   "file_extension": ".py",
   "mimetype": "text/x-python",
   "name": "python",
   "nbconvert_exporter": "python",
   "pygments_lexer": "ipython3",
   "version": "3.12.8"
  }
 },
 "nbformat": 4,
 "nbformat_minor": 5
}
