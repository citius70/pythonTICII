{
 "cells": [
  {
   "cell_type": "code",
   "execution_count": null,
   "id": "69f4e941-842c-4d49-8313-b0bf56939118",
   "metadata": {},
   "outputs": [],
   "source": []
  },
  {
   "cell_type": "markdown",
   "id": "6ee7b79e-37ac-479a-ad3c-19bb6923bdda",
   "metadata": {},
   "source": [
    "## Ejercicio 2: Almacenar Información de Estudiantes\n",
    "**Descripción**\n",
    "Crea un programa que almacene información sobre estudiantes, incluyendo su nombre, edad y calificaciones.\n",
    "\n",
    "**Instrucciones**\n",
    "\n",
    "1. Crea un diccionario vacío llamado estudiantes.\n",
    "2. Pide al usuario que ingrese el nombre, la edad y las calificaciones de al menos 3 estudiantes.\n",
    "3. Almacena la información en el diccionario, donde el nombre del estudiante es la clave y un diccionario con la edad y las calificaciones es el valor.\n",
    "4. Imprime el diccionario final.\n",
    "\n",
    "**Ejemplo de salida**\n",
    "* Ingresa el nombre del estudiante: Juan\n",
    "* Ingresa la edad de Juan: 20\n",
    "* Ingresa las calificaciones de Juan (separadas por comas): 85,90,78\n",
    "* Ingresa el nombre del estudiante: Ana\n",
    "* Ingresa la edad de Ana: 22\n",
    "* Ingresa las calificaciones de Ana (separadas por comas): 88,92,95\n",
    "* Diccionario de estudiantes: {'Juan': {'edad': 20, 'calificaciones': [85, 90, 78]}, 'Ana': {'edad': 22, 'calificaciones': [88, 92, 95]}}"
   ]
  },
  {
   "cell_type": "code",
   "execution_count": null,
   "id": "4926c63a-2764-4934-8863-19d494e36074",
   "metadata": {},
   "outputs": [],
   "source": [
    "# Definimos la función para contar las vocales\n",
    "def contar_vocales(cadena):\n",
    "    # Definimos las vocales\n",
    "    vocales = \"aeiouAEIOU\"\n",
    "    # Usamos una comprensión de lista y sumamos las ocurrencias\n",
    "    return sum(1 for letra in cadena if letra in vocales)\n",
    "\n",
    "# Solicitamos al usuario que ingrese una cadena\n",
    "entrada = input(\"Ingrese una cadena de texto: \")\n",
    "\n",
    "# Llamamos a la función y almacenamos el resultado\n",
    "resultado = contar_vocales(entrada)\n",
    "\n",
    "# Mostramos el resultado\n",
    "print(f\"La cantidad de vocales en la cadena es: {resultado}\")"
   ]
  }
 ],
 "metadata": {
  "kernelspec": {
   "display_name": "Python 3 (ipykernel)",
   "language": "python",
   "name": "python3"
  },
  "language_info": {
   "codemirror_mode": {
    "name": "ipython",
    "version": 3
   },
   "file_extension": ".py",
   "mimetype": "text/x-python",
   "name": "python",
   "nbconvert_exporter": "python",
   "pygments_lexer": "ipython3",
   "version": "3.12.8"
  }
 },
 "nbformat": 4,
 "nbformat_minor": 5
}
