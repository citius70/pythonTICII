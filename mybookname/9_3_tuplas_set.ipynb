{
 "cells": [
  {
   "cell_type": "markdown",
   "metadata": {
    "id": "6JDXMMjQD8SY"
   },
   "source": [
    "# Tuplas y sets\n",
    "Una **tupla** es una *colección ordenada de elementos*, similar a una lista.\n",
    "\n",
    "La diferencia significativa es que las tuplas son **inmutables**. Esto significa que una vez que se crea una tupla, no puedes cambiar su contenido. Las tuplas están encerradas entre paréntesis `( )`."
   ]
  },
  {
   "cell_type": "markdown",
   "metadata": {},
   "source": [
    "## Tuplas"
   ]
  },
  {
   "cell_type": "code",
   "execution_count": 1,
   "metadata": {
    "colab": {
     "base_uri": "https://localhost:8080/"
    },
    "id": "dXXpk7tyFRAy",
    "jupyter": {
     "source_hidden": true
    },
    "outputId": "fd4b7899-4437-4cbd-be61-00f90f2ad734"
   },
   "outputs": [
    {
     "name": "stdout",
     "output_type": "stream",
     "text": [
      "('manzana', 'plátano', 'cereza')\n",
      "plátano\n"
     ]
    }
   ],
   "source": [
    "tupla_frutas = ('manzana', 'plátano', 'cereza')\n",
    "print(tupla_frutas)\n",
    "\n",
    "print(tupla_frutas[1])  # Salida: 'plátano'"
   ]
  },
  {
   "cell_type": "markdown",
   "metadata": {
    "id": "eNqa8_LVFijm"
   },
   "source": [
    "### Métodos aplicables a las tuplas\n",
    "Las tuplas son **inmutables**, por lo que no tienen métodos que agreguen o eliminen elementos. Sin embargo, tienen dos métodos:"
   ]
  },
  {
   "cell_type": "code",
   "execution_count": 2,
   "metadata": {
    "jupyter": {
     "source_hidden": true
    }
   },
   "outputs": [],
   "source": [
    "tuplaFrutas = ('manzana', 'plátano', 'cereza', 'plátano')"
   ]
  },
  {
   "cell_type": "markdown",
   "metadata": {
    "id": "eNqa8_LVFijm"
   },
   "source": [
    "1. **count(elemento)**: Devuelve el número de veces que un valor ocurre en una tupla."
   ]
  },
  {
   "cell_type": "code",
   "execution_count": 3,
   "metadata": {
    "jupyter": {
     "source_hidden": true
    }
   },
   "outputs": [
    {
     "data": {
      "text/plain": [
       "2"
      ]
     },
     "execution_count": 3,
     "metadata": {},
     "output_type": "execute_result"
    }
   ],
   "source": [
    "tuplaFrutas.count('plátano')"
   ]
  },
  {
   "cell_type": "markdown",
   "metadata": {
    "id": "eNqa8_LVFijm"
   },
   "source": [
    "2. **index(elemento)**: Devuelve el primer índice en el cual un valor ocurre en una tupla."
   ]
  },
  {
   "cell_type": "code",
   "execution_count": 4,
   "metadata": {
    "id": "eNqa8_LVFijm",
    "jupyter": {
     "source_hidden": true
    }
   },
   "outputs": [
    {
     "data": {
      "text/plain": [
       "2"
      ]
     },
     "execution_count": 4,
     "metadata": {},
     "output_type": "execute_result"
    }
   ],
   "source": [
    "tuplaFrutas.index('cereza')"
   ]
  },
  {
   "cell_type": "code",
   "execution_count": 5,
   "metadata": {
    "id": "eNqa8_LVFijm",
    "jupyter": {
     "source_hidden": true
    }
   },
   "outputs": [
    {
     "name": "stdout",
     "output_type": "stream",
     "text": [
      "En la tupla, María aparece 2 veces y el índice de Sara es el 2\n"
     ]
    }
   ],
   "source": [
    "# Ejemplo\n",
    "\n",
    "tuplaNombres = (\"Alberto\", \"María\", \"Sara\", \"Julián\", \"María\")\n",
    "conteo = tuplaNombres.count(\"María\")\n",
    "indice = tuplaNombres.index(\"Sara\")\n",
    "\n",
    "\n",
    "print(f\"En la tupla, María aparece {conteo} veces y el índice de Sara es el {indice}\")"
   ]
  },
  {
   "cell_type": "markdown",
   "metadata": {
    "id": "1wm8YiBKBqUv"
   },
   "source": [
    "## Conjuntos / Sets\n",
    "Un **conjunto** es una colección no ordenada de elementos únicos. Son útiles cuando quieres llevar un registro de una colección de elementos, pero no te importa su orden, no te preocupan los duplicados y deseas realizar operaciones de conjuntos como unión e intersección.\n",
    "\n",
    "Los conjuntos están encerrados en llaves `{ }`. Por lo que su notación luce similar a los conjuntos de matemáticas (ejemplo: $A=\\{1,2,3\\}$ )"
   ]
  },
  {
   "cell_type": "code",
   "execution_count": 6,
   "metadata": {
    "colab": {
     "base_uri": "https://localhost:8080/"
    },
    "id": "F2dGL2zvB6Yu",
    "outputId": "4dc7d834-12e8-4db2-99f7-e11ea4ed848b"
   },
   "outputs": [
    {
     "name": "stdout",
     "output_type": "stream",
     "text": [
      "{'cereza', 'manzana', 'plátano'}\n"
     ]
    }
   ],
   "source": [
    "conjunto_frutas = {'manzana', 'plátano', 'cereza', 'manzana'}\n",
    "print(conjunto_frutas)  # Output: {'cereza', 'plátano', 'manzana'} (se eliminan los duplicados, el orden puede variar)"
   ]
  },
  {
   "cell_type": "markdown",
   "metadata": {
    "id": "jYI7B8aUCB5r"
   },
   "source": [
    "### Métodos de manipulación de conjuntos\n",
    "* add(elemento): Agrega un elemento al conjunto.\n",
    "* remove(elemento): Elimina un elemento del conjunto. Lanza un KeyError si el elemento no se encuentra.\n",
    "* discard(elemento): Elimina un elemento del conjunto si está presente.\n",
    "* pop(): Elimina y devuelve un elemento arbitrario del conjunto. Lanza un KeyError si el conjunto está vacío.\n",
    "* clear(): Elimina todos los elementos del conjunto.\n",
    "* union(otro_conjunto): Devuelve un nuevo conjunto con elementos del conjunto y todos los demás.\n",
    "* union(): Devuelve un nuevo conjunto con los elementos que están en ambos conjuntos\n",
    "* intersection(otro_conjunto): Devuelve un nuevo conjunto con elementos comunes al conjunto y todos los demás.\n",
    "* difference(otro_conjunto): Devuelve un nuevo conjunto con elementos en el conjunto que no están en los demás."
   ]
  },
  {
   "cell_type": "markdown",
   "metadata": {},
   "source": [
    "## Apéndice A: Tabla comparativa\n",
    "\n",
    "| Característica               | Listas                 | Diccionarios                     | Conjuntos                                | Tuplas                |\n",
    "|:----------------------------:|:----------------------:|:--------------------------------:|:----------------------------------------:|:---------------------:|\n",
    "| **Orden**                     | Ordenado               | No ordenado                     | No ordenado                              | Ordenado              |\n",
    "| **Tipo de dato**              | Secuencia              | Mapeo                            | Conjunto                                 | Secuencia             |\n",
    "| **Sintaxis**                  | [ ]                    | { clave : valor }                | { elemento1, elemento2 }                 | ( )                   |\n",
    "| **Mutabilidad**               | Mutable                | Mutable (claves inmutables)      | Mutable                                  | Inmutable             |\n",
    "| **Duplicados**                | Permite                | No permite (claves)              | No permite                               | Permite               |\n",
    "| **Búsqueda por índice**       | Sí                     | No (búsqueda por clave)          | No                                       | Sí                    |\n",
    "| **Búsqueda por valor**        | Sí                     | Sí (búsqueda de valores)         | Sí                                       | Sí                    |\n",
    "| **Métodos principales**       | append, extend, remove | keys, values, items, get, update | add, remove, discard, union, intersection| count, index          |\n",
    "| **Uso común**                 | Almacenar secuencias   | Almacenar pares clave-valor      | Almacenar colecciones sin duplicados     | Almacenar registros inmutables |"
   ]
  },
  {
   "cell_type": "markdown",
   "metadata": {},
   "source": [
    "## Caso práctico: Eligiendo una estructura de datos\n",
    "Suponga que usted fue elegido como asesor del código de una empresa y se encuentra con que la empresa almacena la información de sus productos de la siguiente manera\n",
    "\n",
    "productos = [\"Armarios\", \"Mesas\", \"Camas\"]\n",
    "stock = [100, 50, 75]\n",
    "precios = [990, 590, 490]"
   ]
  },
  {
   "cell_type": "markdown",
   "metadata": {
    "id": "cBYdVapwI57c"
   },
   "source": [
    "¿Cuál sería una mejor manera de almacenar datos? ¿por qué eligió esa manera?"
   ]
  },
  {
   "cell_type": "markdown",
   "metadata": {
    "id": "ui66awsUI_qu"
   },
   "source": [
    "### Solución\n",
    "Se ha optado por crear un **diccionario anidado**, o sea, un diccionario dentro de otro"
   ]
  },
  {
   "cell_type": "code",
   "execution_count": 7,
   "metadata": {
    "id": "I_ACUctkJD35"
   },
   "outputs": [],
   "source": [
    "# Diccionario para almacenar datos de productos\n",
    "muebles_info = {\n",
    "    \"Armarios\": {\"stock\": 100, \"precio\": 990},\n",
    "    \"Mesas\": {\"stock\": 50, \"precio\": 590},\n",
    "    \"Camas\": {\"stock\": 75, \"precio\": 490}\n",
    "}"
   ]
  },
  {
   "cell_type": "markdown",
   "metadata": {
    "id": "9hWS-Nv-JKaH"
   },
   "source": [
    "Esto es mejor por las siguientes razones:\n",
    "* Integridad de datos: si eliminas un ítem en el diccionario, también eliminarás el resto de los datos relacionados con ese producto.\n",
    "* Consistencia: todo está \"adjunto\" al mismo producto, así que si cambias un índice, todo también se moverá.\n",
    "* Te ves obligado a agregar todos los datos relacionados de un producto.\n",
    "* Sin duplicados: Los diccionarios tienen claves no duplicadas, por lo que puedes estar seguro de que solo hay un registro por producto.\n",
    "* Legibilidad: Es más legible. `base[\"Producto B\"][\"stock\"]` es mejor que `producto[1]` `stock[1]`."
   ]
  }
 ],
 "metadata": {
  "colab": {
   "provenance": []
  },
  "kernelspec": {
   "display_name": "Python 3 (ipykernel)",
   "language": "python",
   "name": "python3"
  },
  "language_info": {
   "codemirror_mode": {
    "name": "ipython",
    "version": 3
   },
   "file_extension": ".py",
   "mimetype": "text/x-python",
   "name": "python",
   "nbconvert_exporter": "python",
   "pygments_lexer": "ipython3",
   "version": "3.12.8"
  }
 },
 "nbformat": 4,
 "nbformat_minor": 4
}
