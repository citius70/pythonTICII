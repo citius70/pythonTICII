{
 "cells": [
  {
   "cell_type": "markdown",
   "metadata": {},
   "source": [
    "# Apéndice A: Tabla comparativa\n",
    "\n",
    "| Característica               | Listas                 | Diccionarios                     | Conjuntos                                | Tuplas                |\n",
    "|:----------------------------:|:----------------------:|:--------------------------------:|:----------------------------------------:|:---------------------:|\n",
    "| **Orden**                     | Ordenado               | No ordenado                     | No ordenado                              | Ordenado              |\n",
    "| **Tipo de dato**              | Secuencia              | Mapeo                            | Conjunto                                 | Secuencia             |\n",
    "| **Sintaxis**                  | [ ]                    | { clave : valor }                | { elemento1, elemento2 }                 | ( )                   |\n",
    "| **Mutabilidad**               | Mutable                | Mutable (claves inmutables)      | Mutable                                  | Inmutable             |\n",
    "| **Duplicados**                | Permite                | No permite (claves)              | No permite                               | Permite               |\n",
    "| **Búsqueda por índice**       | Sí                     | No (búsqueda por clave)          | No                                       | Sí                    |\n",
    "| **Búsqueda por valor**        | Sí                     | Sí (búsqueda de valores)         | Sí                                       | Sí                    |\n",
    "| **Métodos principales**       | append, extend, remove | keys, values, items, get, update | add, remove, discard, union, intersection| count, index          |\n",
    "| **Uso común**                 | Almacenar secuencias   | Almacenar pares clave-valor      | Almacenar colecciones sin duplicados     | Almacenar registros inmutables |"
   ]
  },
  {
   "cell_type": "markdown",
   "metadata": {},
   "source": [
    "# Caso práctico: Eligiendo una estructura de datos\n",
    "Suponga que usted fue elegido como asesor del código de una empresa y se encuentra con que la empresa almacena la información de sus productos de la siguiente manera\n",
    "\n",
    "productos = [\"Armarios\", \"Mesas\", \"Camas\"]\n",
    "\n",
    "stock = [100, 50, 75]\n",
    "\n",
    "precios = [990, 590, 490]"
   ]
  },
  {
   "cell_type": "markdown",
   "metadata": {
    "id": "cBYdVapwI57c"
   },
   "source": [
    "¿Cuál sería una mejor manera de almacenar datos? ¿por qué eligió esa manera?"
   ]
  },
  {
   "cell_type": "markdown",
   "metadata": {
    "id": "ui66awsUI_qu"
   },
   "source": [
    "## Solución\n",
    "Se ha optado por crear un **diccionario anidado**, o sea, un diccionario dentro de otro"
   ]
  },
  {
   "cell_type": "code",
   "execution_count": null,
   "metadata": {
    "id": "I_ACUctkJD35"
   },
   "outputs": [],
   "source": [
    "# Diccionario para almacenar datos de productos\n",
    "muebles_info = {\n",
    "    \"Armarios\": {\"stock\": 100, \"precio\": 990},\n",
    "    \"Mesas\": {\"stock\": 50, \"precio\": 590},\n",
    "    \"Camas\": {\"stock\": 75, \"precio\": 490}\n",
    "}"
   ]
  },
  {
   "cell_type": "markdown",
   "metadata": {
    "id": "9hWS-Nv-JKaH"
   },
   "source": [
    "Esto es mejor por las siguientes razones:\n",
    "* Integridad de datos: si eliminas un ítem en el diccionario, también eliminarás el resto de los datos relacionados con ese producto.\n",
    "* Consistencia: todo está \"adjunto\" al mismo producto, así que si cambias un índice, todo también se moverá.\n",
    "* Te ves obligado a agregar todos los datos relacionados de un producto.\n",
    "* Sin duplicados: Los diccionarios tienen claves no duplicadas, por lo que puedes estar seguro de que solo hay un registro por producto.\n",
    "* Legibilidad: Es más legible. `base[\"Producto B\"][\"stock\"]` es mejor que `producto[1]` `stock[1]`."
   ]
  }
 ],
 "metadata": {
  "colab": {
   "provenance": []
  },
  "kernelspec": {
   "display_name": "Python 3 (ipykernel)",
   "language": "python",
   "name": "python3"
  },
  "language_info": {
   "codemirror_mode": {
    "name": "ipython",
    "version": 3
   },
   "file_extension": ".py",
   "mimetype": "text/x-python",
   "name": "python",
   "nbconvert_exporter": "python",
   "pygments_lexer": "ipython3",
   "version": "3.12.8"
  }
 },
 "nbformat": 4,
 "nbformat_minor": 4
}
