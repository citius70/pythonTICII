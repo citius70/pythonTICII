{
 "cells": [
  {
   "cell_type": "markdown",
   "metadata": {
    "id": "r2FoVtLdls_O"
   },
   "source": [
    "# Comentarios\n",
    "En este documento veremos las funciones `print()`, `input()`, que son las funciones, entre otros para mostrar información e introducirla.\n",
    "Pero antes, estudiaremos los *comentarios*\n"
   ]
  },
  {
   "cell_type": "markdown",
   "metadata": {
    "id": "EyDQJOa1ExBq"
   },
   "source": [
    "En Python, los **comentarios** *se usan para explicar el código* cuando el código básico no se explica por sí mismo. Python ignora los comentarios, por lo que no ejecutará el código que contienen.\n",
    "\n",
    "Los comentarios pueden usarse para hacer el código más legible para las personas y son una buena práctica, especialmente cuando el código se vuelve complejo.\n",
    "\n",
    "Hay dos maneras de escribir comentarios en Python:"
   ]
  },
  {
   "cell_type": "markdown",
   "metadata": {
    "id": "pD52HH-CE6gd"
   },
   "source": [
    "### 1.2. Comentarios de Una Línea\n",
    "Los comentarios de una línea se crean utilizando el carácter de almohadilla o *hashtag* (#). Todo lo que esté a la derecha del # será ignorado por Python. Aquí hay un ejemplo:"
   ]
  },
  {
   "cell_type": "code",
   "execution_count": 1,
   "metadata": {
    "id": "h8d8N2_nE5Z3"
   },
   "outputs": [],
   "source": [
    "# Esto es un comentario\n",
    "myNum = 3 # Esto tambien es un comentrio"
   ]
  },
  {
   "cell_type": "markdown",
   "metadata": {
    "id": "EeY4-jVAFM6D"
   },
   "source": [
    "Notese que en el compilador, los comentarios suelen ser distinguidos con el color verde"
   ]
  },
  {
   "cell_type": "markdown",
   "metadata": {
    "id": "SmSOoCktFXN5"
   },
   "source": [
    "### 1.3. Comentarios multilínea\n",
    "Si tienes comentarios que abarcan varias líneas, una manera de hacerlo es usar el carácter de almohadilla (#) al inicio de cada línea:"
   ]
  },
  {
   "cell_type": "code",
   "execution_count": 2,
   "metadata": {
    "id": "bkPqEiPIFg4e"
   },
   "outputs": [],
   "source": [
    "# Este es un comentario largo\n",
    "# y se extiende\n",
    "# a múltiples líneas"
   ]
  },
  {
   "cell_type": "markdown",
   "metadata": {
    "id": "AcQn0EByFk6W"
   },
   "source": [
    "Otra forma de hacer esto es usar triple comillas"
   ]
  },
  {
   "cell_type": "code",
   "execution_count": 3,
   "metadata": {
    "id": "FZcCfDUGFm6W"
   },
   "outputs": [
    {
     "data": {
      "text/plain": [
       "'\\nEste es un comentario más largo\\nque abarca múltiples líneas\\n'"
      ]
     },
     "execution_count": 3,
     "metadata": {},
     "output_type": "execute_result"
    }
   ],
   "source": [
    "\"\"\"\n",
    "Este es un comentario más largo\n",
    "que abarca múltiples líneas\n",
    "\"\"\""
   ]
  }
 ],
 "metadata": {
  "colab": {
   "provenance": [],
   "toc_visible": true
  },
  "kernelspec": {
   "display_name": "Python 3 (ipykernel)",
   "language": "python",
   "name": "python3"
  },
  "language_info": {
   "codemirror_mode": {
    "name": "ipython",
    "version": 3
   },
   "file_extension": ".py",
   "mimetype": "text/x-python",
   "name": "python",
   "nbconvert_exporter": "python",
   "pygments_lexer": "ipython3",
   "version": "3.12.8"
  }
 },
 "nbformat": 4,
 "nbformat_minor": 4
}
