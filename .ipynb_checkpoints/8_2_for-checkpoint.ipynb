{
 "cells": [
  {
   "cell_type": "markdown",
   "id": "31890e03-af4d-421f-9996-0651f6f2b3f9",
   "metadata": {
    "id": "dE8UfDcr7T1y"
   },
   "source": [
    "# Bucles\n",
    "Los **bucles** en Python se utilizan para **ejecutar un bloque de código de forma repetida**.\n",
    "\n",
    "Python proporciona dos tipos de bucles:\n",
    "* `for`: ejecutan el código una cantidad **determinada** de veces (1,2,3,... veces)\n",
    "* `while`: ejecutan el código una cantidad **indeterminada** de veces. Se repite el codigo mientras se cumpla una condición."
   ]
  },
  {
   "cell_type": "markdown",
   "id": "2e2e36bb-74bb-4520-8b85-09ab106dd166",
   "metadata": {},
   "source": [
    "# Bucle for"
   ]
  },
  {
   "cell_type": "markdown",
   "id": "0a8ac841-d177-4343-8514-c34fdda1bd15",
   "metadata": {},
   "source": [
    "El bucle `for` se utiliza para itera (repetir) sobre una secuencia (como una lista, tupla, diccionario, etc.) y ejecutar un bloque de código para cada elemento en esa secuencia.\n",
    "\n",
    "La sintaxis básica del bucle for es la siguiente:\n",
    "```python\n",
    "for elemento in secuencia:\n",
    "    # bloque de código a ejecutar para cada elemento\n",
    "```"
   ]
  },
  {
   "cell_type": "markdown",
   "id": "ed352093-c14d-40c7-b5b2-24152aaa3a04",
   "metadata": {},
   "source": [
    "Veamos algún ejemplo:"
   ]
  },
  {
   "cell_type": "markdown",
   "id": "7fee3e15-4c85-49e8-a885-275246c51a39",
   "metadata": {},
   "source": [
    "**Ejemplo 1**: Utilizando la función `range`"
   ]
  },
  {
   "cell_type": "code",
   "execution_count": 6,
   "id": "802b352e-930a-4267-b506-88ef16d0bb10",
   "metadata": {},
   "outputs": [
    {
     "name": "stdout",
     "output_type": "stream",
     "text": [
      "Hola\n",
      "Hola\n",
      "Hola\n",
      "Hola\n",
      "Hola\n",
      "Hola\n",
      "Hola\n",
      "Hola\n",
      "Hola\n"
     ]
    }
   ],
   "source": [
    "for x in range (1,10):\n",
    "    print (\"Hola\")"
   ]
  },
  {
   "cell_type": "markdown",
   "id": "35595832-4f32-4a38-b64c-3f3e9a1a1709",
   "metadata": {},
   "source": [
    "> **Explicación**: Cuando se ejecuta el bucle `for`, Python comienza a iterar sobre la secuencia generada por `range(1,10)`.\n",
    "En la primera iteración, `x` será `1`, y se ejecutará `print(\"Hola\")`.\n",
    "En la segunda iteración, `x` será `2`, y se ejecutará nuevamente `print(\"Hola\")`.\n",
    "Este proceso continúa hasta que `x` alcanza `9`, momento en el cual se ejecuta `print(\"Hola\")` por última vez.\n"
   ]
  },
  {
   "cell_type": "markdown",
   "id": "d1b8a260-c11d-4f40-851a-f10c9110d7d4",
   "metadata": {},
   "source": [
    "**Ejemplo 2**: Iterando (repitiendo) una `lista`\n",
    "\n",
    "¡Atención!: El concepto `lista` se estudiará más adelante"
   ]
  },
  {
   "cell_type": "code",
   "execution_count": 9,
   "id": "4fc33956-8453-434f-8d04-71a2e597a4bc",
   "metadata": {},
   "outputs": [
    {
     "name": "stdout",
     "output_type": "stream",
     "text": [
      "Me gusta la manzana\n",
      "Me gusta la banana\n",
      "Me gusta la cereza\n"
     ]
    }
   ],
   "source": [
    "frutas = [\"manzana\", \"banana\", \"cereza\"]\n",
    "\n",
    "for fruta in frutas:\n",
    "    print(\"Me gusta la \" + fruta)"
   ]
  },
  {
   "cell_type": "markdown",
   "id": "652caeb2-96e8-4df8-b325-8f2d531e8bcf",
   "metadata": {},
   "source": [
    "> **Explicación**: La lista frutas contiene tres elementos: \"manzana\", \"banana\" y \"cereza\".\n",
    "El bucle `for` itera sobre cada elemento de la lista.\n",
    "En cada iteración, la variable `fruta` toma el valor de un elemento de la lista, y ese valor se imprime con print(fruta)."
   ]
  },
  {
   "cell_type": "markdown",
   "id": "9ce6e0a7-a582-4b4f-89ca-3bbb6e371ad5",
   "metadata": {},
   "source": [
    "**Ejemplo 3**: Iterando sobre una cadena de texto"
   ]
  },
  {
   "cell_type": "code",
   "execution_count": 12,
   "id": "55fc7634-2ef8-4fa0-9d54-c89eb9da4c0c",
   "metadata": {},
   "outputs": [
    {
     "name": "stdout",
     "output_type": "stream",
     "text": [
      "E\n",
      "s\n",
      "t\n",
      "e\n",
      "r\n",
      "n\n",
      "o\n",
      "c\n",
      "l\n",
      "e\n",
      "i\n",
      "d\n",
      "o\n",
      "m\n",
      "a\n",
      "s\n",
      "t\n",
      "o\n",
      "i\n",
      "d\n",
      "e\n",
      "o\n"
     ]
    }
   ],
   "source": [
    "for letra in \"Esternocleidomastoideo\":\n",
    "    print(letra)"
   ]
  },
  {
   "cell_type": "markdown",
   "id": "6d3c38d1-b619-48ed-871b-47edbf88710f",
   "metadata": {},
   "source": [
    "> **Explicación**: La palabra \"Esternocleidomastoideo\" es una cadena de texto (string). El bucle `for` itera sobre cada carácter (letra) del string. En cada iteración, la variable `letra` toma el valor de un carácter del string. `print(letra)`  imprime la letra actual."
   ]
  }
 ],
 "metadata": {
  "kernelspec": {
   "display_name": "Python 3 (ipykernel)",
   "language": "python",
   "name": "python3"
  },
  "language_info": {
   "codemirror_mode": {
    "name": "ipython",
    "version": 3
   },
   "file_extension": ".py",
   "mimetype": "text/x-python",
   "name": "python",
   "nbconvert_exporter": "python",
   "pygments_lexer": "ipython3",
   "version": "3.12.7"
  }
 },
 "nbformat": 4,
 "nbformat_minor": 5
}
