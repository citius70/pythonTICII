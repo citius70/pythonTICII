{
 "cells": [
  {
   "cell_type": "markdown",
   "metadata": {
    "editable": true,
    "id": "S4fWekBSjlhQ",
    "slideshow": {
     "slide_type": "slide"
    },
    "tags": []
   },
   "source": [
    "# Introducción"
   ]
  },
  {
   "cell_type": "markdown",
   "metadata": {
    "editable": true,
    "id": "F8rqBkawj1Hu",
    "slideshow": {
     "slide_type": "subslide"
    },
    "tags": []
   },
   "source": [
    "<p style=\"text-align: right;\">\n",
    "    <img src=\"https://clubroboticagranada.github.io/images/python1.png\"  style=\"width: 300px; float: right; margin-left: 10px;\">\n",
    "</p>\n",
    "\n",
    "**Python** es uno de los lenguajes de programación más populares y con un crecimiento más rápido del mundo. Se usa para todo tipo de tareas, como las de **programación web** y **análisis de datos**, y se ha convertido en el lenguaje que hay que conocer para el **aprendizaje automático**. Esa popularidad significa que los desarrolladores de Python están muy solicitados y los trabajos de programación de Python pueden ser rentables.\n",
    "\n",
    "Las razones mencionadas anteriormente representan el por qué podría ser una buena idea aprender a programar en Python. En este módulo se proporcionará una introducción al uso de Python para compilar una aplicación, que puede ser un punto de partida para convertirse en programador de Python."
   ]
  },
  {
   "cell_type": "markdown",
   "metadata": {
    "editable": true,
    "id": "F8rqBkawj1Hu",
    "slideshow": {
     "slide_type": "slide"
    },
    "tags": []
   },
   "source": [
    "## Ventajas de Python\n",
    "La principal ventaja de Python es apostar fuertemente por la **sencillez**. Python parte una premisa base: “más simple es mejor” (parece una obviedad, pero no todos los lenguajes siguen esta filosofía).\n",
    "\n",
    "Es decir, Python se enfoca en la productividad del desarrollador y en legibilidad del código. Esto sigue una filosofía que han llamado “The Zen of Python”, que básicamente promueve la simplicidad y claridad al programar.\n",
    "\n",
    "Por otro lado, Python es un lenguaje **multipropósito** (bueno, como casi todos hoy en día). Esto significa que, aunque es más usado en ciertos ámbitos, nada nos impide usarlo para cualquier tipo de programas o tareas. Se utiliza para la creación de páginas web, análisis de datos, machine learning..."
   ]
  },
  {
   "cell_type": "markdown",
   "metadata": {},
   "source": [
    "`````{admonition} Python es...\n",
    "* Sencillo\n",
    "* Multipropósito \n",
    "* Popular\n",
    "`````"
   ]
  },
  {
   "cell_type": "markdown",
   "metadata": {
    "editable": true,
    "id": "F8rqBkawj1Hu",
    "slideshow": {
     "slide_type": "slide"
    },
    "tags": []
   },
   "source": [
    "Otra gran ventaja de Python es su amplia **biblioteca estándar**, que proporciona módulos y funciones para realizar diversas tareas. Esto facilita el desarrollo de aplicaciones sin tener que reinventar la rueda.\n",
    "\n",
    "Finalmente, la mayor ventaja que tiene Python (si, es su mayor ventaja) es la gran popularidad que ha adquirido el lenguaje. Esto le ha generado una gran comunidad.\n",
    "\n",
    "Fruto de ello, existe una gran cantidad de recursos, documentaciones, tutoriales, y bibliotecas disponibles, facilitando el aprendizaje y la resolución de problemas.\n",
    "\n",
    "Si tienes una necesidad, lo más seguro es que alguien ya haya hecho una biblioteca para resolverlo en Python."
   ]
  }
 ],
 "metadata": {
  "colab": {
   "provenance": [],
   "toc_visible": true
  },
  "kernelspec": {
   "display_name": "Python 3 (ipykernel)",
   "language": "python",
   "name": "python3"
  },
  "language_info": {
   "codemirror_mode": {
    "name": "ipython",
    "version": 3
   },
   "file_extension": ".py",
   "mimetype": "text/x-python",
   "name": "python",
   "nbconvert_exporter": "python",
   "pygments_lexer": "ipython3",
   "version": "3.12.8"
  }
 },
 "nbformat": 4,
 "nbformat_minor": 4
}
