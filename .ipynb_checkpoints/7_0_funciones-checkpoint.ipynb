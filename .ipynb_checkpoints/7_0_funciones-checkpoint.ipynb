{
 "cells": [
  {
   "cell_type": "markdown",
   "metadata": {
    "id": "nK5mobeVV8hd"
   },
   "source": [
    "# Funciones\n",
    "En programación, **una función es un bloque de código reutilizable que realiza una tarea específica**. Las funciones proporcionan una mejor modularidad para tu aplicación y permiten una alta reutilización del código. Puedes pensar en ellas como una forma de **empaquetar código que deseas usar repetidamente**, o una manera de descomponer tareas complejas en partes más pequeñas y manejables.\n",
    "\n",
    "\n",
    "<img src=\"https://aulavirtual.espol.edu.ec/courses/4558/files/1083512/download?verifier=n3m8lepEmTQSVqbRFv1YZNWvXHlsbEZCIwRJ5xYr&wrap=1\" style=\"float: left; width: 500px; margin-right: 10px;\" />\n",
    "\n",
    "En Python, defines una función usando la palabra clave `def`. Aquí hay un ejemplo de una función simple que suma dos números:"
   ]
  },
  {
   "cell_type": "code",
   "execution_count": 1,
   "metadata": {
    "id": "dFMLPwPlV87c"
   },
   "outputs": [],
   "source": [
    "def sumar_numeros(a, b):\n",
    "    return a + b"
   ]
  },
  {
   "cell_type": "markdown",
   "metadata": {
    "id": "LmtDyf3OWyEW"
   },
   "source": [
    "En este ejemplo, sumar_numeros`` es el **nombre** que le hemos puesto a la función. Los valores dentro de los paréntesis (a y b) son los **parámetros o argumentos** de la función. Estos son los valores que la función necesita para realizar su tarea. La palabra clave **return** se utiliza para especificar el resultado que la función debe producir.\n",
    "\n",
    "Ahora podemos llamar o invocar a la función las veces que necesitemos usando su **nombre** seguido de paréntesis, pasando los **valores para los parámetros**."
   ]
  },
  {
   "cell_type": "markdown",
   "metadata": {
    "id": "LmtDyf3OWyEW"
   },
   "source": [
    "Así es como llamarías a la función `sumar_numeros` con los números 2 y 3 como argumentos:"
   ]
  },
  {
   "cell_type": "code",
   "execution_count": 2,
   "metadata": {
    "colab": {
     "base_uri": "https://localhost:8080/"
    },
    "id": "fWmaZArIXAuS",
    "outputId": "9af4f61f-767e-428c-e661-ee0934c2819d"
   },
   "outputs": [
    {
     "data": {
      "text/plain": [
       "5"
      ]
     },
     "execution_count": 2,
     "metadata": {},
     "output_type": "execute_result"
    }
   ],
   "source": [
    "sumar_numeros(2, 3)"
   ]
  },
  {
   "cell_type": "markdown",
   "metadata": {
    "id": "LmtDyf3OWyEW"
   },
   "source": [
    "Así es como llamarías a la función `sumar_numeros` con los números5  y 2 como argumentos:"
   ]
  },
  {
   "cell_type": "code",
   "execution_count": 3,
   "metadata": {},
   "outputs": [
    {
     "data": {
      "text/plain": [
       "7"
      ]
     },
     "execution_count": 3,
     "metadata": {},
     "output_type": "execute_result"
    }
   ],
   "source": [
    "sumar_numeros(5,2)"
   ]
  },
  {
   "cell_type": "markdown",
   "metadata": {},
   "source": [
    "## Otros ejemplos: "
   ]
  },
  {
   "cell_type": "markdown",
   "metadata": {},
   "source": [
    "### Ejemplo 1"
   ]
  },
  {
   "cell_type": "code",
   "execution_count": 4,
   "metadata": {},
   "outputs": [
    {
     "data": {
      "text/plain": [
       "25"
      ]
     },
     "execution_count": 4,
     "metadata": {},
     "output_type": "execute_result"
    }
   ],
   "source": [
    "# Función que devuelve el cuadrado de un número\n",
    "def calcular_cuadrado(x):\n",
    "    return x ** 2\n",
    "# Ejemplo de uso de la función\n",
    "calcular_cuadrado (5)"
   ]
  },
  {
   "cell_type": "code",
   "execution_count": 5,
   "metadata": {},
   "outputs": [
    {
     "data": {
      "text/plain": [
       "64"
      ]
     },
     "execution_count": 5,
     "metadata": {},
     "output_type": "execute_result"
    }
   ],
   "source": [
    "calcular_cuadrado (8)"
   ]
  },
  {
   "cell_type": "code",
   "execution_count": 6,
   "metadata": {},
   "outputs": [
    {
     "data": {
      "text/plain": [
       "9"
      ]
     },
     "execution_count": 6,
     "metadata": {},
     "output_type": "execute_result"
    }
   ],
   "source": [
    "calcular_cuadrado (3)"
   ]
  },
  {
   "cell_type": "markdown",
   "metadata": {},
   "source": [
    "### Ejemplo 2"
   ]
  },
  {
   "cell_type": "code",
   "execution_count": 7,
   "metadata": {},
   "outputs": [
    {
     "name": "stdout",
     "output_type": "stream",
     "text": [
      "El resultado de multiplicar por 5 es 30\n"
     ]
    }
   ],
   "source": [
    "def multiplica_por_cinco(a):\n",
    "    mult = a * 5\n",
    "    print(f\"El resultado de multiplicar por 5 es {mult}\")\n",
    "\n",
    "multiplica_por_cinco(6)\n"
   ]
  },
  {
   "cell_type": "code",
   "execution_count": 8,
   "metadata": {},
   "outputs": [
    {
     "name": "stdout",
     "output_type": "stream",
     "text": [
      "El resultado de multiplicar por 5 es 45\n"
     ]
    }
   ],
   "source": [
    "multiplica_por_cinco(9)"
   ]
  }
 ],
 "metadata": {
  "colab": {
   "provenance": [],
   "toc_visible": true
  },
  "kernelspec": {
   "display_name": "Python 3 (ipykernel)",
   "language": "python",
   "name": "python3"
  },
  "language_info": {
   "codemirror_mode": {
    "name": "ipython",
    "version": 3
   },
   "file_extension": ".py",
   "mimetype": "text/x-python",
   "name": "python",
   "nbconvert_exporter": "python",
   "pygments_lexer": "ipython3",
   "version": "3.12.8"
  }
 },
 "nbformat": 4,
 "nbformat_minor": 4
}
