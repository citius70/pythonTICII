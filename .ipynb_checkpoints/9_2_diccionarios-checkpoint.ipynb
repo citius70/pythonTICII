{
 "cells": [
  {
   "cell_type": "markdown",
   "metadata": {
    "id": "Mz_gA5GFD52P"
   },
   "source": [
    "# Diccionarios\n",
    "\n",
    "<div style=\"float: right; margin-left: 10px;\">\n",
    "    <img src=\"https://www.muylinux.com/wp-content/uploads/2013/10/diccionario.jpg\" alt=\"Descripción de la imagen\" style=\"width: 200px;\"/>\n",
    "</div>\n",
    "\n",
    "Un **diccionario** es una colección no ordenada de pares **clave: valor**. Las claves son únicas e inmutables, mientras que los valores pueden ser de cualquier tipo y pueden ser modificados. Este tipo de datos es útil para almacenar relaciones entre pares de datos.\n",
    "\n",
    "Los diccionarios están encerrados en llaves `{ }`, y se usan dos puntos `:` para separar las **claves** y los **valores**.\n",
    "\n",
    "## Creación de un diccionario\n",
    "Los diccionarios en Python se definen utilizando llaves {} y los pares clave-valor se separan por dos puntos :. Por ejemplo, la sintaxis sería así:\n",
    "\n",
    "```python\n",
    "mi_diccionario = {\n",
    "    \"clave1\": valor1,\n",
    "    \"clave2\": valor2,\n",
    "    \"clave3\": valor3\n",
    "}\n",
    "```\n",
    "Donde `clave1`, `clave2` y `clave3` son las claves que se utilizarán para acceder a los valores correspondientes.\n",
    "\n",
    "Por ejemplo, asi."
   ]
  },
  {
   "cell_type": "markdown",
   "metadata": {},
   "source": [
    "```{note} Características de los diccionarios\n",
    "* **Claves únicas**: Cada `clave` en un diccionario es única, lo que significa que no puede haber claves duplicadas.\n",
    "\n",
    "* **Mutabilidad de valores**: Los `valores` de un diccionario pueden ser modificados después de la creación.\n",
    "\n",
    "* **Desordenados**: Aunque los diccionarios mantienen el orden de inserción a partir de Python 3.7, no se debe confiar en el orden.\n",
    "```"
   ]
  },
  {
   "cell_type": "markdown",
   "metadata": {},
   "source": [
    "<img src=https://www.programiz.com/sites/tutorial2program/files/python_dictionary-example.png width=\"500\">"
   ]
  },
  {
   "cell_type": "code",
   "execution_count": 1,
   "metadata": {
    "colab": {
     "base_uri": "https://localhost:8080/"
    },
    "id": "sRCfJnHnD6of",
    "outputId": "a7fd3716-842e-4677-f7d6-ab2a170f1072"
   },
   "outputs": [
    {
     "name": "stdout",
     "output_type": "stream",
     "text": [
      "Londres\n"
     ]
    }
   ],
   "source": [
    "pais_capital = {'Alemania': 'Berlín',\n",
    "                 'Canada': 'Otawa',\n",
    "                 'Reino Unido': 'Londres'}\n",
    "# Para llamar al valor en una diccionario debe usar la siguiente estructura diccionario[\"clave\"]\n",
    "print(pais_capital['Reino Unido'])"
   ]
  },
  {
   "cell_type": "markdown",
   "metadata": {},
   "source": [
    "## Métodos de manipulación de diccionarios\n",
    "Como ya se ha comentado, los diccionarios son **mutables**. es decir, sus valores se pueden modificar, eliminar o añadir. Vamos a ver algún método:"
   ]
  },
  {
   "cell_type": "markdown",
   "metadata": {},
   "source": [
    "Empezamos creando un **diccionario** inicial (`pais_poblacion`) en el que las `claves` serán nombres de **países** y  los `valores` serán sus **poblaciones**."
   ]
  },
  {
   "cell_type": "code",
   "execution_count": 2,
   "metadata": {},
   "outputs": [],
   "source": [
    "# Crear un diccionario de países y sus poblaciones\n",
    "paisPoblacion = {\n",
    "    'China': 1444216107,\n",
    "    'India': 1393409038,\n",
    "    'Estados Unidos': 331002651,\n",
    "    'Indonesia': 273523615,\n",
    "    'Pakistán': 225199937\n",
    "}"
   ]
  },
  {
   "cell_type": "markdown",
   "metadata": {},
   "source": [
    "1. **keys()**: Devuelve una nueva vista de las claves del diccionario."
   ]
  },
  {
   "cell_type": "code",
   "execution_count": 3,
   "metadata": {},
   "outputs": [
    {
     "name": "stdout",
     "output_type": "stream",
     "text": [
      "Claves del diccionario (países): dict_keys(['China', 'India', 'Estados Unidos', 'Indonesia', 'Pakistán'])\n"
     ]
    }
   ],
   "source": [
    "claves = paisPoblacion.keys()\n",
    "print(\"Claves del diccionario (países):\", claves)"
   ]
  },
  {
   "cell_type": "markdown",
   "metadata": {},
   "source": [
    "2. **values()**: Devuelve una nueva vista de los valores del diccionario."
   ]
  },
  {
   "cell_type": "code",
   "execution_count": 4,
   "metadata": {},
   "outputs": [
    {
     "name": "stdout",
     "output_type": "stream",
     "text": [
      "Valores del diccionario (poblaciones): dict_values([1444216107, 1393409038, 331002651, 273523615, 225199937])\n"
     ]
    }
   ],
   "source": [
    "valores =paisPoblacion.values()\n",
    "print(\"Valores del diccionario (poblaciones):\", valores) "
   ]
  },
  {
   "cell_type": "markdown",
   "metadata": {},
   "source": [
    "3. **items()**: Devuelve una nueva vista de los elementos del diccionario (pares clave: valor)."
   ]
  },
  {
   "cell_type": "code",
   "execution_count": 7,
   "metadata": {},
   "outputs": [
    {
     "name": "stdout",
     "output_type": "stream",
     "text": [
      "Elementos del diccionario (país, población): dict_items([('China', 1444216107), ('India', 1393409038), ('Estados Unidos', 331002651), ('Indonesia', 273523615), ('Pakistán', 225199937)])\n"
     ]
    }
   ],
   "source": [
    "elementos = paisPoblacion.items()\n",
    "print(\"Elementos del diccionario (país, población):\", elementos)  "
   ]
  },
  {
   "cell_type": "markdown",
   "metadata": {},
   "source": [
    "4. **get(clave, por_defecto)**: Devuelve el valor para clave si la clave está en el diccionario, de lo contrario devuelve por_defecto."
   ]
  },
  {
   "cell_type": "code",
   "execution_count": null,
   "metadata": {},
   "outputs": [],
   "source": [
    "# Obtener una clave que existe\n",
    "poblacion_india = paisPoblacion.get('India', 'No disponible')\n",
    "print(\"Población de India:\", poblacion_india) "
   ]
  },
  {
   "cell_type": "code",
   "execution_count": null,
   "metadata": {
    "scrolled": true
   },
   "outputs": [],
   "source": [
    "# Obtener una clave que no existe\n",
    "poblacion_brasil = paisPoblacion.get('Brasil', 'No disponible')\n",
    "print(\"Población de Brasil:\", poblacion_brasil)"
   ]
  },
  {
   "cell_type": "markdown",
   "metadata": {},
   "source": [
    "5. **update(clave: valor_actualizar)**: Actualiza el diccionario con los pares clave/valor entre paréntesis, sobrescribiendo las claves existentes o actualizándolas si ya existen."
   ]
  },
  {
   "cell_type": "code",
   "execution_count": null,
   "metadata": {
    "scrolled": true
   },
   "outputs": [],
   "source": [
    "paisPoblacion.update({'Tanzania': 67438110, 'Pakistán': 230000000}) \n",
    "# Agrega Tanzania y actualiza la población de Pakistán\n",
    "print(\"Diccionario después de update:\", paisPoblacion)  "
   ]
  },
  {
   "cell_type": "markdown",
   "metadata": {},
   "source": [
    "6. **pop(clave)**: Elimina y devuelve el valor para clave si la clave está en el diccionario"
   ]
  },
  {
   "cell_type": "code",
   "execution_count": null,
   "metadata": {},
   "outputs": [],
   "source": [
    "poblacion_china = paisPoblacion.pop('China')\n",
    "print(\"Diccionario después de pop:\", paisPoblacion) \n",
    "print(\"Población de China eliminada:\", poblacion_china)  # Salida: 1444216107"
   ]
  },
  {
   "cell_type": "markdown",
   "metadata": {
    "id": "FqFz0mAMEYYo"
   },
   "source": [
    "## Como evitar la confusion con los conjuntos\n",
    "Tanto los diccionarios como los conjuntos se declaran usando corchetes `{ }`, por lo que en el caso que declares un diccionario o conjunto vacio luego puedes generar una confusion. En tal caso, puedes declarar los diccionarios y conjuntos de modo explicito de esta manera"
   ]
  },
  {
   "cell_type": "code",
   "execution_count": null,
   "metadata": {
    "id": "AvIPvAecFU0U"
   },
   "outputs": [],
   "source": [
    "miConjunto = set()\n",
    "miDiccionario = dict()"
   ]
  },
  {
   "cell_type": "markdown",
   "metadata": {
    "id": "QEXyDiatGsAO"
   },
   "source": [
    "## Apéndice A: Tabla comparativa\n",
    "\n",
    "| Característica               | Listas                 | Diccionarios                     | Conjuntos                                | Tuplas                |\n",
    "|:----------------------------:|:----------------------:|:--------------------------------:|:----------------------------------------:|:---------------------:|\n",
    "| **Orden**                     | Ordenado               | No ordenado                     | No ordenado                              | Ordenado              |\n",
    "| **Tipo de dato**              | Secuencia              | Mapeo                            | Conjunto                                 | Secuencia             |\n",
    "| **Sintaxis**                  | [ ]                    | { clave : valor }                | { elemento1, elemento2 }                 | ( )                   |\n",
    "| **Mutabilidad**               | Mutable                | Mutable (claves inmutables)      | Mutable                                  | Inmutable             |\n",
    "| **Duplicados**                | Permite                | No permite (claves)              | No permite                               | Permite               |\n",
    "| **Búsqueda por índice**       | Sí                     | No (búsqueda por clave)          | No                                       | Sí                    |\n",
    "| **Búsqueda por valor**        | Sí                     | Sí (búsqueda de valores)         | Sí                                       | Sí                    |\n",
    "| **Métodos principales**       | append, extend, remove | keys, values, items, get, update | add, remove, discard, union, intersection| count, index          |\n",
    "| **Uso común**                 | Almacenar secuencias   | Almacenar pares clave-valor      | Almacenar colecciones sin duplicados     | Almacenar registros inmutables |\n"
   ]
  },
  {
   "cell_type": "code",
   "execution_count": null,
   "metadata": {},
   "outputs": [],
   "source": []
  },
  {
   "cell_type": "markdown",
   "metadata": {
    "id": "hmsNDtgPISQY"
   },
   "source": [
    "## Caso práctico: Eligiendo una estructura de datos\n",
    "Suponga que usted fue elegido como asesor del código de una empresa y se encuentra con que la empresa almacena la información de sus productos de la siguiente manera"
   ]
  },
  {
   "cell_type": "code",
   "execution_count": null,
   "metadata": {
    "id": "Ebdu1WJbIog_"
   },
   "outputs": [],
   "source": [
    "productos = [\"Armarios\", \"Mesas\", \"Camas\"]\n",
    "stock = [100, 50, 75]\n",
    "precios = [990, 590, 490]"
   ]
  },
  {
   "cell_type": "markdown",
   "metadata": {
    "id": "cBYdVapwI57c"
   },
   "source": [
    "¿Cuál sería una mejor manera de almacenar datos? ¿por qué eligió esa manera?"
   ]
  },
  {
   "cell_type": "markdown",
   "metadata": {
    "id": "ui66awsUI_qu"
   },
   "source": [
    "### Solución\n",
    "Se ha optado por crear un **diccionario anidado**, o sea, un diccionario dentro de otro"
   ]
  },
  {
   "cell_type": "code",
   "execution_count": null,
   "metadata": {
    "id": "I_ACUctkJD35"
   },
   "outputs": [],
   "source": [
    "# Diccionario para almacenar datos de productos\n",
    "muebles_info = {\n",
    "    \"Armarios\": {\"stock\": 100, \"precio\": 990},\n",
    "    \"Mesas\": {\"stock\": 50, \"precio\": 590},\n",
    "    \"Camas\": {\"stock\": 75, \"precio\": 490}\n",
    "}"
   ]
  },
  {
   "cell_type": "markdown",
   "metadata": {
    "id": "9hWS-Nv-JKaH"
   },
   "source": [
    "Esto es mejor por las siguientes razones:\n",
    "* Integridad de datos: si eliminas un ítem en el diccionario, también eliminarás el resto de los datos relacionados con ese producto.\n",
    "* Consistencia: todo está \"adjunto\" al mismo producto, así que si cambias un índice, todo también se moverá.\n",
    "* Te ves obligado a agregar todos los datos relacionados de un producto.\n",
    "* Sin duplicados: Los diccionarios tienen claves no duplicadas, por lo que puedes estar seguro de que solo hay un registro por producto.\n",
    "* Legibilidad: Es más legible. `base[\"Producto B\"][\"stock\"]` es mejor que `producto[1]` `stock[1]`."
   ]
  }
 ],
 "metadata": {
  "colab": {
   "provenance": []
  },
  "kernelspec": {
   "display_name": "Python 3 (ipykernel)",
   "language": "python",
   "name": "python3"
  },
  "language_info": {
   "codemirror_mode": {
    "name": "ipython",
    "version": 3
   },
   "file_extension": ".py",
   "mimetype": "text/x-python",
   "name": "python",
   "nbconvert_exporter": "python",
   "pygments_lexer": "ipython3",
   "version": "3.12.8"
  }
 },
 "nbformat": 4,
 "nbformat_minor": 4
}
