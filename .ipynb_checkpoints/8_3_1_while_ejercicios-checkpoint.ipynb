{
 "cells": [
  {
   "cell_type": "markdown",
   "id": "155fcd5c-da33-4514-9813-3e08c2029095",
   "metadata": {},
   "source": [
    "# Ejercicios sobre el bucle while"
   ]
  },
  {
   "cell_type": "markdown",
   "id": "ffb093a0-8a78-468a-bdc1-933b0f56e25d",
   "metadata": {},
   "source": [
    "## Ejercicio 1: Hucha\n",
    "Escribe un programa que simule una hucha, pidiendo primero una cantidad que se desea ahorrar. Luego, solicita cantidades a añadir a la hucha que se irán sumando hasta alcanzar el objetivo."
   ]
  },
  {
   "cell_type": "code",
   "execution_count": 6,
   "id": "3743fdcf-60e5-4b4d-aa57-9adc2f0b7bd0",
   "metadata": {},
   "outputs": [],
   "source": [
    "## Escribe el código aquí\n",
    "# Se solicita al usuario que introduzca la cantidad de dinero que desea ahorrar y se almacena en la variable objetivo\n",
    "# La función input() recibe un valor como cadena, y float() lo convierte a un número decimal.\n",
    "\n",
    "\n",
    "# Inicializamos la variable ahorrado en 0.0, que almacenará la cantidad total ahorrada.\n",
    "\n",
    "\n",
    "# Iniciamos un bucle while que continuará ejecutándose mientras el total ahorrado sea menor que el objetivo.\n",
    "\n",
    "    # Se solicita al usuario que introduzca una cantidad de dinero para añadir a la hucha y se almacena en la variable cantidad\n",
    "    \n",
    "    # Añadimos la cantidad de dinero para añadir a lo ahorrado.\n",
    "   \n",
    "# Una vez que el total ahorrado es igual o mayor que el objetivo, salimos del bucle.\n",
    "# Imprimimos un mensaje indicando que se ha alcanzado el objetivo y mostramos la cantidad total ahorrada.\n"
   ]
  },
  {
   "cell_type": "markdown",
   "id": "fde7039d-829f-414c-8c82-e7afc7954411",
   "metadata": {},
   "source": [
    "## Ejercicio 2: Hucha mejorada\n",
    "Reutiliza el ejercicio anterior para asegurar que las cantidades introducidas sean valores positivos. En caso de que no lo sean, no sumarlos a lo ahorrado."
   ]
  },
  {
   "cell_type": "code",
   "execution_count": 7,
   "id": "63903710-b193-41f3-b0b4-79b6b737403f",
   "metadata": {},
   "outputs": [
    {
     "ename": "IndentationError",
     "evalue": "unexpected indent (213530135.py, line 11)",
     "output_type": "error",
     "traceback": [
      "\u001b[1;36m  Cell \u001b[1;32mIn[7], line 11\u001b[1;36m\u001b[0m\n\u001b[1;33m    )\u001b[0m\n\u001b[1;37m    ^\u001b[0m\n\u001b[1;31mIndentationError\u001b[0m\u001b[1;31m:\u001b[0m unexpected indent\n"
     ]
    }
   ],
   "source": [
    "## Escribe el código aquí\n",
    "# Se solicita al usuario que introduzca la cantidad de dinero que desea ahorrar y se almacena en la variable objetivo\n",
    "\n",
    "\n",
    "# Inicializamos la variable ahorrado en 0.0, que almacenará la cantidad total ahorrada.\n",
    "\n",
    "\n",
    "# Iniciamos un bucle while que continuará ejecutándose mientras el total ahorrado sea menor que el objetivo.\n",
    "\n",
    "    # Se solicita al usuario que introduzca una cantidad de dinero para añadir a la hucha y se almacena en la variable cantidad\n",
    "   \n",
    "    \n",
    "    # Verificamos si la cantidad es positiva\n",
    "    if cantidad > 0:\n",
    "        ahorrado += cantidad  # Solo sumamos si la cantidad es positiva\n",
    "    else:\n",
    "        print(\"Por favor, introduzca un valor positivo.\") # Se pide que se introduzca una cantidad positiva,\n",
    "\n",
    "# Una vez que el total ahorrado es igual o mayor que el objetivo, salimos del bucle.\n",
    "# Imprimimos un mensaje indicando que se ha alcanzado el objetivo y mostramos la cantidad total ahorrada.\n",
    "print(f\"¡Objetivo conseguido! Ha ahorrado usted {ahorrado} euros.\")"
   ]
  },
  {
   "cell_type": "code",
   "execution_count": null,
   "id": "b053961e-cd61-4e9e-835a-bc72187248ae",
   "metadata": {},
   "outputs": [],
   "source": [
    "## Escribe el código aquí\n",
    "# Se solicita al usuario que introduzca la cantidad de dinero que desea ahorrar y se almacena en la variable objetivo\n",
    "# La función input() recibe un valor como cadena, y float() lo convierte a un número decimal.\n",
    "objetivo = float(input(\"¿Cuántos euros quiere ahorrar?: \"))\n",
    "\n",
    "# Inicializamos la variable ahorrado en 0.0, que almacenará la cantidad total ahorrada.\n",
    "ahorrado = 0.0\n",
    "\n",
    "# Iniciamos un bucle while que continuará ejecutándose mientras el total ahorrado sea menor que el objetivo.\n",
    "while total < objetivo:\n",
    "    # Se solicita al usuario que introduzca una cantidad de dinero para añadir a la huch y se almacena en la variable cantidad\n",
    "    cantidad = float(input(\"¿Cuántos euros quiere meter en la hucha?: \"))\n",
    "    \n",
    "    # Comprobamos si la cantidad introducida es negativa.\n",
    "    if cantidad < 0:\n",
    "        # Si es negativa, mostramos un mensaje pidiendo una cantidad positiva.\n",
    "        print(\"Por favor, escriba una cantidad positiva.\")\n",
    "    else:\n",
    "        # Si la cantidad es válida (no negativa), la añadimos al total ahorrado.\n",
    "        total += cantidad\n",
    "\n",
    "# Una vez que el total ahorrado es igual o mayor que el objetivo, salimos del bucle.\n",
    "# Imprimimos un mensaje indicando que se ha alcanzado el objetivo y mostramos la cantidad total ahorrada.\n",
    "print(f\"¡Objetivo conseguido! Ha ahorrado usted {total} euros.\")"
   ]
  },
  {
   "cell_type": "markdown",
   "id": "91c87fa6-ea2b-4890-962a-9ee1921474ee",
   "metadata": {
    "id": "dyxMLYst9Kv8"
   },
   "source": [
    "## Ejercicio con bucle While: Control de Inventario\n",
    "Eres el gerente de una tienda de zapatos y necesitas controlar tu inventario. Cada vez que vendes un par de zapatos, disminuyes tu inventario. Quieres tener un programa que te permita ingresar la cantidad inicial de pares de zapatos en tu tienda y luego, sucesivamente, te pregunte cuántos pares de zapatos se vendieron. El programa debe continuar preguntando cuántos pares de zapatos se vendieron hasta que el inventario llegue a cero. Finalmente, el programa debe decirte cuántas transacciones (ventas individuales) tuvieron lugar antes de que se acabara el inventario.\n",
    "\n",
    "**Instrucciones**\n",
    "* Inicia con un inventario de X pares de zapatos (donde X es un número que ingresas).\n",
    "* Pregunta al usuario cuántos pares de zapatos se vendieron.\n",
    "* Deduce esa cantidad del inventario.\n",
    "* Repite el proceso hasta que el inventario sea 0.\n",
    "* Imprime el número total de transacciones realizadas.\n"
   ]
  },
  {
   "cell_type": "code",
   "execution_count": null,
   "id": "b2686a28-0761-4714-abe7-f54692bd6571",
   "metadata": {
    "id": "4NMwU5zr9jqQ"
   },
   "outputs": [],
   "source": [
    "# Ingreso de la cantidad inicial de zapatos en inventario\n",
    "inventario = int(input(\"Ingrese la cantidad inicial de pares de zapatos en la tienda: \"))\n",
    "transacciones = 0  # Inicializa el contador de transacciones\n",
    "\n",
    "# Mientras haya zapatos en inventario\n",
    "while inventario > 0:\n",
    "    venta = int(input(\"¿Cuántos pares de zapatos se vendieron en esta transacción? \"))\n",
    "\n",
    "    # Deduce la venta del inventario y suma al contador de transacciones\n",
    "    inventario -= venta\n",
    "    transacciones += 1\n",
    "\n",
    "    # Verifica que no se ingrese una venta mayor al inventario\n",
    "    if inventario < 0:\n",
    "        print(\"La venta excede el inventario actual. Por favor, ingrese un número válido.\")\n",
    "        inventario += venta  # Devuelve la cantidad vendida al inventario\n",
    "        transacciones -= 1   # Resta la transacción inválida\n",
    "\n",
    "print(f\"El inventario ha llegado a cero. Se realizaron {transacciones} transacciones.\")"
   ]
  }
 ],
 "metadata": {
  "kernelspec": {
   "display_name": "Python 3 (ipykernel)",
   "language": "python",
   "name": "python3"
  },
  "language_info": {
   "codemirror_mode": {
    "name": "ipython",
    "version": 3
   },
   "file_extension": ".py",
   "mimetype": "text/x-python",
   "name": "python",
   "nbconvert_exporter": "python",
   "pygments_lexer": "ipython3",
   "version": "3.12.8"
  }
 },
 "nbformat": 4,
 "nbformat_minor": 5
}
