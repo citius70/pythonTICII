{
 "cells": [
  {
   "cell_type": "markdown",
   "metadata": {
    "id": "r2FoVtLdls_O"
   },
   "source": [
    "# Estructuras de datos\n",
    "\n",
    "En Python, las **estructuras de datos** son formas de **organizar y almacenar datos** para que puedan ser utilizados de manera eficiente.\n",
    "En este artículo revisaremos qué cuales son los diversos tipos de datos que podemos manipular en python, cuáles son sus características, ventajas y desventajas. En particular hablaremos de las:\n",
    "* **listas**\n",
    "* **tuplas**\n",
    "* **sets**\n",
    "* **diccionarios**\n"
   ]
  },
  {
   "cell_type": "markdown",
   "metadata": {
    "id": "dwVBxz0d_fNG"
   },
   "source": [
    "# Listas\n",
    "Una **lista** es una **colección ordenada de elementos (o valores)**. \n",
    "Los elementos de una lista van encerrados entre corchetes `[ ]`. Por ejemplo:"
   ]
  },
  {
   "cell_type": "code",
   "execution_count": 1,
   "metadata": {
    "colab": {
     "base_uri": "https://localhost:8080/"
    },
    "id": "_r0wrb50_gX-",
    "outputId": "dc92eabd-3f8a-49b2-c868-515aae1305d3"
   },
   "outputs": [
    {
     "name": "stdout",
     "output_type": "stream",
     "text": [
      "['manzana', 'platano', 'cereza']\n"
     ]
    }
   ],
   "source": [
    "frutas = ['manzana', 'platano', 'cereza']\n",
    "print(frutas)"
   ]
  },
  {
   "cell_type": "markdown",
   "metadata": {},
   "source": [
    "```{note} Características de las listas\n",
    "* **Mutabilidad**: Los elementos de una lista pueden ser modificados después de la creación de la lista\n",
    "* **Ordenadas**: Los elementos de una lista están ordenados y mantienen el orden en el que se añadieron. Su posición lo indica su índice.\n",
    "* Pueden contener **cualquier tipo de dato**: Una lista puede contener elementos de diferentes tipos de datos, como enteros, cadenas, flotantes, u otras listas\n",
    "```"
   ]
  },
  {
   "cell_type": "markdown",
   "metadata": {},
   "source": [
    "## Índices\n",
    "Los elementos (o valores) de una lista se pueden acceder utilizando **índices numéricos**. El índice **¡comienza en 0 para el primer elemento!** y se incrementa de forma consecutiva."
   ]
  },
  {
   "cell_type": "markdown",
   "metadata": {},
   "source": [
    "<img src=https://railsware.com/blog/wp-content/uploads/2018/10/positive-indexes.png>"
   ]
  },
  {
   "cell_type": "markdown",
   "metadata": {},
   "source": [
    "En este caso el valor `red` tiene el índice `0`, el valor `green` tiene el valor `1`, ..."
   ]
  },
  {
   "cell_type": "markdown",
   "metadata": {},
   "source": [
    "Las listas son **mutables**, lo que significa que puedes cambiar su contenido. Por ejemplo, podemos añadir un elemento:"
   ]
  },
  {
   "cell_type": "code",
   "execution_count": 2,
   "metadata": {
    "jupyter": {
     "source_hidden": true
    }
   },
   "outputs": [
    {
     "name": "stdout",
     "output_type": "stream",
     "text": [
      "['manzana', 'platano', 'cereza', 'naranja']\n"
     ]
    }
   ],
   "source": [
    "frutas.append('naranja')  # Podemos agregar un elemento a la lista\n",
    "print(frutas)"
   ]
  },
  {
   "cell_type": "markdown",
   "metadata": {},
   "source": [
    "A continuación, se listan una serie de métodos que aprovechan la **mutabilidad** de las listas."
   ]
  },
  {
   "cell_type": "markdown",
   "metadata": {},
   "source": [
    "## Métodos de manipulación de listas\n",
    "Como se comentó las listas son **mutables**, es decir, pueden modificarse. A continuación, se listan una serie de métodos que aprovechan la mutabilidad de las listas.\n",
    "\n",
    "Empezamos creando una **lista inicial:**"
   ]
  },
  {
   "cell_type": "code",
   "execution_count": 43,
   "metadata": {},
   "outputs": [],
   "source": [
    "listaAnimales = [\"perro\", \"gato\", \"elefante\"]"
   ]
  },
  {
   "cell_type": "markdown",
   "metadata": {},
   "source": [
    "1. **append(elemento)**: Agrega un elemento al final de la lista.   "
   ]
  },
  {
   "cell_type": "code",
   "execution_count": 42,
   "metadata": {
    "scrolled": true
   },
   "outputs": [
    {
     "name": "stdout",
     "output_type": "stream",
     "text": [
      "Después de append: ['perro', 'gato', 'elefante', 'jirafa']\n"
     ]
    }
   ],
   "source": [
    "listaAnimales.append(\"jirafa\")\n",
    "print(\"Después de append:\", listaAnimales)"
   ]
  },
  {
   "cell_type": "markdown",
   "metadata": {},
   "source": [
    "2. **extend(iterable)**: Agrega todos los elementos de un iterable al final de la lista."
   ]
  },
  {
   "cell_type": "code",
   "execution_count": 5,
   "metadata": {},
   "outputs": [
    {
     "name": "stdout",
     "output_type": "stream",
     "text": [
      "Después de extend: ['perro', 'gato', 'elefante', 'jirafa', 'león', 'tigre']\n"
     ]
    }
   ],
   "source": [
    "listaAnimales.extend([\"león\", \"tigre\"])\n",
    "print(\"Después de extend:\", listaAnimales)"
   ]
  },
  {
   "cell_type": "markdown",
   "metadata": {},
   "source": [
    "3. **insert(index, elemento)**: Inserta un elemento en una posición específica de la lista."
   ]
  },
  {
   "cell_type": "code",
   "execution_count": 6,
   "metadata": {},
   "outputs": [
    {
     "name": "stdout",
     "output_type": "stream",
     "text": [
      "Después de insert: ['perro', 'gato', 'zorro', 'elefante', 'jirafa', 'león', 'tigre']\n"
     ]
    }
   ],
   "source": [
    "listaAnimales.insert(2, \"zorro\")  # Inserta \"zorro\" en la posición 2\n",
    "print(\"Después de insert:\", listaAnimales)"
   ]
  },
  {
   "cell_type": "markdown",
   "metadata": {},
   "source": [
    "4. **remove(elemento)**: Elimina la primera aparición de un elemento de la lista."
   ]
  },
  {
   "cell_type": "code",
   "execution_count": 7,
   "metadata": {},
   "outputs": [
    {
     "name": "stdout",
     "output_type": "stream",
     "text": [
      "Después de remove: ['perro', 'gato', 'zorro', 'jirafa', 'león', 'tigre']\n"
     ]
    }
   ],
   "source": [
    "listaAnimales.remove(\"elefante\")\n",
    "print(\"Después de remove:\", listaAnimales) "
   ]
  },
  {
   "cell_type": "markdown",
   "metadata": {},
   "source": [
    "5. **pop(index)**: Elimina y devuelve el elemento en una posición específica de la lista."
   ]
  },
  {
   "cell_type": "code",
   "execution_count": 8,
   "metadata": {},
   "outputs": [
    {
     "name": "stdout",
     "output_type": "stream",
     "text": [
      "Después de pop: ['perro', 'gato', 'zorro', 'león', 'tigre']\n",
      "Elemento eliminado: jirafa\n"
     ]
    }
   ],
   "source": [
    "elemento_eliminado = listaAnimales.pop(3)  # Elimina el elemento en la posición 3\n",
    "print(\"Después de pop:\", listaAnimales)  # Salida: ['perro', 'gato', 'zorro', 'león', 'tigre']\n",
    "print(\"Elemento eliminado:\", elemento_eliminado)  # Salida: 'jirafa'"
   ]
  },
  {
   "cell_type": "markdown",
   "metadata": {},
   "source": [
    "6. **index(elemento)**: Devuelve el índice de la primera aparición de un elemento en la lista."
   ]
  },
  {
   "cell_type": "code",
   "execution_count": 9,
   "metadata": {},
   "outputs": [
    {
     "name": "stdout",
     "output_type": "stream",
     "text": [
      "Índice de 'zorro': 2\n"
     ]
    }
   ],
   "source": [
    "indice = listaAnimales.index(\"zorro\")\n",
    "print(\"Índice de 'zorro':\", indice)  # Salida: 2"
   ]
  },
  {
   "cell_type": "markdown",
   "metadata": {},
   "source": [
    "7. **count(elemento)**: Cuenta la cantidad de veces que un elemento aparece en la lista."
   ]
  },
  {
   "cell_type": "code",
   "execution_count": 10,
   "metadata": {},
   "outputs": [
    {
     "name": "stdout",
     "output_type": "stream",
     "text": [
      "Cantidad de veces que aparece 'perro': 1\n"
     ]
    }
   ],
   "source": [
    "conteo = listaAnimales.count(\"perro\")\n",
    "print(\"Cantidad de veces que aparece 'perro':\", conteo)"
   ]
  },
  {
   "cell_type": "markdown",
   "metadata": {},
   "source": [
    "8. **sort()**: Ordena los elementos de la lista en orden ascendente."
   ]
  },
  {
   "cell_type": "code",
   "execution_count": 11,
   "metadata": {},
   "outputs": [
    {
     "name": "stdout",
     "output_type": "stream",
     "text": [
      " Después de sort:  ['gato', 'león', 'perro', 'tigre', 'zorro']\n"
     ]
    }
   ],
   "source": [
    "listaAnimales.sort()\n",
    "print(\" Después de sort: \", listaAnimales)"
   ]
  },
  {
   "cell_type": "markdown",
   "metadata": {},
   "source": [
    "9. **reverse()**: Invierte el orden de los elementos en la lista."
   ]
  },
  {
   "cell_type": "code",
   "execution_count": 12,
   "metadata": {
    "jupyter": {
     "source_hidden": true
    }
   },
   "outputs": [
    {
     "name": "stdout",
     "output_type": "stream",
     "text": [
      " Después de reverse:  ['zorro', 'tigre', 'perro', 'león', 'gato']\n"
     ]
    }
   ],
   "source": [
    "listaAnimales.reverse()\n",
    "print(\" Después de reverse: \", listaAnimales)"
   ]
  },
  {
   "cell_type": "markdown",
   "metadata": {
    "id": "dlLX1Xk-BNE8"
   },
   "source": [
    "### Otros métodos"
   ]
  },
  {
   "cell_type": "markdown",
   "metadata": {},
   "source": [
    "Empezamos creando una **lista inicial de números**:"
   ]
  },
  {
   "cell_type": "code",
   "execution_count": 13,
   "metadata": {},
   "outputs": [],
   "source": [
    "listaNumeros = [10, 30, 20, 50, 40]"
   ]
  },
  {
   "cell_type": "markdown",
   "metadata": {},
   "source": [
    "1. **sum(lista)**: Suma los elementos en la lista."
   ]
  },
  {
   "cell_type": "code",
   "execution_count": 14,
   "metadata": {},
   "outputs": [
    {
     "name": "stdout",
     "output_type": "stream",
     "text": [
      "Suma de los elementos: 150\n"
     ]
    }
   ],
   "source": [
    "suma_total = sum(listaNumeros)\n",
    "print(\"Suma de los elementos:\", suma_total)"
   ]
  },
  {
   "cell_type": "markdown",
   "metadata": {},
   "source": [
    "2. **min(lista)**: Calcula el mínimo de los elementos de la lista."
   ]
  },
  {
   "cell_type": "code",
   "execution_count": 15,
   "metadata": {},
   "outputs": [
    {
     "name": "stdout",
     "output_type": "stream",
     "text": [
      "Mínimo de los elementos: 10\n"
     ]
    }
   ],
   "source": [
    "minimo = min(listaNumeros)\n",
    "print(\"Mínimo de los elementos:\", minimo)"
   ]
  },
  {
   "cell_type": "markdown",
   "metadata": {},
   "source": [
    "3. **max(lista)**: Calcula el máximo de los elementos de la lista."
   ]
  },
  {
   "cell_type": "code",
   "execution_count": 16,
   "metadata": {},
   "outputs": [
    {
     "name": "stdout",
     "output_type": "stream",
     "text": [
      "Máximo de los elementos: 50\n"
     ]
    }
   ],
   "source": [
    "maximo = max(listaNumeros)\n",
    "print(\"Máximo de los elementos:\", maximo)"
   ]
  },
  {
   "cell_type": "markdown",
   "metadata": {},
   "source": [
    "4. **len(lista)**: Cuenta la cantidad de elementos en la lista."
   ]
  },
  {
   "cell_type": "code",
   "execution_count": 17,
   "metadata": {},
   "outputs": [
    {
     "name": "stdout",
     "output_type": "stream",
     "text": [
      "Cantidad de elementos en la lista: 5\n"
     ]
    }
   ],
   "source": [
    "cantidad_elementos = len(listaNumeros)\n",
    "print(\"Cantidad de elementos en la lista:\", cantidad_elementos)"
   ]
  },
  {
   "cell_type": "markdown",
   "metadata": {},
   "source": [
    "5. **in (lista)**: Comprueba si algo está en una lista. La salida es TRUE o FALSE."
   ]
  },
  {
   "cell_type": "code",
   "execution_count": 18,
   "metadata": {},
   "outputs": [
    {
     "name": "stdout",
     "output_type": "stream",
     "text": [
      "True\n"
     ]
    }
   ],
   "source": [
    "respuesta = 30 in(listaNumeros)\n",
    "print(respuesta)"
   ]
  },
  {
   "cell_type": "code",
   "execution_count": 19,
   "metadata": {},
   "outputs": [
    {
     "name": "stdout",
     "output_type": "stream",
     "text": [
      "False\n"
     ]
    }
   ],
   "source": [
    "respuesta = 31 in(listaNumeros)\n",
    "print(respuesta)"
   ]
  },
  {
   "cell_type": "markdown",
   "metadata": {},
   "source": [
    "## Slices\n",
    "Los **slices** en Python son una herramienta muy útil, que nos permite **extraer porciones de secuencias de elementos** (como listas, tuplas o cadenas) con muy poco código. La sintaxis básica para crear un slice en Python es la siguiente:\n",
    "```python\n",
    "slice[inicio:fin:paso]\n",
    "```"
   ]
  },
  {
   "cell_type": "markdown",
   "metadata": {},
   "source": [
    "```{note} Explicación\n",
    "* inicio: Índice donde comienza el slice (incluido)\n",
    "* fin: Índice donde termina el slice (no incluido)\n",
    "* paso: Tamaño del paso o incremento entre elementos del slice (opcional)\n",
    "```"
   ]
  },
  {
   "cell_type": "markdown",
   "metadata": {},
   "source": [
    "Ejemplo:"
   ]
  },
  {
   "cell_type": "code",
   "execution_count": 20,
   "metadata": {},
   "outputs": [
    {
     "name": "stdout",
     "output_type": "stream",
     "text": [
      "['cereza', 'dátil', 'naranja']\n"
     ]
    }
   ],
   "source": [
    "# Definimos una lista de frutas\n",
    "listaFrutas = [\"manzana\", \"banana\", \"cereza\", \"dátil\", \"naranja\", \"uva\"]\n",
    "\n",
    "# Realizamos un slicing de la lista\n",
    "# - Comenzamos en el índice 2 (que es \"cereza\")\n",
    "# - Terminamos en el índice 5 (sin incluir \"uva\")\n",
    "# - El paso es 1, lo que significa que tomamos cada elemento en el rango\n",
    "sliceFrutas = listaFrutas[2:5:1]\n",
    "\n",
    "# Imprimimos la sublista resultante\n",
    "print(sliceFrutas)  # Esto mostrará: ['cereza', 'dátil', ' naranja']"
   ]
  },
  {
   "cell_type": "markdown",
   "metadata": {},
   "source": [
    "### Consideraciones especiales\n",
    "#### Omisión de valores\n",
    "Podemos omitir uno, varios, o incluso todos los parámetros del Slice. Este se comportará distinto cada omisión."
   ]
  },
  {
   "cell_type": "markdown",
   "metadata": {},
   "source": [
    "```{admonition} Si no especificamos...\n",
    ":class:tip\n",
    "* El inicio, el slice comenzará desde el primer elemento. `lista[x:]`\n",
    "* El fin, el slice terminará en el último elemento.  `lista[:x]`\n",
    "* El paso, el slice usará un paso de 1\n",
    "```"
   ]
  },
  {
   "cell_type": "code",
   "execution_count": 21,
   "metadata": {},
   "outputs": [
    {
     "name": "stdout",
     "output_type": "stream",
     "text": [
      "['dátil', 'naranja', 'uva']\n",
      "['manzana', 'banana', 'cereza']\n"
     ]
    }
   ],
   "source": [
    "listaFrutas = [\"manzana\", \"banana\", \"cereza\", \"dátil\", \"naranja\", \"uva\"]\n",
    "\n",
    "primeros_salvo_tres = listaFrutas[3:]  # Extrae los elementos del 3 al final\n",
    "primeros_tres = listaFrutas[:3]  # Extrae los tres primeros elementos\n",
    "\n",
    "print(primeros_salvo_tres)\n",
    "print(primeros_tres)"
   ]
  },
  {
   "cell_type": "markdown",
   "metadata": {},
   "source": [
    "#### Uso de índices negativos\n",
    "\n",
    "Python permite usar **índices negativos** para referirse a elementos relativos final de la secuencia (en lugar que desde el principio). Parece un poco complicado, y al principio lía un poco. Veamos algún ejemplo:"
   ]
  },
  {
   "cell_type": "code",
   "execution_count": 22,
   "metadata": {},
   "outputs": [
    {
     "name": "stdout",
     "output_type": "stream",
     "text": [
      "['dátil', 'naranja', 'uva']\n",
      "['manzana', 'banana', 'cereza']\n"
     ]
    }
   ],
   "source": [
    "listaFrutas = [\"manzana\", \"banana\", \"cereza\", \"dátil\", \"naranja\", \"uva\"]\n",
    "\n",
    "ultimos_tres = listaFrutas[-3:]  # Extrae los últimos tres elementos\n",
    "primeros_salvo_tres = listaFrutas[:-3]  # Extrae los elementos, salvo los tres últimos\n",
    "\n",
    "print(ultimos_tres)\n",
    "print(primeros_salvo_tres)\n"
   ]
  },
  {
   "cell_type": "markdown",
   "metadata": {
    "id": "6JDXMMjQD8SY"
   },
   "source": [
    "## 2. Tuplas\n",
    "Una **tupla** es una *colección ordenada de elementos*, similar a una lista.\n",
    "\n",
    "La diferencia significativa es que las tuplas son **inmutables**. Esto significa que una vez que se crea una tupla, no puedes cambiar su contenido. Las tuplas están encerradas entre paréntesis `( )`."
   ]
  },
  {
   "cell_type": "code",
   "execution_count": 23,
   "metadata": {
    "colab": {
     "base_uri": "https://localhost:8080/"
    },
    "id": "dXXpk7tyFRAy",
    "jupyter": {
     "source_hidden": true
    },
    "outputId": "fd4b7899-4437-4cbd-be61-00f90f2ad734"
   },
   "outputs": [
    {
     "name": "stdout",
     "output_type": "stream",
     "text": [
      "('manzana', 'plátano', 'cereza')\n",
      "plátano\n"
     ]
    }
   ],
   "source": [
    "tupla_frutas = ('manzana', 'plátano', 'cereza')\n",
    "print(tupla_frutas)\n",
    "\n",
    "print(tupla_frutas[1])  # Salida: 'plátano'"
   ]
  },
  {
   "cell_type": "markdown",
   "metadata": {
    "id": "eNqa8_LVFijm"
   },
   "source": [
    "### 2.1. Métodos aplicables a las tuplas\n",
    "Las tuplas son **inmutables**, por lo que no tienen métodos que agreguen o eliminen elementos. Sin embargo, tienen dos métodos:"
   ]
  },
  {
   "cell_type": "code",
   "execution_count": 24,
   "metadata": {
    "jupyter": {
     "source_hidden": true
    }
   },
   "outputs": [],
   "source": [
    "tuplaFrutas = ('manzana', 'plátano', 'cereza', 'plátano')"
   ]
  },
  {
   "cell_type": "markdown",
   "metadata": {
    "id": "eNqa8_LVFijm"
   },
   "source": [
    "1. **count(elemento)**: Devuelve el número de veces que un valor ocurre en una tupla."
   ]
  },
  {
   "cell_type": "code",
   "execution_count": 25,
   "metadata": {
    "jupyter": {
     "source_hidden": true
    }
   },
   "outputs": [
    {
     "data": {
      "text/plain": [
       "2"
      ]
     },
     "execution_count": 25,
     "metadata": {},
     "output_type": "execute_result"
    }
   ],
   "source": [
    "tuplaFrutas.count('plátano')"
   ]
  },
  {
   "cell_type": "markdown",
   "metadata": {
    "id": "eNqa8_LVFijm"
   },
   "source": [
    "2. **index(elemento)**: Devuelve el primer índice en el cual un valor ocurre en una tupla."
   ]
  },
  {
   "cell_type": "code",
   "execution_count": 26,
   "metadata": {
    "id": "eNqa8_LVFijm",
    "jupyter": {
     "source_hidden": true
    }
   },
   "outputs": [
    {
     "data": {
      "text/plain": [
       "2"
      ]
     },
     "execution_count": 26,
     "metadata": {},
     "output_type": "execute_result"
    }
   ],
   "source": [
    "tuplaFrutas.index('cereza')"
   ]
  },
  {
   "cell_type": "code",
   "execution_count": 27,
   "metadata": {
    "id": "eNqa8_LVFijm",
    "jupyter": {
     "source_hidden": true
    }
   },
   "outputs": [
    {
     "name": "stdout",
     "output_type": "stream",
     "text": [
      "En la tupla, María aparece 2 veces y el índice de Sara es el 2\n"
     ]
    }
   ],
   "source": [
    "# Ejemplo\n",
    "\n",
    "tuplaNombres = (\"Alberto\", \"María\", \"Sara\", \"Julián\", \"María\")\n",
    "conteo = tuplaNombres.count(\"María\")\n",
    "indice = tuplaNombres.index(\"Sara\")\n",
    "\n",
    "\n",
    "print(f\"En la tupla, María aparece {conteo} veces y el índice de Sara es el {indice}\")"
   ]
  },
  {
   "cell_type": "markdown",
   "metadata": {
    "id": "1wm8YiBKBqUv"
   },
   "source": [
    "## 3. Conjuntos / Sets\n",
    "Un conjunto es una colección no ordenada de elementos únicos. Son útiles cuando quieres llevar un registro de una colección de elementos, pero no te importa su orden, no te preocupan los duplicados y deseas realizar operaciones de conjuntos como unión e intersección.\n",
    "\n",
    "Los conjuntos están encerrados en llaves `{ }`. Por lo que su notación luce similar a los conjuntos de matemáticas (ejemplo: $A=\\{1,2,3\\}$ )"
   ]
  },
  {
   "cell_type": "code",
   "execution_count": 28,
   "metadata": {
    "colab": {
     "base_uri": "https://localhost:8080/"
    },
    "id": "F2dGL2zvB6Yu",
    "outputId": "4dc7d834-12e8-4db2-99f7-e11ea4ed848b"
   },
   "outputs": [
    {
     "name": "stdout",
     "output_type": "stream",
     "text": [
      "{'plátano', 'manzana', 'cereza'}\n"
     ]
    }
   ],
   "source": [
    "conjunto_frutas = {'manzana', 'plátano', 'cereza', 'manzana'}\n",
    "print(conjunto_frutas)  # Output: {'cereza', 'plátano', 'manzana'} (se eliminan los duplicados, el orden puede variar)"
   ]
  },
  {
   "cell_type": "markdown",
   "metadata": {
    "id": "jYI7B8aUCB5r"
   },
   "source": [
    "### Métodos de manipulación de conjuntos\n",
    "* add(elemento): Agrega un elemento al conjunto.\n",
    "* remove(elemento): Elimina un elemento del conjunto. Lanza un KeyError si el elemento no se encuentra.\n",
    "* discard(elemento): Elimina un elemento del conjunto si está presente.\n",
    "* pop(): Elimina y devuelve un elemento arbitrario del conjunto. Lanza un KeyError si el conjunto está vacío.\n",
    "* clear(): Elimina todos los elementos del conjunto.\n",
    "* union(otro_conjunto): Devuelve un nuevo conjunto con elementos del conjunto y todos los demás.\n",
    "* union(): Devuelve un nuevo conjunto con los elementos que están en ambos conjuntos\n",
    "* intersection(otro_conjunto): Devuelve un nuevo conjunto con elementos comunes al conjunto y todos los demás.\n",
    "* difference(otro_conjunto): Devuelve un nuevo conjunto con elementos en el conjunto que no están en los demás."
   ]
  },
  {
   "cell_type": "markdown",
   "metadata": {
    "id": "Mz_gA5GFD52P"
   },
   "source": [
    "## 3. Diccionarios\n",
    "\n",
    "Un **diccionario** es una colección no ordenada de **pares clave-valor**, donde cada **clave** debe ser **única**. Este tipo de datos es útil para almacenar relaciones entre pares de datos.\n",
    "\n",
    "Los diccionarios también están encerrados en llaves `{ }`, pero se distinguen por el uso de dos puntos : para separar las **claves** y los **valores**."
   ]
  },
  {
   "cell_type": "markdown",
   "metadata": {},
   "source": [
    "<img src=https://www.programiz.com/sites/tutorial2program/files/python_dictionary-example.png>"
   ]
  },
  {
   "cell_type": "code",
   "execution_count": 29,
   "metadata": {
    "colab": {
     "base_uri": "https://localhost:8080/"
    },
    "id": "sRCfJnHnD6of",
    "outputId": "a7fd3716-842e-4677-f7d6-ab2a170f1072"
   },
   "outputs": [
    {
     "name": "stdout",
     "output_type": "stream",
     "text": [
      "Londres\n"
     ]
    }
   ],
   "source": [
    "pais_capital = {'Alemania': 'Berlín',\n",
    "                 'Canada': 'Otawa',\n",
    "                 'Reino Unido': 'Londres'}\n",
    "# Para llamar la información en una llave debe usar la siguiente estructura diccionario[\"llave\"]\n",
    "print(pais_capital['Reino Unido'])  # Salida: 'Londres'"
   ]
  },
  {
   "cell_type": "markdown",
   "metadata": {},
   "source": [
    "### Métodos de manipulación de diccionarios"
   ]
  },
  {
   "cell_type": "code",
   "execution_count": 30,
   "metadata": {},
   "outputs": [],
   "source": [
    "# Crear un diccionario de países y sus poblaciones\n",
    "pais_poblacion = {\n",
    "    'China': 1444216107,\n",
    "    'India': 1393409038,\n",
    "    'Estados Unidos': 331002651,\n",
    "    'Indonesia': 273523615,\n",
    "    'Pakistán': 225199937\n",
    "}"
   ]
  },
  {
   "cell_type": "markdown",
   "metadata": {},
   "source": [
    "1. **keys()**: Devuelve una nueva vista de las claves del diccionario."
   ]
  },
  {
   "cell_type": "code",
   "execution_count": 31,
   "metadata": {},
   "outputs": [
    {
     "name": "stdout",
     "output_type": "stream",
     "text": [
      "Claves del diccionario (países): dict_keys(['China', 'India', 'Estados Unidos', 'Indonesia', 'Pakistán'])\n"
     ]
    }
   ],
   "source": [
    "claves = pais_poblacion.keys()\n",
    "print(\"Claves del diccionario (países):\", claves)\n",
    "# Salida: dict_keys(['China', 'India', 'Estados Unidos', 'Indonesia', 'Pakistán'])"
   ]
  },
  {
   "cell_type": "markdown",
   "metadata": {},
   "source": [
    "2. **values()**: Devuelve una nueva vista de los valores del diccionario."
   ]
  },
  {
   "cell_type": "code",
   "execution_count": 32,
   "metadata": {},
   "outputs": [
    {
     "name": "stdout",
     "output_type": "stream",
     "text": [
      "Valores del diccionario (poblaciones): dict_values([1444216107, 1393409038, 331002651, 273523615, 225199937])\n"
     ]
    }
   ],
   "source": [
    "valores = pais_poblacion.values()\n",
    "print(\"Valores del diccionario (poblaciones):\", valores) \n",
    "# Salida: dict_values([1444216107, 1393409038, 331002651, 273523615, 225199937])"
   ]
  },
  {
   "cell_type": "markdown",
   "metadata": {},
   "source": [
    "3. **items()**: Devuelve una nueva vista de los elementos del diccionario (pares clave: valor)."
   ]
  },
  {
   "cell_type": "code",
   "execution_count": 33,
   "metadata": {},
   "outputs": [
    {
     "name": "stdout",
     "output_type": "stream",
     "text": [
      "Elementos del diccionario (país, población): dict_items([('China', 1444216107), ('India', 1393409038), ('Estados Unidos', 331002651), ('Indonesia', 273523615), ('Pakistán', 225199937)])\n"
     ]
    }
   ],
   "source": [
    "elementos = pais_poblacion.items()\n",
    "print(\"Elementos del diccionario (país, población):\", elementos)  \n",
    "# Salida: dict_items([('China', 1444216107), ('India', 1393409038), ('Estados Unidos', 331002651), ('Indonesia', 273523615), ('Pakistán', 225199937)])"
   ]
  },
  {
   "cell_type": "markdown",
   "metadata": {},
   "source": [
    "4. **get(clave, por_defecto)**: Devuelve el valor para clave si la clave está en el diccionario, de lo contrario devuelve por_defecto."
   ]
  },
  {
   "cell_type": "code",
   "execution_count": 34,
   "metadata": {},
   "outputs": [
    {
     "name": "stdout",
     "output_type": "stream",
     "text": [
      "Población de India: 1393409038\n"
     ]
    }
   ],
   "source": [
    "poblacion_india = pais_poblacion.get('India', 'No disponible')\n",
    "print(\"Población de India:\", poblacion_india)  # Salida: 1393409038"
   ]
  },
  {
   "cell_type": "code",
   "execution_count": 35,
   "metadata": {},
   "outputs": [
    {
     "name": "stdout",
     "output_type": "stream",
     "text": [
      "Población de Brasil: No disponible\n"
     ]
    }
   ],
   "source": [
    "# Intentar obtener una clave que no existe\n",
    "poblacion_brasil = pais_poblacion.get('Brasil', 'No disponible')\n",
    "print(\"Población de Brasil:\", poblacion_brasil)  # Salida: 'No disponible'"
   ]
  },
  {
   "cell_type": "code",
   "execution_count": null,
   "metadata": {},
   "outputs": [],
   "source": []
  },
  {
   "cell_type": "markdown",
   "metadata": {},
   "source": [
    "5. **update(clave:valor_actualizar)**: Actualiza el diccionario con los pares clave/valor entre paréntesis, sobrescribiendo las claves existentes o actualizándolas si ya existen."
   ]
  },
  {
   "cell_type": "code",
   "execution_count": 36,
   "metadata": {},
   "outputs": [
    {
     "name": "stdout",
     "output_type": "stream",
     "text": [
      "Diccionario después de update: {'China': 1444216107, 'India': 1393409038, 'Estados Unidos': 331002651, 'Indonesia': 273523615, 'Pakistán': 230000000, 'Brasil': 212559417}\n"
     ]
    }
   ],
   "source": [
    "pais_poblacion.update({'Brasil': 212559417, 'Pakistán': 230000000}) \n",
    "# Agrega Brasil y actualiza la población de Pakistán\n",
    "print(\"Diccionario después de update:\", pais_poblacion)  \n",
    "# Salida: {'China': 1444216107, 'India': 1393409038, 'Estados Unidos': 331002651, 'Indonesia': 273523615, 'Pakistán': 230000000, 'Brasil': 212559417}"
   ]
  },
  {
   "cell_type": "markdown",
   "metadata": {},
   "source": [
    "6. **pop(clave)**: Elimina y devuelve el valor para clave si la clave está en el diccionario"
   ]
  },
  {
   "cell_type": "code",
   "execution_count": 37,
   "metadata": {},
   "outputs": [
    {
     "name": "stdout",
     "output_type": "stream",
     "text": [
      "Diccionario después de pop: {'India': 1393409038, 'Estados Unidos': 331002651, 'Indonesia': 273523615, 'Pakistán': 230000000, 'Brasil': 212559417}\n",
      "Población de China eliminada: 1444216107\n"
     ]
    }
   ],
   "source": [
    "poblacion_china = pais_poblacion.pop('China')\n",
    "print(\"Diccionario después de pop:\", pais_poblacion) \n",
    "print(\"Población de China eliminada:\", poblacion_china)  # Salida: 1444216107\n",
    " \n",
    "# Salida: {'India': 1393409038, 'Estados Unidos': 331002651, 'Indonesia': 273523615, 'Pakistán': 230000000, 'Brasil': 212559417}"
   ]
  },
  {
   "cell_type": "markdown",
   "metadata": {
    "id": "FqFz0mAMEYYo"
   },
   "source": [
    "## Como evitar la confusion con los conjuntos\n",
    "Tanto los diccionarios como los conjuntos se declaran usando corchetes `{ }`, por lo que en el caso que declares un diccionario o conjunto vacio luego puedes generar una confusion. En tal caso, puedes declarar los diccionarios y conjuntos de modo explicito de esta manera"
   ]
  },
  {
   "cell_type": "code",
   "execution_count": 38,
   "metadata": {
    "id": "AvIPvAecFU0U"
   },
   "outputs": [],
   "source": [
    "miConjunto = set()\n",
    "miDiccionario = dict()"
   ]
  },
  {
   "cell_type": "markdown",
   "metadata": {
    "id": "QEXyDiatGsAO"
   },
   "source": [
    "## Apéndice A: Tabla comparativa\n",
    "\n",
    "| Característica               | Listas                 | Diccionarios                     | Conjuntos                                | Tuplas                |\n",
    "|:----------------------------:|:----------------------:|:--------------------------------:|:----------------------------------------:|:---------------------:|\n",
    "| **Orden**                     | Ordenado               | No ordenado                     | No ordenado                              | Ordenado              |\n",
    "| **Tipo de dato**              | Secuencia              | Mapeo                            | Conjunto                                 | Secuencia             |\n",
    "| **Sintaxis**                  | [ ]                    | { clave : valor }                | { elemento1, elemento2 }                 | ( )                   |\n",
    "| **Mutabilidad**               | Mutable                | Mutable (claves inmutables)      | Mutable                                  | Inmutable             |\n",
    "| **Duplicados**                | Permite                | No permite (claves)              | No permite                               | Permite               |\n",
    "| **Búsqueda por índice**       | Sí                     | No (búsqueda por clave)          | No                                       | Sí                    |\n",
    "| **Búsqueda por valor**        | Sí                     | Sí (búsqueda de valores)         | Sí                                       | Sí                    |\n",
    "| **Métodos principales**       | append, extend, remove | keys, values, items, get, update | add, remove, discard, union, intersection| count, index          |\n",
    "| **Uso común**                 | Almacenar secuencias   | Almacenar pares clave-valor      | Almacenar colecciones sin duplicados     | Almacenar registros inmutables |\n"
   ]
  },
  {
   "cell_type": "code",
   "execution_count": null,
   "metadata": {},
   "outputs": [],
   "source": []
  },
  {
   "cell_type": "markdown",
   "metadata": {
    "id": "hmsNDtgPISQY"
   },
   "source": [
    "## Caso práctico: Eligiendo una estructura de datos\n",
    "Suponga que usted fue elegido como asesor del código de una empresa y se encuentra con que la empresa almacena la información de sus productos de la siguiente manera"
   ]
  },
  {
   "cell_type": "code",
   "execution_count": 39,
   "metadata": {
    "id": "Ebdu1WJbIog_"
   },
   "outputs": [],
   "source": [
    "productos = [\"Armarios\", \"Mesas\", \"Camas\"]\n",
    "stock = [100, 50, 75]\n",
    "precios = [990, 590, 490]"
   ]
  },
  {
   "cell_type": "markdown",
   "metadata": {
    "id": "cBYdVapwI57c"
   },
   "source": [
    "¿Cuál sería una mejor manera de almacenar datos? ¿por qué eligió esa manera?"
   ]
  },
  {
   "cell_type": "markdown",
   "metadata": {
    "id": "ui66awsUI_qu"
   },
   "source": [
    "### Solución\n",
    "Se ha optado por crear un **diccionario anidado**, o sea, un diccionario dentro de otro"
   ]
  },
  {
   "cell_type": "code",
   "execution_count": 40,
   "metadata": {
    "id": "I_ACUctkJD35"
   },
   "outputs": [],
   "source": [
    "# Diccionario para almacenar datos de productos\n",
    "muebles_info = {\n",
    "    \"Armarios\": {\"stock\": 100, \"precio\": 990},\n",
    "    \"Mesas\": {\"stock\": 50, \"precio\": 590},\n",
    "    \"Camas\": {\"stock\": 75, \"precio\": 490}\n",
    "}"
   ]
  },
  {
   "cell_type": "markdown",
   "metadata": {
    "id": "9hWS-Nv-JKaH"
   },
   "source": [
    "Esto es mejor por las siguientes razones:\n",
    "* Integridad de datos: si eliminas un ítem en el diccionario, también eliminarás el resto de los datos relacionados con ese producto.\n",
    "* Consistencia: todo está \"adjunto\" al mismo producto, así que si cambias un índice, todo también se moverá.\n",
    "* Te ves obligado a agregar todos los datos relacionados de un producto.\n",
    "* Sin duplicados: Los diccionarios tienen claves no duplicadas, por lo que puedes estar seguro de que solo hay un registro por producto.\n",
    "* Legibilidad: Es más legible. `base[\"Producto B\"][\"stock\"]` es mejor que `producto[1]` `stock[1]`."
   ]
  }
 ],
 "metadata": {
  "colab": {
   "provenance": []
  },
  "kernelspec": {
   "display_name": "Python 3 (ipykernel)",
   "language": "python",
   "name": "python3"
  },
  "language_info": {
   "codemirror_mode": {
    "name": "ipython",
    "version": 3
   },
   "file_extension": ".py",
   "mimetype": "text/x-python",
   "name": "python",
   "nbconvert_exporter": "python",
   "pygments_lexer": "ipython3",
   "version": "3.12.8"
  }
 },
 "nbformat": 4,
 "nbformat_minor": 4
}
