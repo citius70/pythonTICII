{
 "cells": [
  {
   "cell_type": "markdown",
   "id": "6ab8a9d2-ba28-4bbb-84af-e149e5905f49",
   "metadata": {},
   "source": [
    "# Operaciones matemáticas"
   ]
  },
  {
   "cell_type": "markdown",
   "id": "d9bcc12a-7cb6-474e-94a7-80f228421a44",
   "metadata": {},
   "source": [
    "## 3. Operaciones matemáticas\n",
    "Hay varios operadores que te permiten realizar operaciones matemáticas básicas:\n",
    "\n",
    "1. **Suma (`+`)**: Este operador suma dos números. Por ejemplo, 5 + 3 es igual a 8.\n",
    "2. **Resta (`-`)**: Este operador resta el segundo número del primero. Por ejemplo, 10 - 7 es igual a 3.\n",
    "3. **Multiplicación (`*`)**: Este operador multiplica dos números. Por ejemplo, 2 * 3 es igual a 6.\n",
    "4. **División (`/`)**: Este operador divide el primer número entre el segundo. Por ejemplo, 10 / 2 es igual a 5.\n",
    "5. **Módulo (`%`)**: Este operador da el residuo de una división. Por ejemplo, 10 % 3 es igual a 1 porque 10 dividido por 3 deja un residuo de 1.\n",
    "6.  **Exponenciación (`**`)**: Este operador eleva al primer número el seguundo. Por ejemplo, 2**3 es igual a 8 porque 2 elevado a la potencia de 3 es\n",
    "7.  De modo alternativo, se puede usar la función **pow**, ve un ejemplo en el código más abajo."
   ]
  },
  {
   "cell_type": "code",
   "execution_count": 1,
   "id": "4f6f0e38-90ee-4854-809d-5802fca9ff1b",
   "metadata": {},
   "outputs": [],
   "source": [
    "NumA = 2\n",
    "NumB = 3"
   ]
  },
  {
   "cell_type": "code",
   "execution_count": 2,
   "id": "5865d0e1-430c-4a39-b754-806892df90bc",
   "metadata": {},
   "outputs": [
    {
     "data": {
      "text/plain": [
       "5"
      ]
     },
     "execution_count": 2,
     "metadata": {},
     "output_type": "execute_result"
    }
   ],
   "source": [
    "# Suma\n",
    "NumB + NumA # output: 5"
   ]
  },
  {
   "cell_type": "code",
   "execution_count": 3,
   "id": "3ac597b1-d1c1-447d-9d39-8bbea0bb0abf",
   "metadata": {},
   "outputs": [
    {
     "data": {
      "text/plain": [
       "1"
      ]
     },
     "execution_count": 3,
     "metadata": {},
     "output_type": "execute_result"
    }
   ],
   "source": [
    "# Resta\n",
    "NumB - NumA # output: 1"
   ]
  },
  {
   "cell_type": "code",
   "execution_count": 4,
   "id": "12cfa390-d1c5-4af9-bb8b-412b7c454556",
   "metadata": {},
   "outputs": [
    {
     "data": {
      "text/plain": [
       "6"
      ]
     },
     "execution_count": 4,
     "metadata": {},
     "output_type": "execute_result"
    }
   ],
   "source": [
    "# Multiplicación\n",
    "NumB * NumA # output: 6"
   ]
  },
  {
   "cell_type": "code",
   "execution_count": 5,
   "id": "bb54e951-5e4e-431a-917e-275f27f00ebb",
   "metadata": {},
   "outputs": [
    {
     "data": {
      "text/plain": [
       "1.5"
      ]
     },
     "execution_count": 5,
     "metadata": {},
     "output_type": "execute_result"
    }
   ],
   "source": [
    "# Division\n",
    "NumB / NumA # output : 1.5"
   ]
  },
  {
   "cell_type": "code",
   "execution_count": 6,
   "id": "1950b9b9-f1ca-4753-8a9a-b9dbaf21ba2c",
   "metadata": {},
   "outputs": [
    {
     "data": {
      "text/plain": [
       "1"
      ]
     },
     "execution_count": 6,
     "metadata": {},
     "output_type": "execute_result"
    }
   ],
   "source": [
    "# Modulo\n",
    "NumB % NumA # output: 1"
   ]
  },
  {
   "cell_type": "code",
   "execution_count": 7,
   "id": "3c3f60e8-f9a2-4920-a81a-6a632051bdf3",
   "metadata": {},
   "outputs": [
    {
     "data": {
      "text/plain": [
       "9"
      ]
     },
     "execution_count": 7,
     "metadata": {},
     "output_type": "execute_result"
    }
   ],
   "source": [
    "# Exponenciación\n",
    "NumB**NumA # output 9"
   ]
  },
  {
   "cell_type": "code",
   "execution_count": 8,
   "id": "d444851b-a3c2-4349-87ca-5e7b260562fa",
   "metadata": {},
   "outputs": [
    {
     "data": {
      "text/plain": [
       "9"
      ]
     },
     "execution_count": 8,
     "metadata": {},
     "output_type": "execute_result"
    }
   ],
   "source": [
    "# Exponenciación con pow()\n",
    "pow(NumB, NumA) # output 9"
   ]
  }
 ],
 "metadata": {
  "kernelspec": {
   "display_name": "Python 3 (ipykernel)",
   "language": "python",
   "name": "python3"
  },
  "language_info": {
   "codemirror_mode": {
    "name": "ipython",
    "version": 3
   },
   "file_extension": ".py",
   "mimetype": "text/x-python",
   "name": "python",
   "nbconvert_exporter": "python",
   "pygments_lexer": "ipython3",
   "version": "3.12.8"
  }
 },
 "nbformat": 4,
 "nbformat_minor": 5
}
