{
 "cells": [
  {
   "cell_type": "markdown",
   "id": "d26fb62b-1a09-486c-88bc-e8de98b0a2ad",
   "metadata": {},
   "source": [
    "# Ejercicios sobre la función print en Python\n",
    "\n",
    "En este notebook, practicarás el uso de la función `print` en Python. La función `print` se utiliza para mostrar información en la consola."
   ]
  },
  {
   "cell_type": "markdown",
   "id": "10d41aa5-fe54-4987-ab52-4234ed69fe08",
   "metadata": {},
   "source": [
    "## Ejercicio 1: Imprimir un mensaje simple\n",
    "\n",
    "Usa la función `print` para mostrar el mensaje **\"¡Hola, mundo!\"** en la consola."
   ]
  },
  {
   "cell_type": "code",
   "execution_count": 1,
   "id": "929e353b-e6cc-4181-ae90-753412c94037",
   "metadata": {},
   "outputs": [],
   "source": [
    "# Escribe el código aquí"
   ]
  },
  {
   "cell_type": "markdown",
   "id": "5c047905-a8a3-4fc0-b049-a260dd8b3396",
   "metadata": {},
   "source": [
    "## Ejercicio 2: Imprimir múltiples valores\n",
    "Usa la función `print` para mostrar tu **nombre** y tu **edad** en la consola. Por ejemplo, \"Mi nombre es Juan y tengo 25 años\"."
   ]
  },
  {
   "cell_type": "code",
   "execution_count": 2,
   "id": "4cd7721e-1def-4b72-9c26-642300300afe",
   "metadata": {},
   "outputs": [],
   "source": [
    "# Escribe el código aquí\n",
    "# Almacena tu nombre en la variable name\n",
    "\n",
    "# Almacena tu nombre en la variable age\n",
    "\n",
    "# Utiliza la función print para mostrar la frase completa. Pista: print(\"Mi nommbre es\", name, ..........)\n"
   ]
  },
  {
   "cell_type": "markdown",
   "id": "6673dcad-d6e1-4222-92a4-273b2108676d",
   "metadata": {},
   "source": [
    "## Ejercicio 3: Imprimir con formato\n",
    "Usa la función `print` para mostrar un mensaje que incluya variables utilizando **f-strings**. Por ejemplo, \"El área de un círculo con radio 5 es ....\"."
   ]
  },
  {
   "cell_type": "code",
   "execution_count": 3,
   "id": "d108bdbf-e3d8-463e-aaff-6e51391e4da5",
   "metadata": {},
   "outputs": [],
   "source": [
    "# Asignar el valor del radio del círculo\n",
    "\n",
    "# Asignar el valor de pi (número irracional)\n",
    "\n",
    "# Calcular el área del círculo usando la fórmula A = π * r^2\n",
    "\n",
    "# Imprimir el resultado en un formato legible utilizando f-strings\n"
   ]
  },
  {
   "cell_type": "markdown",
   "id": "3e3df0d2-d45d-4662-a1c8-45a93168f999",
   "metadata": {},
   "source": [
    "## Ejercicio 4: Imprimir en varias líneas\n",
    "Usa la función `print` para mostrar un mensaje en varias líneas. Imprime los **cuatro primeros versos de \"La canción del pirata\" de Espronceda** en líneas distintas."
   ]
  },
  {
   "cell_type": "code",
   "execution_count": 4,
   "id": "56ded66a-64f1-4705-89f9-c9be5c1af5ab",
   "metadata": {},
   "outputs": [],
   "source": [
    "# Escribe el código aquí"
   ]
  },
  {
   "cell_type": "markdown",
   "id": "3433a810-78b1-4fe6-8784-1c7f20fb93f9",
   "metadata": {},
   "source": [
    "## Ejercicio 5: Imprimir listas\n",
    "Crea una **lista de frutas** y usa la función `print` para mostrarla."
   ]
  },
  {
   "cell_type": "code",
   "execution_count": 5,
   "id": "c9f6bfe9-f80a-4441-bba8-add04fd88958",
   "metadata": {},
   "outputs": [],
   "source": [
    "# Escribe el código aquí"
   ]
  }
 ],
 "metadata": {
  "kernelspec": {
   "display_name": "Python 3 (ipykernel)",
   "language": "python",
   "name": "python3"
  },
  "language_info": {
   "codemirror_mode": {
    "name": "ipython",
    "version": 3
   },
   "file_extension": ".py",
   "mimetype": "text/x-python",
   "name": "python",
   "nbconvert_exporter": "python",
   "pygments_lexer": "ipython3",
   "version": "3.12.8"
  }
 },
 "nbformat": 4,
 "nbformat_minor": 5
}
