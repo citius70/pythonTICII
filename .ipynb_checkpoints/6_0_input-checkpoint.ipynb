{
 "cells": [
  {
   "cell_type": "markdown",
   "metadata": {
    "id": "nqgMAc5CTyQp"
   },
   "source": [
    "# La función Input()\n",
    "La función **input** en Python es una función incorporada que se utiliza para leer una línea de texto del ingreso del usuario (típicamente desde el teclado). Esta función **espera que el usuario escriba alguna entrada y presione enter**.\n",
    "\n",
    "He aquí un ejemplo simple:"
   ]
  },
  {
   "cell_type": "code",
   "execution_count": 1,
   "metadata": {
    "colab": {
     "base_uri": "https://localhost:8080/"
    },
    "id": "4sYjUoSKT62M",
    "outputId": "e4820d39-f1d0-4549-eb42-692ccef3b76e"
   },
   "outputs": [
    {
     "name": "stdin",
     "output_type": "stream",
     "text": [
      "¿Cuál es tu nombre?  gert\n"
     ]
    },
    {
     "name": "stdout",
     "output_type": "stream",
     "text": [
      "gert\n"
     ]
    }
   ],
   "source": [
    "name = input(\"¿Cuál es tu nombre? \")\n",
    "print(name)"
   ]
  },
  {
   "cell_type": "markdown",
   "metadata": {
    "id": "16iE-goxVaWL"
   },
   "source": [
    "En este código, `input(\"¿Cuál es tu nombre? \")` imprime la cadena \"¿Cuál es tu nombre? \" en la consola y luego espera que el usuario escriba algo. Lo que el usuario escriba es devuelto por la función input como una cadena, y en este caso se está almacenando en la variable `name`.\n",
    "\n",
    "Después de que el usuario escribe su nombre y presiona enter, el programa continúa con la siguiente línea, que imprime el valor de la variable `name`."
   ]
  },
  {
   "cell_type": "markdown",
   "metadata": {
    "id": "16iE-goxVaWL"
   },
   "source": [
    "**¡Importante!** Es importante destacar que la **función input siempre devuelve una cadena de texto**. Si deseas usar la entrada como un entero o un flotante (por ejemplo, si estás pidiendo al usuario que introduzca un número), necesitarás convertir el valor devuelto al tipo deseado utilizando la función `int()` o `float()`, así:"
   ]
  },
  {
   "cell_type": "code",
   "execution_count": 2,
   "metadata": {
    "colab": {
     "base_uri": "https://localhost:8080/"
    },
    "id": "gRufLDAZVpiY",
    "outputId": "87ca4a05-5484-4930-83b2-0e60a45b03d4"
   },
   "outputs": [
    {
     "name": "stdin",
     "output_type": "stream",
     "text": [
      "¿Cuántos años tienes?  45\n"
     ]
    },
    {
     "name": "stdout",
     "output_type": "stream",
     "text": [
      "El próximo año tendrás 46\n"
     ]
    }
   ],
   "source": [
    "age = int(input(\"¿Cuántos años tienes? \"))\n",
    "print(\"El próximo año tendrás\", age + 1)"
   ]
  },
  {
   "cell_type": "markdown",
   "metadata": {
    "id": "jaMnBuU-VsX6"
   },
   "source": [
    "En este código, `int(input(\"¿Cuántos años tienes? \"))` pide al usuario que introduzca su edad, luego convierte su entrada de una cadena a un entero. Esto permite al programa hacer aritmética con la edad del usuario, como sumar 1 para calcular su edad el próximo año."
   ]
  },
  {
   "cell_type": "markdown",
   "metadata": {},
   "source": [
    "Otro ejemplo típico es pedir al usuario que introduzca varios números para después mostrar el resultado de alguna operación matemática. Fíjate en como hay que transformar el valor que devuelve input en entero (int) o decimal (float)."
   ]
  },
  {
   "cell_type": "code",
   "execution_count": 3,
   "metadata": {},
   "outputs": [
    {
     "name": "stdin",
     "output_type": "stream",
     "text": [
      "Introduzca el primer número?  45\n",
      "Introduzca el segundo número?  45\n"
     ]
    },
    {
     "name": "stdout",
     "output_type": "stream",
     "text": [
      "90\n"
     ]
    }
   ],
   "source": [
    "numA = int(input(\"Introduzca el primer número: \"))\n",
    "numB = int(input(\"Introduzca el segundo número: \"))\n",
    "sum = numA + numB\n",
    "print(sum)"
   ]
  }
 ],
 "metadata": {
  "colab": {
   "provenance": [],
   "toc_visible": true
  },
  "kernelspec": {
   "display_name": "Python 3 (ipykernel)",
   "language": "python",
   "name": "python3"
  },
  "language_info": {
   "codemirror_mode": {
    "name": "ipython",
    "version": 3
   },
   "file_extension": ".py",
   "mimetype": "text/x-python",
   "name": "python",
   "nbconvert_exporter": "python",
   "pygments_lexer": "ipython3",
   "version": "3.12.8"
  }
 },
 "nbformat": 4,
 "nbformat_minor": 4
}
