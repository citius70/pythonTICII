{
 "cells": [
  {
   "cell_type": "markdown",
   "id": "fb0fb931-9473-4303-ac81-9421e92f8327",
   "metadata": {},
   "source": [
    "# Ejercicios sobre el bucle for"
   ]
  },
  {
   "cell_type": "markdown",
   "id": "bfa57e41-0688-4ba4-86d6-c17b166e813b",
   "metadata": {},
   "source": [
    "## Ejercicio Resuelto: Imprimir Números del 1 al 10\n",
    "Escribe un programa que imprima los números del 1 al 10 utilizando un bucle `for`.\n",
    "\n",
    "```python\n",
    "# Imprimir números del 1 al 10\n",
    "for numero in range(1, 11):\n",
    "    print(numero)"
   ]
  },
  {
   "cell_type": "markdown",
   "id": "bb718d66-1db8-4e5a-9645-532c0e00b36b",
   "metadata": {},
   "source": [
    "## Ejercicio 1: Imprimir Números del 5 al 12\n",
    "Escribe un programa que imprima los números del 5 al 12 utilizando un bucle `for`.\n"
   ]
  },
  {
   "cell_type": "code",
   "execution_count": 1,
   "id": "c5ee2c0d-b2e2-4194-9e9f-51928acaf3dd",
   "metadata": {},
   "outputs": [],
   "source": [
    "# Imprimir números del 5 al 12"
   ]
  },
  {
   "cell_type": "markdown",
   "id": "b9e2189b-bcc8-4911-b12b-54234972c3a5",
   "metadata": {},
   "source": [
    "## Ejercicio 2: Imprimir una Lista\n",
    "Escribe un programa que tenga una lista de frutas y use un bucle for para imprimir cada fruta en la lista."
   ]
  },
  {
   "cell_type": "code",
   "execution_count": 2,
   "id": "d4d7c206-4900-4520-ac86-114a8b4f2a12",
   "metadata": {},
   "outputs": [],
   "source": [
    "# Lista de frutas\n",
    "\n",
    "# Imprimir cada fruta en la lista\n"
   ]
  },
  {
   "cell_type": "markdown",
   "id": "1fc1017c-1253-4772-8023-f653406d59f3",
   "metadata": {},
   "source": [
    "## Ejercicio 3: Tabla de Multiplicar\n",
    "Escribe un programa que pida al usuario un número y luego imprima la tabla de multiplicar de ese número del 1 al 10.\n"
   ]
  },
  {
   "cell_type": "code",
   "execution_count": 3,
   "id": "75d6d336-4fd3-44d1-9736-6c02f7d7cb2f",
   "metadata": {},
   "outputs": [],
   "source": [
    "# Solicitar un número al usuario\n",
    "\n",
    "\n",
    "# Imprimir la tabla de multiplicar\n"
   ]
  },
  {
   "cell_type": "markdown",
   "id": "2e2459d4-eb62-407b-81af-fabacbc25c50",
   "metadata": {},
   "source": [
    "## Ejercicio 4: Contar Vocales\n",
    "Escribe un programa que pida al usuario una frase y cuente cuántas vocales hay en ella utilizando un bucle for."
   ]
  },
  {
   "cell_type": "code",
   "execution_count": 4,
   "id": "3f0c7013-c936-4134-b059-82971cd634c9",
   "metadata": {},
   "outputs": [],
   "source": [
    "# Solicitar una frase al usuario\n",
    "\n",
    "\n",
    "# Contar las vocales\n",
    "\n",
    "\n",
    "\n",
    "# Imprimir el resultado\n"
   ]
  }
 ],
 "metadata": {
  "kernelspec": {
   "display_name": "Python 3 (ipykernel)",
   "language": "python",
   "name": "python3"
  },
  "language_info": {
   "codemirror_mode": {
    "name": "ipython",
    "version": 3
   },
   "file_extension": ".py",
   "mimetype": "text/x-python",
   "name": "python",
   "nbconvert_exporter": "python",
   "pygments_lexer": "ipython3",
   "version": "3.12.8"
  }
 },
 "nbformat": 4,
 "nbformat_minor": 5
}
