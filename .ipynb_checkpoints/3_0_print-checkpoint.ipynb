{
  "nbformat": 4,
  "nbformat_minor": 0,
  "metadata": {
    "colab": {
      "provenance": [],
      "toc_visible": true
    },
    "kernelspec": {
      "name": "python3",
      "display_name": "Python 3"
    },
    "language_info": {
      "name": "python"
    }
  },
  "cells": [
    {
      "cell_type": "markdown",
      "source": [
        "![picture](https://drive.google.com/uc?id=1t85VSkuEnCm-X8egDjib0GMTGZT0LM3c)\n",
        "\n",
        "# Introducción a Python parte 2\n",
        "Preparado por Sebastián Cisterna para EvoAcademy\n",
        "\n",
        "En este documento veremos las funciones `print()`, `input()`, que son las funciones, entre otros\n",
        "\n",
        "Revisa las otras partes en\n",
        "www.evoacademy.cl/tag/aprende-a-programar/"
      ],
      "metadata": {
        "id": "r2FoVtLdls_O"
      }
    },
    {
      "cell_type": "markdown",
      "source": [
        "## Comentarios\n",
        "En Python, los comentarios se usan para explicar el código cuando el código básico no se explica por sí mismo. Python ignora los comentarios, por lo que no ejecutará el código que contienen.\n",
        "\n",
        "Los comentarios pueden usarse para hacer el código más legible para las personas y son una buena práctica, especialmente cuando el código se vuelve complejo.\n",
        "\n",
        "Hay dos maneras de escribir comentarios en Python:"
      ],
      "metadata": {
        "id": "EyDQJOa1ExBq"
      }
    },
    {
      "cell_type": "markdown",
      "source": [
        "### Comentarios de Una Línea\n",
        "Los comentarios de una línea se crean utilizando el carácter de almohadilla o *hashtag* (#). Todo lo que esté a la derecha del # será ignorado por Python. Aquí hay un ejemplo:"
      ],
      "metadata": {
        "id": "pD52HH-CE6gd"
      }
    },
    {
      "cell_type": "code",
      "source": [
        "# Esto es un comentario\n",
        "myNum = 3 # Esto tambien es un comentrio"
      ],
      "metadata": {
        "id": "h8d8N2_nE5Z3"
      },
      "execution_count": null,
      "outputs": []
    },
    {
      "cell_type": "markdown",
      "source": [
        "Notese que en el compilador, los comentarios suelen ser distinguidos con el color verde"
      ],
      "metadata": {
        "id": "EeY4-jVAFM6D"
      }
    },
    {
      "cell_type": "markdown",
      "source": [
        "## Comentarios multi linea\n",
        "Si tienes comentarios que abarcan varias líneas, una manera de hacerlo es usar el carácter de almohadilla (#) al inicio de cada línea:"
      ],
      "metadata": {
        "id": "SmSOoCktFXN5"
      }
    },
    {
      "cell_type": "code",
      "source": [
        "# Este es un comentario largo\n",
        "# y se extiende\n",
        "# a múltiples líneas"
      ],
      "metadata": {
        "id": "bkPqEiPIFg4e"
      },
      "execution_count": null,
      "outputs": []
    },
    {
      "cell_type": "markdown",
      "source": [
        "Otra forma de hacer esto es usar triple comillas"
      ],
      "metadata": {
        "id": "AcQn0EByFk6W"
      }
    },
    {
      "cell_type": "code",
      "source": [
        "\"\"\"\n",
        "Este es un comentario más largo\n",
        "que abarca múltiples líneas\n",
        "\"\"\""
      ],
      "metadata": {
        "id": "FZcCfDUGFm6W"
      },
      "execution_count": null,
      "outputs": []
    },
    {
      "cell_type": "markdown",
      "source": [
        "## La Función Print\n",
        "La función print en Python es una función incorporada que \"envía salida a la consola\". En lenguaje no técnico, significa que se utiliza para mostrar información al usuario.\n",
        "\n",
        "Así es cómo puedes usar la función print:"
      ],
      "metadata": {
        "id": "pYWMeBnYEwYh"
      }
    },
    {
      "cell_type": "code",
      "source": [
        "print(\"¡Hola, Mundo!\")"
      ],
      "metadata": {
        "colab": {
          "base_uri": "https://localhost:8080/"
        },
        "id": "l2hVh29TEv64",
        "outputId": "87e3def1-7637-4695-f858-9db2660c0c40"
      },
      "execution_count": null,
      "outputs": [
        {
          "output_type": "stream",
          "name": "stdout",
          "text": [
            "¡Hola, Mundo!\n"
          ]
        }
      ]
    },
    {
      "cell_type": "markdown",
      "source": [
        "Esto mostrará: \"¡Hola, Mundo!\".\n",
        "\n",
        "También puedes usar la función print para imprimir el valor de las variables:"
      ],
      "metadata": {
        "id": "-DyVenUOIuqe"
      }
    },
    {
      "cell_type": "code",
      "source": [
        "x = 10\n",
        "print(\"El valor de x es\", x)"
      ],
      "metadata": {
        "id": "8j37Jj-XIuDI"
      },
      "execution_count": null,
      "outputs": []
    },
    {
      "cell_type": "markdown",
      "source": [
        "También puedes usar algo llamado \"f-strings\", que te permitirá introducir la variable en cualquier lugar que desees dentro de la cadena / string"
      ],
      "metadata": {
        "id": "9NFgYXjQI1A4"
      }
    },
    {
      "cell_type": "code",
      "source": [
        "tuNombre = \"Sebastian\"\n",
        "\n",
        "print(f\"hola, {tuNombre}\")"
      ],
      "metadata": {
        "colab": {
          "base_uri": "https://localhost:8080/"
        },
        "id": "TXQoPSHdI_gU",
        "outputId": "af56f36b-ed8e-4f62-d7bc-6ba286ca1bfc"
      },
      "execution_count": null,
      "outputs": [
        {
          "output_type": "stream",
          "name": "stdout",
          "text": [
            "hola, Sebastian\n"
          ]
        }
      ]
    },
    {
      "cell_type": "markdown",
      "source": [
        "Esto es lo que está pasando:\n",
        "\n",
        "`f\"hola, {tuNombre}\"` : Esto es un f-string, un tipo de cadena literal que comienza con la letra f o F antes de la comilla de apertura. Dentro de un f-string, puedes incluir expresiones dentro de {} (llaves) que serán reemplazadas por sus valores cuando se crea la cadena. En este caso, `{tuNombre}` será reemplazado por el valor de la variable tuNombre.\n",
        "\n",
        "`print(f\"hola, {tuNombre}\")` : Esta línea imprime el f-string. Si tuNombre fuera \"Daniela\", imprimiría hola, Daniela.\n",
        "\n",
        "Por lo tanto, esta línea de código es una manera de imprimir una cadena que incluye el valor de la variable tuNombre. La ventaja de los f-strings es que a menudo son más legibles y concisos que otras formas de formatear cadenas en Python, especialmente cuando estás trabajando con múltiples variables o expresiones más complejas.\n",
        "\n",
        "Por ejemplo:"
      ],
      "metadata": {
        "id": "E2Jf2kn2I45G"
      }
    },
    {
      "cell_type": "code",
      "source": [
        "name = \"Alicia\"\n",
        "age = 25\n",
        "city = \"Nueva York\"\n",
        "\n",
        "greeting = f\"Hola, mi nombre es {name}, tengo {age} años y vivo en {city}.\"\n",
        "\n",
        "print(greeting)"
      ],
      "metadata": {
        "colab": {
          "base_uri": "https://localhost:8080/"
        },
        "id": "tYtPoV9HSYuW",
        "outputId": "bb78a921-b894-49e3-f728-8c1b647cf4e1"
      },
      "execution_count": null,
      "outputs": [
        {
          "output_type": "stream",
          "name": "stdout",
          "text": [
            "Hola, mi nombre es Alicia, tengo 25 años y vivo en Nueva York.\n"
          ]
        }
      ]
    },
    {
      "cell_type": "markdown",
      "source": [
        "Cuando ejecutes este código, imprimirá:\n",
        "Hola, mi nombre es Alicia, tengo 25 años y vivo en Nueva York."
      ],
      "metadata": {
        "id": "hpAdUwy3Scvz"
      }
    },
    {
      "cell_type": "markdown",
      "source": [
        "## La función input\n",
        "La función input en Python es una función incorporada que se utiliza para leer una línea de texto del ingreso del usuario (típicamente desde el teclado). Esta función espera que el usuario escriba alguna entrada y presione enter.\n",
        "\n",
        "He aquí un ejemplo simple:\n",
        "\n"
      ],
      "metadata": {
        "id": "nqgMAc5CTyQp"
      }
    },
    {
      "cell_type": "code",
      "source": [
        "name = input(\"¿Cuál es tu nombre? \")\n",
        "print(\"¡Hola, \" + name + \"!\")"
      ],
      "metadata": {
        "colab": {
          "base_uri": "https://localhost:8080/"
        },
        "id": "4sYjUoSKT62M",
        "outputId": "e4820d39-f1d0-4549-eb42-692ccef3b76e"
      },
      "execution_count": null,
      "outputs": [
        {
          "output_type": "stream",
          "name": "stdout",
          "text": [
            "¿Cuál es tu nombre? Seba\n",
            "¡Hola, Seba!\n"
          ]
        }
      ]
    },
    {
      "cell_type": "markdown",
      "source": [
        "En este código, `input(\"¿Cuál es tu nombre? \")` imprime la cadena \"¿Cuál es tu nombre? \" en la consola y luego espera que el usuario escriba algo. Lo que el usuario escriba es devuelto por la función input como una cadena, y en este caso se está almacenando en la variable name.\n",
        "\n",
        "Después de que el usuario escribe su nombre y presiona enter, el programa continúa con la siguiente línea, que imprime \"¡Hola, \" seguido del nombre del usuario.\n",
        "\n",
        "Es importante destacar que la función input siempre devuelve una cadena. Si deseas usar la entrada como un entero o un flotante (por ejemplo, si estás pidiendo al usuario que introduzca un número), necesitarás convertir el valor devuelto al tipo deseado utilizando la función `int()` o `float()`, así:"
      ],
      "metadata": {
        "id": "16iE-goxVaWL"
      }
    },
    {
      "cell_type": "code",
      "source": [
        "age = int(input(\"¿Cuántos años tienes? \"))\n",
        "print(\"El próximo año tendrás\", age + 1)"
      ],
      "metadata": {
        "colab": {
          "base_uri": "https://localhost:8080/"
        },
        "id": "gRufLDAZVpiY",
        "outputId": "87ca4a05-5484-4930-83b2-0e60a45b03d4"
      },
      "execution_count": null,
      "outputs": [
        {
          "output_type": "stream",
          "name": "stdout",
          "text": [
            "¿Cuántos años tienes? 34\n",
            "El próximo año tendrás 35\n"
          ]
        }
      ]
    },
    {
      "cell_type": "markdown",
      "source": [
        "En este código, `int(input(\"¿Cuántos años tienes? \"))` pide al usuario que introduzca su edad, luego convierte su entrada de una cadena a un entero. Esto permite al programa hacer aritmética con la edad del usuario, como sumar 1 para calcular su edad el próximo año."
      ],
      "metadata": {
        "id": "jaMnBuU-VsX6"
      }
    },
    {
      "cell_type": "markdown",
      "source": [
        "## Funciones\n",
        "En programación, **una función es un bloque de código reutilizable que realiza una tarea específica**. Las funciones proporcionan una mejor modularidad para tu aplicación y permiten una alta reutilización del código. Puedes pensar en ellas como una forma de empaquetar código que deseas usar repetidamente, o una manera de descomponer tareas complejas en partes más pequeñas y manejables.\n",
        "\n",
        "Por ejemplo, anteriormente hemos utilizado la función `print()`, `input()`, `int()`, entre otras para hacer tareas especificas pero en contextos diferentes.\n",
        "\n",
        "En Python, defines una función usando la palabra clave def. Aquí hay un ejemplo de una función simple que suma dos números:"
      ],
      "metadata": {
        "id": "nK5mobeVV8hd"
      }
    },
    {
      "cell_type": "code",
      "source": [
        "def add_numbers(a, b):\n",
        "    return a + b"
      ],
      "metadata": {
        "id": "dFMLPwPlV87c"
      },
      "execution_count": null,
      "outputs": []
    },
    {
      "cell_type": "markdown",
      "source": [
        "En este ejemplo, add_numbers es el **nombre** de la función. Los valores dentro de los paréntesis (a y b) son los **parámetros o argumentos** de la función. Estos son los valores que la función necesita para realizar su tarea. La palabra clave return se utiliza para especificar el resultado que la función debe producir.\n",
        "\n",
        "Llamas o invocas a la función usando su nombre seguido de paréntesis, pasando los valores para los parámetros. Así es como llamarías a la función add_numbers con los números 2 y 3 como argumentos:"
      ],
      "metadata": {
        "id": "LmtDyf3OWyEW"
      }
    },
    {
      "cell_type": "code",
      "source": [
        "result = add_numbers(2, 3)\n",
        "print(result)  # Output: 5"
      ],
      "metadata": {
        "colab": {
          "base_uri": "https://localhost:8080/"
        },
        "id": "fWmaZArIXAuS",
        "outputId": "9af4f61f-767e-428c-e661-ee0934c2819d"
      },
      "execution_count": null,
      "outputs": [
        {
          "output_type": "stream",
          "name": "stdout",
          "text": [
            "5\n"
          ]
        }
      ]
    },
    {
      "cell_type": "markdown",
      "source": [
        "Además de las funciones definidas por el usuario como el ejemplo anterior, Python también proporciona una amplia gama de funciones integradas como `print()`, `len()`, `type()`, etc. Introduciremos una gran cantidad de funciones durante este curso."
      ],
      "metadata": {
        "id": "i9xX7rRQXE0L"
      }
    },
    {
      "cell_type": "markdown",
      "source": [
        "---\n",
        "# Síguenos en nuestras redes:\n",
        "- TikTok: https://www.tiktok.com/@evoacdm\n",
        "- Instagram: https://www.instagram.com/evoacdm/\n",
        "- LinkedIn: https://www.linkedin.com/company/evoacmd/\n",
        "- YouTube: https://www.youtube.com/@evoacdm"
      ],
      "metadata": {
        "id": "f35YjJvyl6b2"
      }
    }
  ]
}