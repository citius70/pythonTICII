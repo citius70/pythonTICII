{
 "cells": [
  {
   "cell_type": "markdown",
   "id": "dfe899bb-5967-44ae-8c4f-d8b84b7ab874",
   "metadata": {},
   "source": [
    "# Flujos de control\n",
    "Los flujos de control en Python son estructuras que permiten dirigir la ejecución del código según condiciones o repeticiones. Esto incluye declaraciones como: \n",
    "* if, else, elif: ejecuta un código si se cumple una condición.\n",
    "* for: repite un código un número determinado de veces.\n",
    "* while. repite un código mientras se cumple una condición.\n",
    "\n",
    "Vamos a analizarlas en los próximos capítulos."
   ]
  },
  {
   "cell_type": "code",
   "execution_count": null,
   "id": "5dd49f4a-0f2a-49c3-af59-c43efae8ad6b",
   "metadata": {},
   "outputs": [],
   "source": []
  }
 ],
 "metadata": {
  "kernelspec": {
   "display_name": "Python 3 (ipykernel)",
   "language": "python",
   "name": "python3"
  },
  "language_info": {
   "codemirror_mode": {
    "name": "ipython",
    "version": 3
   },
   "file_extension": ".py",
   "mimetype": "text/x-python",
   "name": "python",
   "nbconvert_exporter": "python",
   "pygments_lexer": "ipython3",
   "version": "3.12.8"
  }
 },
 "nbformat": 4,
 "nbformat_minor": 5
}
